{
 "cells": [
  {
   "cell_type": "code",
   "execution_count": 75,
   "metadata": {},
   "outputs": [
    {
     "data": {
      "text/html": [
       "<div>\n",
       "<style scoped>\n",
       "    .dataframe tbody tr th:only-of-type {\n",
       "        vertical-align: middle;\n",
       "    }\n",
       "\n",
       "    .dataframe tbody tr th {\n",
       "        vertical-align: top;\n",
       "    }\n",
       "\n",
       "    .dataframe thead th {\n",
       "        text-align: right;\n",
       "    }\n",
       "</style>\n",
       "<table border=\"1\" class=\"dataframe\">\n",
       "  <thead>\n",
       "    <tr style=\"text-align: right;\">\n",
       "      <th></th>\n",
       "      <th>Unnamed: 0</th>\n",
       "      <th>fecha</th>\n",
       "      <th>descrip</th>\n",
       "      <th>prediccion</th>\n",
       "      <th>mes</th>\n",
       "    </tr>\n",
       "  </thead>\n",
       "  <tbody>\n",
       "    <tr>\n",
       "      <th>0</th>\n",
       "      <td>0</td>\n",
       "      <td>2023-09-01</td>\n",
       "      <td>ACCESORIO CINTA TAPIZADO - 2 - VERDE</td>\n",
       "      <td>396.327721</td>\n",
       "      <td>9</td>\n",
       "    </tr>\n",
       "    <tr>\n",
       "      <th>1</th>\n",
       "      <td>1</td>\n",
       "      <td>2023-10-01</td>\n",
       "      <td>ACCESORIO CINTA TAPIZADO - 2 - VERDE</td>\n",
       "      <td>427.473172</td>\n",
       "      <td>10</td>\n",
       "    </tr>\n",
       "    <tr>\n",
       "      <th>2</th>\n",
       "      <td>2</td>\n",
       "      <td>2023-11-01</td>\n",
       "      <td>ACCESORIO CINTA TAPIZADO - 2 - VERDE</td>\n",
       "      <td>435.373667</td>\n",
       "      <td>11</td>\n",
       "    </tr>\n",
       "    <tr>\n",
       "      <th>3</th>\n",
       "      <td>3</td>\n",
       "      <td>2023-12-01</td>\n",
       "      <td>ACCESORIO CINTA TAPIZADO - 2 - VERDE</td>\n",
       "      <td>437.377742</td>\n",
       "      <td>12</td>\n",
       "    </tr>\n",
       "    <tr>\n",
       "      <th>4</th>\n",
       "      <td>4</td>\n",
       "      <td>2024-01-01</td>\n",
       "      <td>ACCESORIO CINTA TAPIZADO - 2 - VERDE</td>\n",
       "      <td>437.886104</td>\n",
       "      <td>1</td>\n",
       "    </tr>\n",
       "  </tbody>\n",
       "</table>\n",
       "</div>"
      ],
      "text/plain": [
       "   Unnamed: 0       fecha                               descrip  prediccion   \n",
       "0           0  2023-09-01  ACCESORIO CINTA TAPIZADO - 2 - VERDE  396.327721  \\\n",
       "1           1  2023-10-01  ACCESORIO CINTA TAPIZADO - 2 - VERDE  427.473172   \n",
       "2           2  2023-11-01  ACCESORIO CINTA TAPIZADO - 2 - VERDE  435.373667   \n",
       "3           3  2023-12-01  ACCESORIO CINTA TAPIZADO - 2 - VERDE  437.377742   \n",
       "4           4  2024-01-01  ACCESORIO CINTA TAPIZADO - 2 - VERDE  437.886104   \n",
       "\n",
       "   mes  \n",
       "0    9  \n",
       "1   10  \n",
       "2   11  \n",
       "3   12  \n",
       "4    1  "
      ]
     },
     "execution_count": 75,
     "metadata": {},
     "output_type": "execute_result"
    }
   ],
   "source": [
    "import pandas as pd\n",
    "df = pd.read_csv(\"predicciones_con_las_sucursales_y_el_nombre_color.csv\")\n",
    "df.head(5)"
   ]
  },
  {
   "cell_type": "code",
   "execution_count": 76,
   "metadata": {},
   "outputs": [],
   "source": [
    "def asignar_temporada(mes):\n",
    "    if mes in [4, 5, 6, 7, 8, 9]:\n",
    "        return \"Otoño-Invierno\"\n",
    "    elif mes in [10, 11, 12, 1, 2, 3]:\n",
    "        return \"Primavera-Verano\"\n",
    "\n",
    "# Aplicar la función 'asignar_temporada' a la columna 'mes' para crear la nueva columna 'temporada'\n",
    "df['temporada'] = df['mes'].apply(asignar_temporada)"
   ]
  },
  {
   "cell_type": "code",
   "execution_count": 77,
   "metadata": {},
   "outputs": [
    {
     "data": {
      "text/html": [
       "<div>\n",
       "<style scoped>\n",
       "    .dataframe tbody tr th:only-of-type {\n",
       "        vertical-align: middle;\n",
       "    }\n",
       "\n",
       "    .dataframe tbody tr th {\n",
       "        vertical-align: top;\n",
       "    }\n",
       "\n",
       "    .dataframe thead th {\n",
       "        text-align: right;\n",
       "    }\n",
       "</style>\n",
       "<table border=\"1\" class=\"dataframe\">\n",
       "  <thead>\n",
       "    <tr style=\"text-align: right;\">\n",
       "      <th></th>\n",
       "      <th>fecha</th>\n",
       "      <th>descrip</th>\n",
       "      <th>prediccion</th>\n",
       "      <th>mes</th>\n",
       "      <th>temporada</th>\n",
       "    </tr>\n",
       "  </thead>\n",
       "  <tbody>\n",
       "    <tr>\n",
       "      <th>0</th>\n",
       "      <td>2023-09-01</td>\n",
       "      <td>ACCESORIO CINTA TAPIZADO - 2 - VERDE</td>\n",
       "      <td>396.327721</td>\n",
       "      <td>9</td>\n",
       "      <td>Otoño-Invierno</td>\n",
       "    </tr>\n",
       "    <tr>\n",
       "      <th>1</th>\n",
       "      <td>2023-10-01</td>\n",
       "      <td>ACCESORIO CINTA TAPIZADO - 2 - VERDE</td>\n",
       "      <td>427.473172</td>\n",
       "      <td>10</td>\n",
       "      <td>Primavera-Verano</td>\n",
       "    </tr>\n",
       "    <tr>\n",
       "      <th>2</th>\n",
       "      <td>2023-11-01</td>\n",
       "      <td>ACCESORIO CINTA TAPIZADO - 2 - VERDE</td>\n",
       "      <td>435.373667</td>\n",
       "      <td>11</td>\n",
       "      <td>Primavera-Verano</td>\n",
       "    </tr>\n",
       "    <tr>\n",
       "      <th>3</th>\n",
       "      <td>2023-12-01</td>\n",
       "      <td>ACCESORIO CINTA TAPIZADO - 2 - VERDE</td>\n",
       "      <td>437.377742</td>\n",
       "      <td>12</td>\n",
       "      <td>Primavera-Verano</td>\n",
       "    </tr>\n",
       "    <tr>\n",
       "      <th>4</th>\n",
       "      <td>2024-01-01</td>\n",
       "      <td>ACCESORIO CINTA TAPIZADO - 2 - VERDE</td>\n",
       "      <td>437.886104</td>\n",
       "      <td>1</td>\n",
       "      <td>Primavera-Verano</td>\n",
       "    </tr>\n",
       "    <tr>\n",
       "      <th>...</th>\n",
       "      <td>...</td>\n",
       "      <td>...</td>\n",
       "      <td>...</td>\n",
       "      <td>...</td>\n",
       "      <td>...</td>\n",
       "    </tr>\n",
       "    <tr>\n",
       "      <th>147948</th>\n",
       "      <td>2024-05-01</td>\n",
       "      <td>POLAR INFANTIL - 4 - ROJO MARTE</td>\n",
       "      <td>7.430165</td>\n",
       "      <td>5</td>\n",
       "      <td>Otoño-Invierno</td>\n",
       "    </tr>\n",
       "    <tr>\n",
       "      <th>147949</th>\n",
       "      <td>2024-06-01</td>\n",
       "      <td>POLAR INFANTIL - 4 - ROJO MARTE</td>\n",
       "      <td>7.430153</td>\n",
       "      <td>6</td>\n",
       "      <td>Otoño-Invierno</td>\n",
       "    </tr>\n",
       "    <tr>\n",
       "      <th>147950</th>\n",
       "      <td>2024-07-01</td>\n",
       "      <td>POLAR INFANTIL - 4 - ROJO MARTE</td>\n",
       "      <td>7.430155</td>\n",
       "      <td>7</td>\n",
       "      <td>Otoño-Invierno</td>\n",
       "    </tr>\n",
       "    <tr>\n",
       "      <th>147951</th>\n",
       "      <td>2024-08-01</td>\n",
       "      <td>POLAR INFANTIL - 4 - ROJO MARTE</td>\n",
       "      <td>7.430155</td>\n",
       "      <td>8</td>\n",
       "      <td>Otoño-Invierno</td>\n",
       "    </tr>\n",
       "    <tr>\n",
       "      <th>147952</th>\n",
       "      <td>2024-09-01</td>\n",
       "      <td>POLAR INFANTIL - 4 - ROJO MARTE</td>\n",
       "      <td>7.430155</td>\n",
       "      <td>9</td>\n",
       "      <td>Otoño-Invierno</td>\n",
       "    </tr>\n",
       "  </tbody>\n",
       "</table>\n",
       "<p>147953 rows × 5 columns</p>\n",
       "</div>"
      ],
      "text/plain": [
       "             fecha                               descrip  prediccion  mes   \n",
       "0       2023-09-01  ACCESORIO CINTA TAPIZADO - 2 - VERDE  396.327721    9  \\\n",
       "1       2023-10-01  ACCESORIO CINTA TAPIZADO - 2 - VERDE  427.473172   10   \n",
       "2       2023-11-01  ACCESORIO CINTA TAPIZADO - 2 - VERDE  435.373667   11   \n",
       "3       2023-12-01  ACCESORIO CINTA TAPIZADO - 2 - VERDE  437.377742   12   \n",
       "4       2024-01-01  ACCESORIO CINTA TAPIZADO - 2 - VERDE  437.886104    1   \n",
       "...            ...                                   ...         ...  ...   \n",
       "147948  2024-05-01       POLAR INFANTIL - 4 - ROJO MARTE    7.430165    5   \n",
       "147949  2024-06-01       POLAR INFANTIL - 4 - ROJO MARTE    7.430153    6   \n",
       "147950  2024-07-01       POLAR INFANTIL - 4 - ROJO MARTE    7.430155    7   \n",
       "147951  2024-08-01       POLAR INFANTIL - 4 - ROJO MARTE    7.430155    8   \n",
       "147952  2024-09-01       POLAR INFANTIL - 4 - ROJO MARTE    7.430155    9   \n",
       "\n",
       "               temporada  \n",
       "0         Otoño-Invierno  \n",
       "1       Primavera-Verano  \n",
       "2       Primavera-Verano  \n",
       "3       Primavera-Verano  \n",
       "4       Primavera-Verano  \n",
       "...                  ...  \n",
       "147948    Otoño-Invierno  \n",
       "147949    Otoño-Invierno  \n",
       "147950    Otoño-Invierno  \n",
       "147951    Otoño-Invierno  \n",
       "147952    Otoño-Invierno  \n",
       "\n",
       "[147953 rows x 5 columns]"
      ]
     },
     "execution_count": 77,
     "metadata": {},
     "output_type": "execute_result"
    }
   ],
   "source": [
    "df = df.iloc[:,1:]\n",
    "df\n"
   ]
  },
  {
   "cell_type": "code",
   "execution_count": 78,
   "metadata": {},
   "outputs": [],
   "source": [
    "# Dividir la columna 'descrip' en varias columnas\n",
    "df[['nombre_producto', 'numero_sucursal', 'color']] = df['descrip'].str.split(' - ', expand=True)\n",
    "\n",
    "# Eliminar la columna original 'descrip'\n",
    "df = df.drop('descrip', axis=1)"
   ]
  },
  {
   "cell_type": "code",
   "execution_count": 79,
   "metadata": {},
   "outputs": [
    {
     "data": {
      "text/html": [
       "<div>\n",
       "<style scoped>\n",
       "    .dataframe tbody tr th:only-of-type {\n",
       "        vertical-align: middle;\n",
       "    }\n",
       "\n",
       "    .dataframe tbody tr th {\n",
       "        vertical-align: top;\n",
       "    }\n",
       "\n",
       "    .dataframe thead th {\n",
       "        text-align: right;\n",
       "    }\n",
       "</style>\n",
       "<table border=\"1\" class=\"dataframe\">\n",
       "  <thead>\n",
       "    <tr style=\"text-align: right;\">\n",
       "      <th></th>\n",
       "      <th>fecha</th>\n",
       "      <th>prediccion</th>\n",
       "      <th>mes</th>\n",
       "      <th>temporada</th>\n",
       "      <th>nombre_producto</th>\n",
       "      <th>numero_sucursal</th>\n",
       "      <th>color</th>\n",
       "    </tr>\n",
       "  </thead>\n",
       "  <tbody>\n",
       "    <tr>\n",
       "      <th>0</th>\n",
       "      <td>2023-09-01</td>\n",
       "      <td>396.327721</td>\n",
       "      <td>9</td>\n",
       "      <td>Otoño-Invierno</td>\n",
       "      <td>ACCESORIO CINTA TAPIZADO</td>\n",
       "      <td>2</td>\n",
       "      <td>VERDE</td>\n",
       "    </tr>\n",
       "    <tr>\n",
       "      <th>1</th>\n",
       "      <td>2023-10-01</td>\n",
       "      <td>427.473172</td>\n",
       "      <td>10</td>\n",
       "      <td>Primavera-Verano</td>\n",
       "      <td>ACCESORIO CINTA TAPIZADO</td>\n",
       "      <td>2</td>\n",
       "      <td>VERDE</td>\n",
       "    </tr>\n",
       "    <tr>\n",
       "      <th>2</th>\n",
       "      <td>2023-11-01</td>\n",
       "      <td>435.373667</td>\n",
       "      <td>11</td>\n",
       "      <td>Primavera-Verano</td>\n",
       "      <td>ACCESORIO CINTA TAPIZADO</td>\n",
       "      <td>2</td>\n",
       "      <td>VERDE</td>\n",
       "    </tr>\n",
       "    <tr>\n",
       "      <th>3</th>\n",
       "      <td>2023-12-01</td>\n",
       "      <td>437.377742</td>\n",
       "      <td>12</td>\n",
       "      <td>Primavera-Verano</td>\n",
       "      <td>ACCESORIO CINTA TAPIZADO</td>\n",
       "      <td>2</td>\n",
       "      <td>VERDE</td>\n",
       "    </tr>\n",
       "    <tr>\n",
       "      <th>4</th>\n",
       "      <td>2024-01-01</td>\n",
       "      <td>437.886104</td>\n",
       "      <td>1</td>\n",
       "      <td>Primavera-Verano</td>\n",
       "      <td>ACCESORIO CINTA TAPIZADO</td>\n",
       "      <td>2</td>\n",
       "      <td>VERDE</td>\n",
       "    </tr>\n",
       "    <tr>\n",
       "      <th>...</th>\n",
       "      <td>...</td>\n",
       "      <td>...</td>\n",
       "      <td>...</td>\n",
       "      <td>...</td>\n",
       "      <td>...</td>\n",
       "      <td>...</td>\n",
       "      <td>...</td>\n",
       "    </tr>\n",
       "    <tr>\n",
       "      <th>147948</th>\n",
       "      <td>2024-05-01</td>\n",
       "      <td>7.430165</td>\n",
       "      <td>5</td>\n",
       "      <td>Otoño-Invierno</td>\n",
       "      <td>POLAR INFANTIL</td>\n",
       "      <td>4</td>\n",
       "      <td>ROJO MARTE</td>\n",
       "    </tr>\n",
       "    <tr>\n",
       "      <th>147949</th>\n",
       "      <td>2024-06-01</td>\n",
       "      <td>7.430153</td>\n",
       "      <td>6</td>\n",
       "      <td>Otoño-Invierno</td>\n",
       "      <td>POLAR INFANTIL</td>\n",
       "      <td>4</td>\n",
       "      <td>ROJO MARTE</td>\n",
       "    </tr>\n",
       "    <tr>\n",
       "      <th>147950</th>\n",
       "      <td>2024-07-01</td>\n",
       "      <td>7.430155</td>\n",
       "      <td>7</td>\n",
       "      <td>Otoño-Invierno</td>\n",
       "      <td>POLAR INFANTIL</td>\n",
       "      <td>4</td>\n",
       "      <td>ROJO MARTE</td>\n",
       "    </tr>\n",
       "    <tr>\n",
       "      <th>147951</th>\n",
       "      <td>2024-08-01</td>\n",
       "      <td>7.430155</td>\n",
       "      <td>8</td>\n",
       "      <td>Otoño-Invierno</td>\n",
       "      <td>POLAR INFANTIL</td>\n",
       "      <td>4</td>\n",
       "      <td>ROJO MARTE</td>\n",
       "    </tr>\n",
       "    <tr>\n",
       "      <th>147952</th>\n",
       "      <td>2024-09-01</td>\n",
       "      <td>7.430155</td>\n",
       "      <td>9</td>\n",
       "      <td>Otoño-Invierno</td>\n",
       "      <td>POLAR INFANTIL</td>\n",
       "      <td>4</td>\n",
       "      <td>ROJO MARTE</td>\n",
       "    </tr>\n",
       "  </tbody>\n",
       "</table>\n",
       "<p>147953 rows × 7 columns</p>\n",
       "</div>"
      ],
      "text/plain": [
       "             fecha  prediccion  mes         temporada   \n",
       "0       2023-09-01  396.327721    9    Otoño-Invierno  \\\n",
       "1       2023-10-01  427.473172   10  Primavera-Verano   \n",
       "2       2023-11-01  435.373667   11  Primavera-Verano   \n",
       "3       2023-12-01  437.377742   12  Primavera-Verano   \n",
       "4       2024-01-01  437.886104    1  Primavera-Verano   \n",
       "...            ...         ...  ...               ...   \n",
       "147948  2024-05-01    7.430165    5    Otoño-Invierno   \n",
       "147949  2024-06-01    7.430153    6    Otoño-Invierno   \n",
       "147950  2024-07-01    7.430155    7    Otoño-Invierno   \n",
       "147951  2024-08-01    7.430155    8    Otoño-Invierno   \n",
       "147952  2024-09-01    7.430155    9    Otoño-Invierno   \n",
       "\n",
       "                 nombre_producto numero_sucursal       color  \n",
       "0       ACCESORIO CINTA TAPIZADO               2       VERDE  \n",
       "1       ACCESORIO CINTA TAPIZADO               2       VERDE  \n",
       "2       ACCESORIO CINTA TAPIZADO               2       VERDE  \n",
       "3       ACCESORIO CINTA TAPIZADO               2       VERDE  \n",
       "4       ACCESORIO CINTA TAPIZADO               2       VERDE  \n",
       "...                          ...             ...         ...  \n",
       "147948            POLAR INFANTIL               4  ROJO MARTE  \n",
       "147949            POLAR INFANTIL               4  ROJO MARTE  \n",
       "147950            POLAR INFANTIL               4  ROJO MARTE  \n",
       "147951            POLAR INFANTIL               4  ROJO MARTE  \n",
       "147952            POLAR INFANTIL               4  ROJO MARTE  \n",
       "\n",
       "[147953 rows x 7 columns]"
      ]
     },
     "execution_count": 79,
     "metadata": {},
     "output_type": "execute_result"
    }
   ],
   "source": [
    "df"
   ]
  },
  {
   "cell_type": "code",
   "execution_count": 70,
   "metadata": {},
   "outputs": [
    {
     "data": {
      "text/html": [
       "<div>\n",
       "<style scoped>\n",
       "    .dataframe tbody tr th:only-of-type {\n",
       "        vertical-align: middle;\n",
       "    }\n",
       "\n",
       "    .dataframe tbody tr th {\n",
       "        vertical-align: top;\n",
       "    }\n",
       "\n",
       "    .dataframe thead th {\n",
       "        text-align: right;\n",
       "    }\n",
       "</style>\n",
       "<table border=\"1\" class=\"dataframe\">\n",
       "  <thead>\n",
       "    <tr style=\"text-align: right;\">\n",
       "      <th></th>\n",
       "      <th>nombre_producto</th>\n",
       "      <th>numero_sucursal</th>\n",
       "      <th>color</th>\n",
       "      <th>temporada</th>\n",
       "      <th>sumatoriaPrediccion</th>\n",
       "    </tr>\n",
       "  </thead>\n",
       "  <tbody>\n",
       "    <tr>\n",
       "      <th>0</th>\n",
       "      <td>ACCESORIO CINTA TAPIZADO</td>\n",
       "      <td>2</td>\n",
       "      <td>VERDE</td>\n",
       "      <td>Otoño-Invierno</td>\n",
       "      <td>3024.677264</td>\n",
       "    </tr>\n",
       "    <tr>\n",
       "      <th>1</th>\n",
       "      <td>ACCESORIO CINTA TAPIZADO</td>\n",
       "      <td>2</td>\n",
       "      <td>VERDE</td>\n",
       "      <td>Primavera-Verano</td>\n",
       "      <td>2614.173513</td>\n",
       "    </tr>\n",
       "    <tr>\n",
       "      <th>2</th>\n",
       "      <td>ACCESORIO CINTA TAPIZADO</td>\n",
       "      <td>5</td>\n",
       "      <td>VERDE</td>\n",
       "      <td>Otoño-Invierno</td>\n",
       "      <td>16961.437460</td>\n",
       "    </tr>\n",
       "    <tr>\n",
       "      <th>3</th>\n",
       "      <td>ACCESORIO CINTA TAPIZADO</td>\n",
       "      <td>5</td>\n",
       "      <td>VERDE</td>\n",
       "      <td>Primavera-Verano</td>\n",
       "      <td>14837.940026</td>\n",
       "    </tr>\n",
       "    <tr>\n",
       "      <th>4</th>\n",
       "      <td>ACETATO</td>\n",
       "      <td>1</td>\n",
       "      <td>AZUL PEACOAT</td>\n",
       "      <td>Otoño-Invierno</td>\n",
       "      <td>2116.972333</td>\n",
       "    </tr>\n",
       "    <tr>\n",
       "      <th>...</th>\n",
       "      <td>...</td>\n",
       "      <td>...</td>\n",
       "      <td>...</td>\n",
       "      <td>...</td>\n",
       "      <td>...</td>\n",
       "    </tr>\n",
       "    <tr>\n",
       "      <th>22757</th>\n",
       "      <td>VOLADOS LOLA</td>\n",
       "      <td>2</td>\n",
       "      <td>BLANCO BRILLANTE</td>\n",
       "      <td>Primavera-Verano</td>\n",
       "      <td>14.785807</td>\n",
       "    </tr>\n",
       "    <tr>\n",
       "      <th>22758</th>\n",
       "      <td>VOLADOS LOLA</td>\n",
       "      <td>25</td>\n",
       "      <td>BLANCO BRILLANTE</td>\n",
       "      <td>Otoño-Invierno</td>\n",
       "      <td>17.107544</td>\n",
       "    </tr>\n",
       "    <tr>\n",
       "      <th>22759</th>\n",
       "      <td>VOLADOS LOLA</td>\n",
       "      <td>25</td>\n",
       "      <td>BLANCO BRILLANTE</td>\n",
       "      <td>Primavera-Verano</td>\n",
       "      <td>15.881696</td>\n",
       "    </tr>\n",
       "    <tr>\n",
       "      <th>22760</th>\n",
       "      <td>VOLADOS LOLA</td>\n",
       "      <td>6</td>\n",
       "      <td>BLANCO BRILLANTE</td>\n",
       "      <td>Otoño-Invierno</td>\n",
       "      <td>22.946683</td>\n",
       "    </tr>\n",
       "    <tr>\n",
       "      <th>22761</th>\n",
       "      <td>VOLADOS LOLA</td>\n",
       "      <td>6</td>\n",
       "      <td>BLANCO BRILLANTE</td>\n",
       "      <td>Primavera-Verano</td>\n",
       "      <td>19.157076</td>\n",
       "    </tr>\n",
       "  </tbody>\n",
       "</table>\n",
       "<p>22762 rows × 5 columns</p>\n",
       "</div>"
      ],
      "text/plain": [
       "                nombre_producto numero_sucursal             color   \n",
       "0      ACCESORIO CINTA TAPIZADO               2             VERDE  \\\n",
       "1      ACCESORIO CINTA TAPIZADO               2             VERDE   \n",
       "2      ACCESORIO CINTA TAPIZADO               5             VERDE   \n",
       "3      ACCESORIO CINTA TAPIZADO               5             VERDE   \n",
       "4                       ACETATO               1      AZUL PEACOAT   \n",
       "...                         ...             ...               ...   \n",
       "22757              VOLADOS LOLA               2  BLANCO BRILLANTE   \n",
       "22758              VOLADOS LOLA              25  BLANCO BRILLANTE   \n",
       "22759              VOLADOS LOLA              25  BLANCO BRILLANTE   \n",
       "22760              VOLADOS LOLA               6  BLANCO BRILLANTE   \n",
       "22761              VOLADOS LOLA               6  BLANCO BRILLANTE   \n",
       "\n",
       "              temporada  sumatoriaPrediccion  \n",
       "0        Otoño-Invierno          3024.677264  \n",
       "1      Primavera-Verano          2614.173513  \n",
       "2        Otoño-Invierno         16961.437460  \n",
       "3      Primavera-Verano         14837.940026  \n",
       "4        Otoño-Invierno          2116.972333  \n",
       "...                 ...                  ...  \n",
       "22757  Primavera-Verano            14.785807  \n",
       "22758    Otoño-Invierno            17.107544  \n",
       "22759  Primavera-Verano            15.881696  \n",
       "22760    Otoño-Invierno            22.946683  \n",
       "22761  Primavera-Verano            19.157076  \n",
       "\n",
       "[22762 rows x 5 columns]"
      ]
     },
     "execution_count": 70,
     "metadata": {},
     "output_type": "execute_result"
    }
   ],
   "source": [
    "# Agrupar por 'descrip' y 'temporada' y calcular la suma de 'prediccion'\n",
    "sumatoria_predicciones = df.groupby(['nombre_producto',\"numero_sucursal\",\"color\", 'temporada'])['prediccion'].sum().reset_index()\n",
    "\n",
    "# Cambiar el nombre de la columna 'prediccion' a 'sumatoriaPrediccion'\n",
    "sumatoria_predicciones.rename(columns={'prediccion': 'sumatoriaPrediccion'}, inplace=True)\n",
    "\n",
    "# Mostrar el DataFrame resultante\n",
    "sumatoria_predicciones\n"
   ]
  },
  {
   "cell_type": "code",
   "execution_count": 80,
   "metadata": {},
   "outputs": [
    {
     "data": {
      "text/html": [
       "<div>\n",
       "<style scoped>\n",
       "    .dataframe tbody tr th:only-of-type {\n",
       "        vertical-align: middle;\n",
       "    }\n",
       "\n",
       "    .dataframe tbody tr th {\n",
       "        vertical-align: top;\n",
       "    }\n",
       "\n",
       "    .dataframe thead th {\n",
       "        text-align: right;\n",
       "    }\n",
       "</style>\n",
       "<table border=\"1\" class=\"dataframe\">\n",
       "  <thead>\n",
       "    <tr style=\"text-align: right;\">\n",
       "      <th></th>\n",
       "      <th>nombre_producto</th>\n",
       "      <th>numero_sucursal</th>\n",
       "      <th>color</th>\n",
       "      <th>temporada</th>\n",
       "      <th>sumatoriaPrediccion</th>\n",
       "    </tr>\n",
       "  </thead>\n",
       "  <tbody>\n",
       "    <tr>\n",
       "      <th>0</th>\n",
       "      <td>ACCESORIO CINTA TAPIZADO</td>\n",
       "      <td>2</td>\n",
       "      <td>VERDE</td>\n",
       "      <td>Otoño-Invierno</td>\n",
       "      <td>3024.677264</td>\n",
       "    </tr>\n",
       "    <tr>\n",
       "      <th>1</th>\n",
       "      <td>ACCESORIO CINTA TAPIZADO</td>\n",
       "      <td>2</td>\n",
       "      <td>VERDE</td>\n",
       "      <td>Primavera-Verano</td>\n",
       "      <td>2614.173513</td>\n",
       "    </tr>\n",
       "    <tr>\n",
       "      <th>2</th>\n",
       "      <td>ACCESORIO CINTA TAPIZADO</td>\n",
       "      <td>5</td>\n",
       "      <td>VERDE</td>\n",
       "      <td>Otoño-Invierno</td>\n",
       "      <td>16961.437460</td>\n",
       "    </tr>\n",
       "    <tr>\n",
       "      <th>3</th>\n",
       "      <td>ACCESORIO CINTA TAPIZADO</td>\n",
       "      <td>5</td>\n",
       "      <td>VERDE</td>\n",
       "      <td>Primavera-Verano</td>\n",
       "      <td>14837.940026</td>\n",
       "    </tr>\n",
       "    <tr>\n",
       "      <th>4</th>\n",
       "      <td>ACETATO</td>\n",
       "      <td>1</td>\n",
       "      <td>AZUL PEACOAT</td>\n",
       "      <td>Otoño-Invierno</td>\n",
       "      <td>2116.972333</td>\n",
       "    </tr>\n",
       "    <tr>\n",
       "      <th>...</th>\n",
       "      <td>...</td>\n",
       "      <td>...</td>\n",
       "      <td>...</td>\n",
       "      <td>...</td>\n",
       "      <td>...</td>\n",
       "    </tr>\n",
       "    <tr>\n",
       "      <th>22757</th>\n",
       "      <td>VOLADOS LOLA</td>\n",
       "      <td>2</td>\n",
       "      <td>BLANCO BRILLANTE</td>\n",
       "      <td>Primavera-Verano</td>\n",
       "      <td>14.785807</td>\n",
       "    </tr>\n",
       "    <tr>\n",
       "      <th>22758</th>\n",
       "      <td>VOLADOS LOLA</td>\n",
       "      <td>25</td>\n",
       "      <td>BLANCO BRILLANTE</td>\n",
       "      <td>Otoño-Invierno</td>\n",
       "      <td>17.107544</td>\n",
       "    </tr>\n",
       "    <tr>\n",
       "      <th>22759</th>\n",
       "      <td>VOLADOS LOLA</td>\n",
       "      <td>25</td>\n",
       "      <td>BLANCO BRILLANTE</td>\n",
       "      <td>Primavera-Verano</td>\n",
       "      <td>15.881696</td>\n",
       "    </tr>\n",
       "    <tr>\n",
       "      <th>22760</th>\n",
       "      <td>VOLADOS LOLA</td>\n",
       "      <td>6</td>\n",
       "      <td>BLANCO BRILLANTE</td>\n",
       "      <td>Otoño-Invierno</td>\n",
       "      <td>22.946683</td>\n",
       "    </tr>\n",
       "    <tr>\n",
       "      <th>22761</th>\n",
       "      <td>VOLADOS LOLA</td>\n",
       "      <td>6</td>\n",
       "      <td>BLANCO BRILLANTE</td>\n",
       "      <td>Primavera-Verano</td>\n",
       "      <td>19.157076</td>\n",
       "    </tr>\n",
       "  </tbody>\n",
       "</table>\n",
       "<p>22762 rows × 5 columns</p>\n",
       "</div>"
      ],
      "text/plain": [
       "                nombre_producto numero_sucursal             color   \n",
       "0      ACCESORIO CINTA TAPIZADO               2             VERDE  \\\n",
       "1      ACCESORIO CINTA TAPIZADO               2             VERDE   \n",
       "2      ACCESORIO CINTA TAPIZADO               5             VERDE   \n",
       "3      ACCESORIO CINTA TAPIZADO               5             VERDE   \n",
       "4                       ACETATO               1      AZUL PEACOAT   \n",
       "...                         ...             ...               ...   \n",
       "22757              VOLADOS LOLA               2  BLANCO BRILLANTE   \n",
       "22758              VOLADOS LOLA              25  BLANCO BRILLANTE   \n",
       "22759              VOLADOS LOLA              25  BLANCO BRILLANTE   \n",
       "22760              VOLADOS LOLA               6  BLANCO BRILLANTE   \n",
       "22761              VOLADOS LOLA               6  BLANCO BRILLANTE   \n",
       "\n",
       "              temporada  sumatoriaPrediccion  \n",
       "0        Otoño-Invierno          3024.677264  \n",
       "1      Primavera-Verano          2614.173513  \n",
       "2        Otoño-Invierno         16961.437460  \n",
       "3      Primavera-Verano         14837.940026  \n",
       "4        Otoño-Invierno          2116.972333  \n",
       "...                 ...                  ...  \n",
       "22757  Primavera-Verano            14.785807  \n",
       "22758    Otoño-Invierno            17.107544  \n",
       "22759  Primavera-Verano            15.881696  \n",
       "22760    Otoño-Invierno            22.946683  \n",
       "22761  Primavera-Verano            19.157076  \n",
       "\n",
       "[22762 rows x 5 columns]"
      ]
     },
     "execution_count": 80,
     "metadata": {},
     "output_type": "execute_result"
    }
   ],
   "source": [
    "sumatoria_predicciones.sort_values(by='sumatoriaPrediccion', ascending=False)\n",
    "sumatoria_predicciones"
   ]
  },
  {
   "cell_type": "code",
   "execution_count": 81,
   "metadata": {},
   "outputs": [],
   "source": [
    "sucursal_mapping = {'1': 'Encarnación 1',\n",
    "                    '2': 'Encarnación 2',\n",
    "                    '4': 'Hohenau',\n",
    "                    '5': 'Santa Rita',\n",
    "                    '6': 'CDE 3.5',\n",
    "                    '10': 'CDE Centro',\n",
    "                    '24': 'San Lorenzo',\n",
    "                    '25': 'Asunción',\n",
    "                    '30': 'Lambaré'}\n",
    "\n",
    "# Mapear los números de sucursal a los nombres de sucursal\n",
    "df['nombre_sucursal'] = df['numero_sucursal'].map(sucursal_mapping)\n",
    "\n",
    "# Mostrar el DataFrame resultante\n",
    "df\n",
    "#eliminamos la columna numero_sucursal para tener una columna menos\n",
    "df = df.drop('numero_sucursal', axis=1)"
   ]
  },
  {
   "cell_type": "code",
   "execution_count": 82,
   "metadata": {},
   "outputs": [
    {
     "data": {
      "text/html": [
       "<div>\n",
       "<style scoped>\n",
       "    .dataframe tbody tr th:only-of-type {\n",
       "        vertical-align: middle;\n",
       "    }\n",
       "\n",
       "    .dataframe tbody tr th {\n",
       "        vertical-align: top;\n",
       "    }\n",
       "\n",
       "    .dataframe thead th {\n",
       "        text-align: right;\n",
       "    }\n",
       "</style>\n",
       "<table border=\"1\" class=\"dataframe\">\n",
       "  <thead>\n",
       "    <tr style=\"text-align: right;\">\n",
       "      <th></th>\n",
       "      <th>fecha</th>\n",
       "      <th>prediccion</th>\n",
       "      <th>mes</th>\n",
       "      <th>temporada</th>\n",
       "      <th>nombre_producto</th>\n",
       "      <th>color</th>\n",
       "      <th>nombre_sucursal</th>\n",
       "    </tr>\n",
       "  </thead>\n",
       "  <tbody>\n",
       "    <tr>\n",
       "      <th>0</th>\n",
       "      <td>2023-09-01</td>\n",
       "      <td>396.327721</td>\n",
       "      <td>9</td>\n",
       "      <td>Otoño-Invierno</td>\n",
       "      <td>ACCESORIO CINTA TAPIZADO</td>\n",
       "      <td>VERDE</td>\n",
       "      <td>Encarnación 2</td>\n",
       "    </tr>\n",
       "    <tr>\n",
       "      <th>1</th>\n",
       "      <td>2023-10-01</td>\n",
       "      <td>427.473172</td>\n",
       "      <td>10</td>\n",
       "      <td>Primavera-Verano</td>\n",
       "      <td>ACCESORIO CINTA TAPIZADO</td>\n",
       "      <td>VERDE</td>\n",
       "      <td>Encarnación 2</td>\n",
       "    </tr>\n",
       "    <tr>\n",
       "      <th>2</th>\n",
       "      <td>2023-11-01</td>\n",
       "      <td>435.373667</td>\n",
       "      <td>11</td>\n",
       "      <td>Primavera-Verano</td>\n",
       "      <td>ACCESORIO CINTA TAPIZADO</td>\n",
       "      <td>VERDE</td>\n",
       "      <td>Encarnación 2</td>\n",
       "    </tr>\n",
       "    <tr>\n",
       "      <th>3</th>\n",
       "      <td>2023-12-01</td>\n",
       "      <td>437.377742</td>\n",
       "      <td>12</td>\n",
       "      <td>Primavera-Verano</td>\n",
       "      <td>ACCESORIO CINTA TAPIZADO</td>\n",
       "      <td>VERDE</td>\n",
       "      <td>Encarnación 2</td>\n",
       "    </tr>\n",
       "    <tr>\n",
       "      <th>4</th>\n",
       "      <td>2024-01-01</td>\n",
       "      <td>437.886104</td>\n",
       "      <td>1</td>\n",
       "      <td>Primavera-Verano</td>\n",
       "      <td>ACCESORIO CINTA TAPIZADO</td>\n",
       "      <td>VERDE</td>\n",
       "      <td>Encarnación 2</td>\n",
       "    </tr>\n",
       "    <tr>\n",
       "      <th>...</th>\n",
       "      <td>...</td>\n",
       "      <td>...</td>\n",
       "      <td>...</td>\n",
       "      <td>...</td>\n",
       "      <td>...</td>\n",
       "      <td>...</td>\n",
       "      <td>...</td>\n",
       "    </tr>\n",
       "    <tr>\n",
       "      <th>147948</th>\n",
       "      <td>2024-05-01</td>\n",
       "      <td>7.430165</td>\n",
       "      <td>5</td>\n",
       "      <td>Otoño-Invierno</td>\n",
       "      <td>POLAR INFANTIL</td>\n",
       "      <td>ROJO MARTE</td>\n",
       "      <td>Hohenau</td>\n",
       "    </tr>\n",
       "    <tr>\n",
       "      <th>147949</th>\n",
       "      <td>2024-06-01</td>\n",
       "      <td>7.430153</td>\n",
       "      <td>6</td>\n",
       "      <td>Otoño-Invierno</td>\n",
       "      <td>POLAR INFANTIL</td>\n",
       "      <td>ROJO MARTE</td>\n",
       "      <td>Hohenau</td>\n",
       "    </tr>\n",
       "    <tr>\n",
       "      <th>147950</th>\n",
       "      <td>2024-07-01</td>\n",
       "      <td>7.430155</td>\n",
       "      <td>7</td>\n",
       "      <td>Otoño-Invierno</td>\n",
       "      <td>POLAR INFANTIL</td>\n",
       "      <td>ROJO MARTE</td>\n",
       "      <td>Hohenau</td>\n",
       "    </tr>\n",
       "    <tr>\n",
       "      <th>147951</th>\n",
       "      <td>2024-08-01</td>\n",
       "      <td>7.430155</td>\n",
       "      <td>8</td>\n",
       "      <td>Otoño-Invierno</td>\n",
       "      <td>POLAR INFANTIL</td>\n",
       "      <td>ROJO MARTE</td>\n",
       "      <td>Hohenau</td>\n",
       "    </tr>\n",
       "    <tr>\n",
       "      <th>147952</th>\n",
       "      <td>2024-09-01</td>\n",
       "      <td>7.430155</td>\n",
       "      <td>9</td>\n",
       "      <td>Otoño-Invierno</td>\n",
       "      <td>POLAR INFANTIL</td>\n",
       "      <td>ROJO MARTE</td>\n",
       "      <td>Hohenau</td>\n",
       "    </tr>\n",
       "  </tbody>\n",
       "</table>\n",
       "<p>147953 rows × 7 columns</p>\n",
       "</div>"
      ],
      "text/plain": [
       "             fecha  prediccion  mes         temporada   \n",
       "0       2023-09-01  396.327721    9    Otoño-Invierno  \\\n",
       "1       2023-10-01  427.473172   10  Primavera-Verano   \n",
       "2       2023-11-01  435.373667   11  Primavera-Verano   \n",
       "3       2023-12-01  437.377742   12  Primavera-Verano   \n",
       "4       2024-01-01  437.886104    1  Primavera-Verano   \n",
       "...            ...         ...  ...               ...   \n",
       "147948  2024-05-01    7.430165    5    Otoño-Invierno   \n",
       "147949  2024-06-01    7.430153    6    Otoño-Invierno   \n",
       "147950  2024-07-01    7.430155    7    Otoño-Invierno   \n",
       "147951  2024-08-01    7.430155    8    Otoño-Invierno   \n",
       "147952  2024-09-01    7.430155    9    Otoño-Invierno   \n",
       "\n",
       "                 nombre_producto       color nombre_sucursal  \n",
       "0       ACCESORIO CINTA TAPIZADO       VERDE   Encarnación 2  \n",
       "1       ACCESORIO CINTA TAPIZADO       VERDE   Encarnación 2  \n",
       "2       ACCESORIO CINTA TAPIZADO       VERDE   Encarnación 2  \n",
       "3       ACCESORIO CINTA TAPIZADO       VERDE   Encarnación 2  \n",
       "4       ACCESORIO CINTA TAPIZADO       VERDE   Encarnación 2  \n",
       "...                          ...         ...             ...  \n",
       "147948            POLAR INFANTIL  ROJO MARTE         Hohenau  \n",
       "147949            POLAR INFANTIL  ROJO MARTE         Hohenau  \n",
       "147950            POLAR INFANTIL  ROJO MARTE         Hohenau  \n",
       "147951            POLAR INFANTIL  ROJO MARTE         Hohenau  \n",
       "147952            POLAR INFANTIL  ROJO MARTE         Hohenau  \n",
       "\n",
       "[147953 rows x 7 columns]"
      ]
     },
     "execution_count": 82,
     "metadata": {},
     "output_type": "execute_result"
    }
   ],
   "source": [
    "df[\"nombre_producto\"].unique()\n",
    "df"
   ]
  },
  {
   "cell_type": "code",
   "execution_count": 83,
   "metadata": {},
   "outputs": [
    {
     "data": {
      "text/html": [
       "<div>\n",
       "<style scoped>\n",
       "    .dataframe tbody tr th:only-of-type {\n",
       "        vertical-align: middle;\n",
       "    }\n",
       "\n",
       "    .dataframe tbody tr th {\n",
       "        vertical-align: top;\n",
       "    }\n",
       "\n",
       "    .dataframe thead th {\n",
       "        text-align: right;\n",
       "    }\n",
       "</style>\n",
       "<table border=\"1\" class=\"dataframe\">\n",
       "  <thead>\n",
       "    <tr style=\"text-align: right;\">\n",
       "      <th></th>\n",
       "      <th>fecha</th>\n",
       "      <th>prediccion</th>\n",
       "      <th>mes</th>\n",
       "      <th>temporada</th>\n",
       "      <th>nombre_producto</th>\n",
       "      <th>color</th>\n",
       "      <th>nombre_sucursal</th>\n",
       "    </tr>\n",
       "  </thead>\n",
       "  <tbody>\n",
       "    <tr>\n",
       "      <th>0</th>\n",
       "      <td>2023-09-01</td>\n",
       "      <td>396.327721</td>\n",
       "      <td>9</td>\n",
       "      <td>Otoño-Invierno</td>\n",
       "      <td>ACCESORIO CINTA TAPIZADO</td>\n",
       "      <td>VERDE</td>\n",
       "      <td>Encarnación 2</td>\n",
       "    </tr>\n",
       "    <tr>\n",
       "      <th>1</th>\n",
       "      <td>2023-10-01</td>\n",
       "      <td>427.473172</td>\n",
       "      <td>10</td>\n",
       "      <td>Primavera-Verano</td>\n",
       "      <td>ACCESORIO CINTA TAPIZADO</td>\n",
       "      <td>VERDE</td>\n",
       "      <td>Encarnación 2</td>\n",
       "    </tr>\n",
       "    <tr>\n",
       "      <th>2</th>\n",
       "      <td>2023-11-01</td>\n",
       "      <td>435.373667</td>\n",
       "      <td>11</td>\n",
       "      <td>Primavera-Verano</td>\n",
       "      <td>ACCESORIO CINTA TAPIZADO</td>\n",
       "      <td>VERDE</td>\n",
       "      <td>Encarnación 2</td>\n",
       "    </tr>\n",
       "    <tr>\n",
       "      <th>3</th>\n",
       "      <td>2023-12-01</td>\n",
       "      <td>437.377742</td>\n",
       "      <td>12</td>\n",
       "      <td>Primavera-Verano</td>\n",
       "      <td>ACCESORIO CINTA TAPIZADO</td>\n",
       "      <td>VERDE</td>\n",
       "      <td>Encarnación 2</td>\n",
       "    </tr>\n",
       "    <tr>\n",
       "      <th>4</th>\n",
       "      <td>2024-01-01</td>\n",
       "      <td>437.886104</td>\n",
       "      <td>1</td>\n",
       "      <td>Primavera-Verano</td>\n",
       "      <td>ACCESORIO CINTA TAPIZADO</td>\n",
       "      <td>VERDE</td>\n",
       "      <td>Encarnación 2</td>\n",
       "    </tr>\n",
       "    <tr>\n",
       "      <th>...</th>\n",
       "      <td>...</td>\n",
       "      <td>...</td>\n",
       "      <td>...</td>\n",
       "      <td>...</td>\n",
       "      <td>...</td>\n",
       "      <td>...</td>\n",
       "      <td>...</td>\n",
       "    </tr>\n",
       "    <tr>\n",
       "      <th>147948</th>\n",
       "      <td>2024-05-01</td>\n",
       "      <td>7.430165</td>\n",
       "      <td>5</td>\n",
       "      <td>Otoño-Invierno</td>\n",
       "      <td>POLAR INFANTIL</td>\n",
       "      <td>ROJO MARTE</td>\n",
       "      <td>Hohenau</td>\n",
       "    </tr>\n",
       "    <tr>\n",
       "      <th>147949</th>\n",
       "      <td>2024-06-01</td>\n",
       "      <td>7.430153</td>\n",
       "      <td>6</td>\n",
       "      <td>Otoño-Invierno</td>\n",
       "      <td>POLAR INFANTIL</td>\n",
       "      <td>ROJO MARTE</td>\n",
       "      <td>Hohenau</td>\n",
       "    </tr>\n",
       "    <tr>\n",
       "      <th>147950</th>\n",
       "      <td>2024-07-01</td>\n",
       "      <td>7.430155</td>\n",
       "      <td>7</td>\n",
       "      <td>Otoño-Invierno</td>\n",
       "      <td>POLAR INFANTIL</td>\n",
       "      <td>ROJO MARTE</td>\n",
       "      <td>Hohenau</td>\n",
       "    </tr>\n",
       "    <tr>\n",
       "      <th>147951</th>\n",
       "      <td>2024-08-01</td>\n",
       "      <td>7.430155</td>\n",
       "      <td>8</td>\n",
       "      <td>Otoño-Invierno</td>\n",
       "      <td>POLAR INFANTIL</td>\n",
       "      <td>ROJO MARTE</td>\n",
       "      <td>Hohenau</td>\n",
       "    </tr>\n",
       "    <tr>\n",
       "      <th>147952</th>\n",
       "      <td>2024-09-01</td>\n",
       "      <td>7.430155</td>\n",
       "      <td>9</td>\n",
       "      <td>Otoño-Invierno</td>\n",
       "      <td>POLAR INFANTIL</td>\n",
       "      <td>ROJO MARTE</td>\n",
       "      <td>Hohenau</td>\n",
       "    </tr>\n",
       "  </tbody>\n",
       "</table>\n",
       "<p>147953 rows × 7 columns</p>\n",
       "</div>"
      ],
      "text/plain": [
       "             fecha  prediccion  mes         temporada   \n",
       "0       2023-09-01  396.327721    9    Otoño-Invierno  \\\n",
       "1       2023-10-01  427.473172   10  Primavera-Verano   \n",
       "2       2023-11-01  435.373667   11  Primavera-Verano   \n",
       "3       2023-12-01  437.377742   12  Primavera-Verano   \n",
       "4       2024-01-01  437.886104    1  Primavera-Verano   \n",
       "...            ...         ...  ...               ...   \n",
       "147948  2024-05-01    7.430165    5    Otoño-Invierno   \n",
       "147949  2024-06-01    7.430153    6    Otoño-Invierno   \n",
       "147950  2024-07-01    7.430155    7    Otoño-Invierno   \n",
       "147951  2024-08-01    7.430155    8    Otoño-Invierno   \n",
       "147952  2024-09-01    7.430155    9    Otoño-Invierno   \n",
       "\n",
       "                 nombre_producto       color nombre_sucursal  \n",
       "0       ACCESORIO CINTA TAPIZADO       VERDE   Encarnación 2  \n",
       "1       ACCESORIO CINTA TAPIZADO       VERDE   Encarnación 2  \n",
       "2       ACCESORIO CINTA TAPIZADO       VERDE   Encarnación 2  \n",
       "3       ACCESORIO CINTA TAPIZADO       VERDE   Encarnación 2  \n",
       "4       ACCESORIO CINTA TAPIZADO       VERDE   Encarnación 2  \n",
       "...                          ...         ...             ...  \n",
       "147948            POLAR INFANTIL  ROJO MARTE         Hohenau  \n",
       "147949            POLAR INFANTIL  ROJO MARTE         Hohenau  \n",
       "147950            POLAR INFANTIL  ROJO MARTE         Hohenau  \n",
       "147951            POLAR INFANTIL  ROJO MARTE         Hohenau  \n",
       "147952            POLAR INFANTIL  ROJO MARTE         Hohenau  \n",
       "\n",
       "[147953 rows x 7 columns]"
      ]
     },
     "execution_count": 83,
     "metadata": {},
     "output_type": "execute_result"
    }
   ],
   "source": [
    "df.columns\n",
    "import plotly.express as px\n",
    "df"
   ]
  },
  {
   "cell_type": "code",
   "execution_count": 84,
   "metadata": {},
   "outputs": [
    {
     "data": {
      "application/vnd.plotly.v1+json": {
       "config": {
        "plotlyServerURL": "https://plot.ly"
       },
       "data": [
        {
         "hovertemplate": "Fecha=%{x}<br>Ventas Predichas=%{y}<extra></extra>",
         "legendgroup": "",
         "line": {
          "color": "#636efa",
          "dash": "solid",
          "shape": "linear"
         },
         "marker": {
          "symbol": "circle"
         },
         "mode": "lines",
         "name": "",
         "orientation": "v",
         "showlegend": false,
         "type": "scatter",
         "x": [
          "2023-09-01",
          "2023-10-01",
          "2023-11-01",
          "2023-12-01",
          "2024-01-01",
          "2024-02-01",
          "2024-03-01",
          "2024-04-01",
          "2024-05-01",
          "2024-06-01",
          "2024-07-01",
          "2024-08-01",
          "2024-09-01"
         ],
         "xaxis": "x",
         "y": [
          2139.7912524680246,
          2487.413182810372,
          2469.385550915042,
          2470.320461757501,
          2470.271977392587,
          2470.2744917859754,
          2470.2743613898338,
          2470.2743681521624,
          2470.2743678014685,
          2470.274367819656,
          2470.274367818713,
          2470.274367818761,
          2470.274367818759
         ],
         "yaxis": "y"
        }
       ],
       "layout": {
        "legend": {
         "tracegroupgap": 0
        },
        "template": {
         "data": {
          "bar": [
           {
            "error_x": {
             "color": "#2a3f5f"
            },
            "error_y": {
             "color": "#2a3f5f"
            },
            "marker": {
             "line": {
              "color": "#E5ECF6",
              "width": 0.5
             },
             "pattern": {
              "fillmode": "overlay",
              "size": 10,
              "solidity": 0.2
             }
            },
            "type": "bar"
           }
          ],
          "barpolar": [
           {
            "marker": {
             "line": {
              "color": "#E5ECF6",
              "width": 0.5
             },
             "pattern": {
              "fillmode": "overlay",
              "size": 10,
              "solidity": 0.2
             }
            },
            "type": "barpolar"
           }
          ],
          "carpet": [
           {
            "aaxis": {
             "endlinecolor": "#2a3f5f",
             "gridcolor": "white",
             "linecolor": "white",
             "minorgridcolor": "white",
             "startlinecolor": "#2a3f5f"
            },
            "baxis": {
             "endlinecolor": "#2a3f5f",
             "gridcolor": "white",
             "linecolor": "white",
             "minorgridcolor": "white",
             "startlinecolor": "#2a3f5f"
            },
            "type": "carpet"
           }
          ],
          "choropleth": [
           {
            "colorbar": {
             "outlinewidth": 0,
             "ticks": ""
            },
            "type": "choropleth"
           }
          ],
          "contour": [
           {
            "colorbar": {
             "outlinewidth": 0,
             "ticks": ""
            },
            "colorscale": [
             [
              0,
              "#0d0887"
             ],
             [
              0.1111111111111111,
              "#46039f"
             ],
             [
              0.2222222222222222,
              "#7201a8"
             ],
             [
              0.3333333333333333,
              "#9c179e"
             ],
             [
              0.4444444444444444,
              "#bd3786"
             ],
             [
              0.5555555555555556,
              "#d8576b"
             ],
             [
              0.6666666666666666,
              "#ed7953"
             ],
             [
              0.7777777777777778,
              "#fb9f3a"
             ],
             [
              0.8888888888888888,
              "#fdca26"
             ],
             [
              1,
              "#f0f921"
             ]
            ],
            "type": "contour"
           }
          ],
          "contourcarpet": [
           {
            "colorbar": {
             "outlinewidth": 0,
             "ticks": ""
            },
            "type": "contourcarpet"
           }
          ],
          "heatmap": [
           {
            "colorbar": {
             "outlinewidth": 0,
             "ticks": ""
            },
            "colorscale": [
             [
              0,
              "#0d0887"
             ],
             [
              0.1111111111111111,
              "#46039f"
             ],
             [
              0.2222222222222222,
              "#7201a8"
             ],
             [
              0.3333333333333333,
              "#9c179e"
             ],
             [
              0.4444444444444444,
              "#bd3786"
             ],
             [
              0.5555555555555556,
              "#d8576b"
             ],
             [
              0.6666666666666666,
              "#ed7953"
             ],
             [
              0.7777777777777778,
              "#fb9f3a"
             ],
             [
              0.8888888888888888,
              "#fdca26"
             ],
             [
              1,
              "#f0f921"
             ]
            ],
            "type": "heatmap"
           }
          ],
          "heatmapgl": [
           {
            "colorbar": {
             "outlinewidth": 0,
             "ticks": ""
            },
            "colorscale": [
             [
              0,
              "#0d0887"
             ],
             [
              0.1111111111111111,
              "#46039f"
             ],
             [
              0.2222222222222222,
              "#7201a8"
             ],
             [
              0.3333333333333333,
              "#9c179e"
             ],
             [
              0.4444444444444444,
              "#bd3786"
             ],
             [
              0.5555555555555556,
              "#d8576b"
             ],
             [
              0.6666666666666666,
              "#ed7953"
             ],
             [
              0.7777777777777778,
              "#fb9f3a"
             ],
             [
              0.8888888888888888,
              "#fdca26"
             ],
             [
              1,
              "#f0f921"
             ]
            ],
            "type": "heatmapgl"
           }
          ],
          "histogram": [
           {
            "marker": {
             "pattern": {
              "fillmode": "overlay",
              "size": 10,
              "solidity": 0.2
             }
            },
            "type": "histogram"
           }
          ],
          "histogram2d": [
           {
            "colorbar": {
             "outlinewidth": 0,
             "ticks": ""
            },
            "colorscale": [
             [
              0,
              "#0d0887"
             ],
             [
              0.1111111111111111,
              "#46039f"
             ],
             [
              0.2222222222222222,
              "#7201a8"
             ],
             [
              0.3333333333333333,
              "#9c179e"
             ],
             [
              0.4444444444444444,
              "#bd3786"
             ],
             [
              0.5555555555555556,
              "#d8576b"
             ],
             [
              0.6666666666666666,
              "#ed7953"
             ],
             [
              0.7777777777777778,
              "#fb9f3a"
             ],
             [
              0.8888888888888888,
              "#fdca26"
             ],
             [
              1,
              "#f0f921"
             ]
            ],
            "type": "histogram2d"
           }
          ],
          "histogram2dcontour": [
           {
            "colorbar": {
             "outlinewidth": 0,
             "ticks": ""
            },
            "colorscale": [
             [
              0,
              "#0d0887"
             ],
             [
              0.1111111111111111,
              "#46039f"
             ],
             [
              0.2222222222222222,
              "#7201a8"
             ],
             [
              0.3333333333333333,
              "#9c179e"
             ],
             [
              0.4444444444444444,
              "#bd3786"
             ],
             [
              0.5555555555555556,
              "#d8576b"
             ],
             [
              0.6666666666666666,
              "#ed7953"
             ],
             [
              0.7777777777777778,
              "#fb9f3a"
             ],
             [
              0.8888888888888888,
              "#fdca26"
             ],
             [
              1,
              "#f0f921"
             ]
            ],
            "type": "histogram2dcontour"
           }
          ],
          "mesh3d": [
           {
            "colorbar": {
             "outlinewidth": 0,
             "ticks": ""
            },
            "type": "mesh3d"
           }
          ],
          "parcoords": [
           {
            "line": {
             "colorbar": {
              "outlinewidth": 0,
              "ticks": ""
             }
            },
            "type": "parcoords"
           }
          ],
          "pie": [
           {
            "automargin": true,
            "type": "pie"
           }
          ],
          "scatter": [
           {
            "fillpattern": {
             "fillmode": "overlay",
             "size": 10,
             "solidity": 0.2
            },
            "type": "scatter"
           }
          ],
          "scatter3d": [
           {
            "line": {
             "colorbar": {
              "outlinewidth": 0,
              "ticks": ""
             }
            },
            "marker": {
             "colorbar": {
              "outlinewidth": 0,
              "ticks": ""
             }
            },
            "type": "scatter3d"
           }
          ],
          "scattercarpet": [
           {
            "marker": {
             "colorbar": {
              "outlinewidth": 0,
              "ticks": ""
             }
            },
            "type": "scattercarpet"
           }
          ],
          "scattergeo": [
           {
            "marker": {
             "colorbar": {
              "outlinewidth": 0,
              "ticks": ""
             }
            },
            "type": "scattergeo"
           }
          ],
          "scattergl": [
           {
            "marker": {
             "colorbar": {
              "outlinewidth": 0,
              "ticks": ""
             }
            },
            "type": "scattergl"
           }
          ],
          "scattermapbox": [
           {
            "marker": {
             "colorbar": {
              "outlinewidth": 0,
              "ticks": ""
             }
            },
            "type": "scattermapbox"
           }
          ],
          "scatterpolar": [
           {
            "marker": {
             "colorbar": {
              "outlinewidth": 0,
              "ticks": ""
             }
            },
            "type": "scatterpolar"
           }
          ],
          "scatterpolargl": [
           {
            "marker": {
             "colorbar": {
              "outlinewidth": 0,
              "ticks": ""
             }
            },
            "type": "scatterpolargl"
           }
          ],
          "scatterternary": [
           {
            "marker": {
             "colorbar": {
              "outlinewidth": 0,
              "ticks": ""
             }
            },
            "type": "scatterternary"
           }
          ],
          "surface": [
           {
            "colorbar": {
             "outlinewidth": 0,
             "ticks": ""
            },
            "colorscale": [
             [
              0,
              "#0d0887"
             ],
             [
              0.1111111111111111,
              "#46039f"
             ],
             [
              0.2222222222222222,
              "#7201a8"
             ],
             [
              0.3333333333333333,
              "#9c179e"
             ],
             [
              0.4444444444444444,
              "#bd3786"
             ],
             [
              0.5555555555555556,
              "#d8576b"
             ],
             [
              0.6666666666666666,
              "#ed7953"
             ],
             [
              0.7777777777777778,
              "#fb9f3a"
             ],
             [
              0.8888888888888888,
              "#fdca26"
             ],
             [
              1,
              "#f0f921"
             ]
            ],
            "type": "surface"
           }
          ],
          "table": [
           {
            "cells": {
             "fill": {
              "color": "#EBF0F8"
             },
             "line": {
              "color": "white"
             }
            },
            "header": {
             "fill": {
              "color": "#C8D4E3"
             },
             "line": {
              "color": "white"
             }
            },
            "type": "table"
           }
          ]
         },
         "layout": {
          "annotationdefaults": {
           "arrowcolor": "#2a3f5f",
           "arrowhead": 0,
           "arrowwidth": 1
          },
          "autotypenumbers": "strict",
          "coloraxis": {
           "colorbar": {
            "outlinewidth": 0,
            "ticks": ""
           }
          },
          "colorscale": {
           "diverging": [
            [
             0,
             "#8e0152"
            ],
            [
             0.1,
             "#c51b7d"
            ],
            [
             0.2,
             "#de77ae"
            ],
            [
             0.3,
             "#f1b6da"
            ],
            [
             0.4,
             "#fde0ef"
            ],
            [
             0.5,
             "#f7f7f7"
            ],
            [
             0.6,
             "#e6f5d0"
            ],
            [
             0.7,
             "#b8e186"
            ],
            [
             0.8,
             "#7fbc41"
            ],
            [
             0.9,
             "#4d9221"
            ],
            [
             1,
             "#276419"
            ]
           ],
           "sequential": [
            [
             0,
             "#0d0887"
            ],
            [
             0.1111111111111111,
             "#46039f"
            ],
            [
             0.2222222222222222,
             "#7201a8"
            ],
            [
             0.3333333333333333,
             "#9c179e"
            ],
            [
             0.4444444444444444,
             "#bd3786"
            ],
            [
             0.5555555555555556,
             "#d8576b"
            ],
            [
             0.6666666666666666,
             "#ed7953"
            ],
            [
             0.7777777777777778,
             "#fb9f3a"
            ],
            [
             0.8888888888888888,
             "#fdca26"
            ],
            [
             1,
             "#f0f921"
            ]
           ],
           "sequentialminus": [
            [
             0,
             "#0d0887"
            ],
            [
             0.1111111111111111,
             "#46039f"
            ],
            [
             0.2222222222222222,
             "#7201a8"
            ],
            [
             0.3333333333333333,
             "#9c179e"
            ],
            [
             0.4444444444444444,
             "#bd3786"
            ],
            [
             0.5555555555555556,
             "#d8576b"
            ],
            [
             0.6666666666666666,
             "#ed7953"
            ],
            [
             0.7777777777777778,
             "#fb9f3a"
            ],
            [
             0.8888888888888888,
             "#fdca26"
            ],
            [
             1,
             "#f0f921"
            ]
           ]
          },
          "colorway": [
           "#636efa",
           "#EF553B",
           "#00cc96",
           "#ab63fa",
           "#FFA15A",
           "#19d3f3",
           "#FF6692",
           "#B6E880",
           "#FF97FF",
           "#FECB52"
          ],
          "font": {
           "color": "#2a3f5f"
          },
          "geo": {
           "bgcolor": "white",
           "lakecolor": "white",
           "landcolor": "#E5ECF6",
           "showlakes": true,
           "showland": true,
           "subunitcolor": "white"
          },
          "hoverlabel": {
           "align": "left"
          },
          "hovermode": "closest",
          "mapbox": {
           "style": "light"
          },
          "paper_bgcolor": "white",
          "plot_bgcolor": "#E5ECF6",
          "polar": {
           "angularaxis": {
            "gridcolor": "white",
            "linecolor": "white",
            "ticks": ""
           },
           "bgcolor": "#E5ECF6",
           "radialaxis": {
            "gridcolor": "white",
            "linecolor": "white",
            "ticks": ""
           }
          },
          "scene": {
           "xaxis": {
            "backgroundcolor": "#E5ECF6",
            "gridcolor": "white",
            "gridwidth": 2,
            "linecolor": "white",
            "showbackground": true,
            "ticks": "",
            "zerolinecolor": "white"
           },
           "yaxis": {
            "backgroundcolor": "#E5ECF6",
            "gridcolor": "white",
            "gridwidth": 2,
            "linecolor": "white",
            "showbackground": true,
            "ticks": "",
            "zerolinecolor": "white"
           },
           "zaxis": {
            "backgroundcolor": "#E5ECF6",
            "gridcolor": "white",
            "gridwidth": 2,
            "linecolor": "white",
            "showbackground": true,
            "ticks": "",
            "zerolinecolor": "white"
           }
          },
          "shapedefaults": {
           "line": {
            "color": "#2a3f5f"
           }
          },
          "ternary": {
           "aaxis": {
            "gridcolor": "white",
            "linecolor": "white",
            "ticks": ""
           },
           "baxis": {
            "gridcolor": "white",
            "linecolor": "white",
            "ticks": ""
           },
           "bgcolor": "#E5ECF6",
           "caxis": {
            "gridcolor": "white",
            "linecolor": "white",
            "ticks": ""
           }
          },
          "title": {
           "x": 0.05
          },
          "xaxis": {
           "automargin": true,
           "gridcolor": "white",
           "linecolor": "white",
           "ticks": "",
           "title": {
            "standoff": 15
           },
           "zerolinecolor": "white",
           "zerolinewidth": 2
          },
          "yaxis": {
           "automargin": true,
           "gridcolor": "white",
           "linecolor": "white",
           "ticks": "",
           "title": {
            "standoff": 15
           },
           "zerolinecolor": "white",
           "zerolinewidth": 2
          }
         }
        },
        "title": {
         "text": "Predicciones de ventas para Santa Rita - ACCESORIO CINTA TAPIZADO - VERDE"
        },
        "xaxis": {
         "anchor": "y",
         "domain": [
          0,
          1
         ],
         "title": {
          "text": "Fecha"
         }
        },
        "yaxis": {
         "anchor": "x",
         "domain": [
          0,
          1
         ],
         "title": {
          "text": "Ventas Predichas"
         }
        }
       }
      }
     },
     "metadata": {},
     "output_type": "display_data"
    }
   ],
   "source": [
    "# Definir las selecciones\n",
    "sucursal_seleccionada = 'Santa Rita'\n",
    "producto_seleccionado = 'ACCESORIO CINTA TAPIZADO'\n",
    "color_seleccionado = 'VERDE'\n",
    "\n",
    "# Filtrar el DataFrame por sucursal, producto y color específicos\n",
    "df_filtrado = df[(df['nombre_sucursal'] == sucursal_seleccionada) & \n",
    "                 (df['nombre_producto'] == producto_seleccionado) & \n",
    "                 (df['color'] == color_seleccionado)]\n",
    "\n",
    "# Crear gráfico de líneas con Plotly Express\n",
    "fig = px.line(df_filtrado, x='fecha', y='prediccion',\n",
    "              title=f'Predicciones de ventas para {sucursal_seleccionada} - {producto_seleccionado} - {color_seleccionado}',\n",
    "              labels={'prediccion': 'Ventas Predichas', 'fecha': 'Fecha'},\n",
    "              line_shape='linear')\n",
    "\n",
    "fig.show()"
   ]
  },
  {
   "cell_type": "code",
   "execution_count": null,
   "metadata": {},
   "outputs": [],
   "source": []
  }
 ],
 "metadata": {
  "kernelspec": {
   "display_name": "Python 3",
   "language": "python",
   "name": "python3"
  },
  "language_info": {
   "codemirror_mode": {
    "name": "ipython",
    "version": 3
   },
   "file_extension": ".py",
   "mimetype": "text/x-python",
   "name": "python",
   "nbconvert_exporter": "python",
   "pygments_lexer": "ipython3",
   "version": "3.11.1"
  }
 },
 "nbformat": 4,
 "nbformat_minor": 2
}
