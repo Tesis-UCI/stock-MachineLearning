{
  "cells": [
    {
      "cell_type": "code",
      "execution_count": 1,
      "metadata": {
        "id": "4dcf07vz4L_1"
      },
      "outputs": [],
      "source": [
        "import pandas as pd"
      ]
    },
    {
      "cell_type": "markdown",
      "metadata": {
        "id": "k-EYyKFv-qXb"
      },
      "source": [
        "# **Cargamos todos nuestros archivos .CSV**"
      ]
    },
    {
      "cell_type": "code",
      "execution_count": 3,
      "metadata": {
        "id": "_FL8J7srKviN"
      },
      "outputs": [],
      "source": [
        "articulos = pd.read_csv(\"./DATAFRAMES_MARIJOA/articulos.csv\")"
      ]
    },
    {
      "cell_type": "code",
      "execution_count": 4,
      "metadata": {
        "id": "ykm8PKlp8nt7"
      },
      "outputs": [],
      "source": [
        "pantone = pd.read_csv(\"./DATAFRAMES_MARIJOA/pantone.csv\")"
      ]
    },
    {
      "cell_type": "code",
      "execution_count": 5,
      "metadata": {
        "id": "3hePkqXD_m-O"
      },
      "outputs": [],
      "source": [
        "lotes = pd.read_csv(\"./DATAFRAMES_MARIJOA/lotes.csv\")"
      ]
    },
    {
      "cell_type": "code",
      "execution_count": 6,
      "metadata": {
        "colab": {
          "base_uri": "https://localhost:8080/"
        },
        "id": "Zbrx4Rs2-2Wj",
        "outputId": "69bb8070-db29-4807-fc5a-8a5023e5acf9"
      },
      "outputs": [
        {
          "name": "stderr",
          "output_type": "stream",
          "text": [
            "C:\\Users\\navo2\\AppData\\Local\\Temp\\ipykernel_11388\\262919384.py:1: DtypeWarning: Columns (19,38,41,42,43) have mixed types. Specify dtype option on import or set low_memory=False.\n",
            "  factura_venta = pd.read_csv(\"./DATAFRAMES_MARIJOA/factura_venta.csv\")\n"
          ]
        }
      ],
      "source": [
        "factura_venta = pd.read_csv(\"./DATAFRAMES_MARIJOA/factura_venta.csv\")"
      ]
    },
    {
      "cell_type": "code",
      "execution_count": 7,
      "metadata": {
        "id": "1jilB0_aCKUc"
      },
      "outputs": [],
      "source": [
        "unidades_medida= pd.read_csv(\"./DATAFRAMES_MARIJOA/unidades_medida.csv\")"
      ]
    },
    {
      "cell_type": "code",
      "execution_count": 8,
      "metadata": {
        "colab": {
          "base_uri": "https://localhost:8080/"
        },
        "id": "QCjo7CB0-Da4",
        "outputId": "077b45d9-84f4-4ee4-f313-9e84778569fc"
      },
      "outputs": [
        {
          "name": "stderr",
          "output_type": "stream",
          "text": [
            "C:\\Users\\navo2\\AppData\\Local\\Temp\\ipykernel_11388\\3143083764.py:1: DtypeWarning: Columns (2,17) have mixed types. Specify dtype option on import or set low_memory=False.\n",
            "  factura_vent_det = pd.read_csv(\"./DATAFRAMES_MARIJOA/fact_vent_det.csv\")\n"
          ]
        },
        {
          "data": {
            "text/plain": [
              "(1845946, 39)"
            ]
          },
          "execution_count": 8,
          "metadata": {},
          "output_type": "execute_result"
        }
      ],
      "source": [
        "factura_vent_det = pd.read_csv(\"./DATAFRAMES_MARIJOA/fact_vent_det.csv\")\n",
        "factura_vent_det.shape"
      ]
    },
    {
      "cell_type": "markdown",
      "metadata": {
        "id": "z4ejne2XBigU"
      },
      "source": [
        "# **buscamos información util en nuestras tablas.**"
      ]
    },
    {
      "cell_type": "code",
      "execution_count": 9,
      "metadata": {
        "colab": {
          "base_uri": "https://localhost:8080/"
        },
        "id": "fe-SzXAX8vi2",
        "outputId": "0c1312f2-0104-4bc4-8828-1d28cd7a7415"
      },
      "outputs": [
        {
          "data": {
            "text/plain": [
              "(1740, 4)"
            ]
          },
          "execution_count": 9,
          "metadata": {},
          "output_type": "execute_result"
        }
      ],
      "source": [
        "pantone.shape"
      ]
    },
    {
      "cell_type": "code",
      "execution_count": 10,
      "metadata": {
        "colab": {
          "base_uri": "https://localhost:8080/"
        },
        "id": "mZTLUorA_kYA",
        "outputId": "5f7406b8-12b7-49c3-ce33-6beea9b1efec"
      },
      "outputs": [
        {
          "data": {
            "text/plain": [
              "(643279, 54)"
            ]
          },
          "execution_count": 10,
          "metadata": {},
          "output_type": "execute_result"
        }
      ],
      "source": [
        "factura_venta.shape"
      ]
    },
    {
      "cell_type": "code",
      "execution_count": 11,
      "metadata": {
        "colab": {
          "base_uri": "https://localhost:8080/"
        },
        "id": "bKG3KtZJICdl",
        "outputId": "a80bf294-3428-4b5a-c3cb-b2f4f4a6be3b"
      },
      "outputs": [
        {
          "data": {
            "text/plain": [
              "Index(['id_det', 'f_nro', 'lote', 'codigo', 'um_prod', 'descrip', 'sku',\n",
              "       'um_cod', 'cantidad', 'cod_falla', 'cant_falla', 'cod_falla_e',\n",
              "       'falla_real', 'precio_venta', 'descuento', 'precio_neto', 'subtotal',\n",
              "       'tipo_iva', 'valor_iva', 'gramaje', 'ancho', 'tara', 'kg_calc',\n",
              "       'kg_med', 'cant_med', 'sis_med', 'verificador', 'fuera_rango', 'dif',\n",
              "       'tipo_desc', 'precio_costo', 'estado', 'estado_venta', 'control_laser',\n",
              "       'paquete', 'ref_factura', 'ref_cuota', 'e_sap', 'bd_f_nro'],\n",
              "      dtype='object')"
            ]
          },
          "execution_count": 11,
          "metadata": {},
          "output_type": "execute_result"
        }
      ],
      "source": [
        "factura_vent_det.columns"
      ]
    },
    {
      "cell_type": "code",
      "execution_count": 12,
      "metadata": {
        "colab": {
          "base_uri": "https://localhost:8080/"
        },
        "id": "Zsg8vmIg-eME",
        "outputId": "976687ea-8487-4a4e-e4c8-5042e5766e03"
      },
      "outputs": [
        {
          "data": {
            "text/plain": [
              "Index(['f_nro', 'cod_cli', 'cliente', 'usuario', 'fecha', 'hora', 'turno',\n",
              "       'ruc_cli', 'tipo_doc_cli', 'suc', 'cat', 'total_exenta', 'total_iva5',\n",
              "       'total_iva10', 'total', 'desc_sedeco', 'total_desc', 'total_bruto',\n",
              "       'estado', 'pdv_cod', 'fact_nro', 'tipo_fact', 'tipo_doc', 'pdv_ubic',\n",
              "       'nro_recibo', 'cod_desc', 'empaque', 'pref_pago', 'fecha_cierre',\n",
              "       'hora_cierre', 'nro_reserva', 'moneda', 'cotiz', 'control_caja',\n",
              "       'cant_cuotas', 'tipo', 'empaquetador', 'nro_orden', 'orden_cli',\n",
              "       'orden_valor', 'turno_id', 'turno_fecha', 'turno_llamada',\n",
              "       'turno_atencion', 'turno_repeticiones', 'notas', 'clase',\n",
              "       'ticket_print', 'fecha_caducidad', 'e_sap', 'nro_orden_shopify',\n",
              "       'sifen_sync', 'cdc', 'bd_f_nro'],\n",
              "      dtype='object')"
            ]
          },
          "execution_count": 12,
          "metadata": {},
          "output_type": "execute_result"
        }
      ],
      "source": [
        "factura_venta.columns"
      ]
    },
    {
      "cell_type": "code",
      "execution_count": 13,
      "metadata": {
        "colab": {
          "base_uri": "https://localhost:8080/",
          "height": 181
        },
        "id": "CM7G5EgXARhL",
        "outputId": "cc1e0c3d-8ee2-4c06-8f28-223b671e55c9"
      },
      "outputs": [
        {
          "data": {
            "text/plain": [
              "(6, 6)"
            ]
          },
          "execution_count": 13,
          "metadata": {},
          "output_type": "execute_result"
        }
      ],
      "source": [
        "unidades_medida.shape"
      ]
    },
    {
      "cell_type": "code",
      "execution_count": 14,
      "metadata": {
        "colab": {
          "base_uri": "https://localhost:8080/",
          "height": 181
        },
        "id": "M37LwmN0CwKq",
        "outputId": "b1af1fc5-ef24-457c-9def-8258f9dd96fd"
      },
      "outputs": [
        {
          "data": {
            "text/html": [
              "<div>\n",
              "<style scoped>\n",
              "    .dataframe tbody tr th:only-of-type {\n",
              "        vertical-align: middle;\n",
              "    }\n",
              "\n",
              "    .dataframe tbody tr th {\n",
              "        vertical-align: top;\n",
              "    }\n",
              "\n",
              "    .dataframe thead th {\n",
              "        text-align: right;\n",
              "    }\n",
              "</style>\n",
              "<table border=\"1\" class=\"dataframe\">\n",
              "  <thead>\n",
              "    <tr style=\"text-align: right;\">\n",
              "      <th></th>\n",
              "      <th>um_cod</th>\n",
              "      <th>um_descri</th>\n",
              "      <th>um_ref</th>\n",
              "      <th>um_mult</th>\n",
              "      <th>um_prior</th>\n",
              "      <th>um_cod_set</th>\n",
              "    </tr>\n",
              "  </thead>\n",
              "  <tbody>\n",
              "    <tr>\n",
              "      <th>0</th>\n",
              "      <td>Cm</td>\n",
              "      <td>Centimetros</td>\n",
              "      <td>Mts</td>\n",
              "      <td>0.010</td>\n",
              "      <td>5</td>\n",
              "      <td>NaN</td>\n",
              "    </tr>\n",
              "    <tr>\n",
              "      <th>1</th>\n",
              "      <td>Gr</td>\n",
              "      <td>Gramos</td>\n",
              "      <td>Kg</td>\n",
              "      <td>0.001</td>\n",
              "      <td>6</td>\n",
              "      <td>NaN</td>\n",
              "    </tr>\n",
              "    <tr>\n",
              "      <th>2</th>\n",
              "      <td>Kg</td>\n",
              "      <td>Kilogramos</td>\n",
              "      <td>NaN</td>\n",
              "      <td>1.000</td>\n",
              "      <td>3</td>\n",
              "      <td>NaN</td>\n",
              "    </tr>\n",
              "    <tr>\n",
              "      <th>3</th>\n",
              "      <td>Mts</td>\n",
              "      <td>Metros</td>\n",
              "      <td>NaN</td>\n",
              "      <td>1.000</td>\n",
              "      <td>1</td>\n",
              "      <td>NaN</td>\n",
              "    </tr>\n",
              "    <tr>\n",
              "      <th>4</th>\n",
              "      <td>Unid</td>\n",
              "      <td>Unidades</td>\n",
              "      <td>NaN</td>\n",
              "      <td>1.000</td>\n",
              "      <td>2</td>\n",
              "      <td>NaN</td>\n",
              "    </tr>\n",
              "    <tr>\n",
              "      <th>5</th>\n",
              "      <td>Yds</td>\n",
              "      <td>Yardas</td>\n",
              "      <td>Mts</td>\n",
              "      <td>0.914</td>\n",
              "      <td>4</td>\n",
              "      <td>NaN</td>\n",
              "    </tr>\n",
              "  </tbody>\n",
              "</table>\n",
              "</div>"
            ],
            "text/plain": [
              "  um_cod    um_descri um_ref  um_mult  um_prior  um_cod_set\n",
              "0     Cm  Centimetros    Mts    0.010         5         NaN\n",
              "1     Gr       Gramos     Kg    0.001         6         NaN\n",
              "2     Kg   Kilogramos    NaN    1.000         3         NaN\n",
              "3    Mts       Metros    NaN    1.000         1         NaN\n",
              "4   Unid     Unidades    NaN    1.000         2         NaN\n",
              "5    Yds       Yardas    Mts    0.914         4         NaN"
            ]
          },
          "execution_count": 14,
          "metadata": {},
          "output_type": "execute_result"
        }
      ],
      "source": [
        "unidades_medida"
      ]
    },
    {
      "cell_type": "markdown",
      "metadata": {
        "id": "Z7BZ0nEYKZGD"
      },
      "source": [
        "# **Tablas mas importantes**"
      ]
    },
    {
      "cell_type": "code",
      "execution_count": 15,
      "metadata": {
        "colab": {
          "base_uri": "https://localhost:8080/"
        },
        "id": "BzdO6brjKgg5",
        "outputId": "b4263c56-ad1c-4460-dd48-1c616f58a431"
      },
      "outputs": [
        {
          "data": {
            "text/plain": [
              "f_nro                                                         1\n",
              "cod_cli                                                 C003403\n",
              "cliente                   ANALISE PIAZZA MELGAREJO - MODA CHICK\n",
              "usuario                                                 Sistema\n",
              "fecha                                                2015-06-23\n",
              "hora                                                      07:00\n",
              "turno                                                       0.0\n",
              "ruc_cli                                               7360941-2\n",
              "tipo_doc_cli                                               R.G.\n",
              "suc                                                           5\n",
              "cat                                                           5\n",
              "total_exenta                                                NaN\n",
              "total_iva5                                                  NaN\n",
              "total_iva10                                                 NaN\n",
              "total                                                41172980.0\n",
              "desc_sedeco                                                 0.0\n",
              "total_desc                                                  0.0\n",
              "total_bruto                                          41172980.0\n",
              "estado                                                  Cerrada\n",
              "pdv_cod                                                     1.0\n",
              "fact_nro                                                    NaN\n",
              "tipo_fact                                                   NaN\n",
              "tipo_doc                                                    NaN\n",
              "pdv_ubic                                                    NaN\n",
              "nro_recibo                                                  NaN\n",
              "cod_desc                                                      0\n",
              "empaque                                                      Si\n",
              "pref_pago                                               Contado\n",
              "fecha_cierre                                         2015-06-23\n",
              "hora_cierre                                               07:00\n",
              "nro_reserva                                                 NaN\n",
              "moneda                                                       G$\n",
              "cotiz                                                       1.0\n",
              "control_caja                                                 Si\n",
              "cant_cuotas                                                28.0\n",
              "tipo                                                    Credito\n",
              "empaquetador                                                  *\n",
              "nro_orden                                                   NaN\n",
              "orden_cli                                                   NaN\n",
              "orden_valor                                                 NaN\n",
              "turno_id                                                    NaN\n",
              "turno_fecha                                                 NaN\n",
              "turno_llamada                                               NaN\n",
              "turno_atencion                                              NaN\n",
              "turno_repeticiones                                          NaN\n",
              "notas                 Migracion deuda SAP Doc: 29  MarijoaSAP: \n",
              "clase                                                  Servicio\n",
              "ticket_print                                                  0\n",
              "fecha_caducidad                                      2015-06-23\n",
              "e_sap                                                       2.0\n",
              "nro_orden_shopify                                           NaN\n",
              "sifen_sync                                                  NaN\n",
              "cdc                                                         NaN\n",
              "bd_f_nro                                                  pro_1\n",
              "Name: 0, dtype: object"
            ]
          },
          "execution_count": 15,
          "metadata": {},
          "output_type": "execute_result"
        }
      ],
      "source": [
        "factura_venta.iloc[0]"
      ]
    },
    {
      "cell_type": "code",
      "execution_count": 91,
      "metadata": {
        "colab": {
          "base_uri": "https://localhost:8080/"
        },
        "id": "DX9-psvlKlJO",
        "outputId": "99a9980a-9680-4d62-a5bb-e6987cb8eb4b"
      },
      "outputs": [
        {
          "data": {
            "text/plain": [
              "id_det                                             1\n",
              "f_nro                                              1\n",
              "lote                                             NaN\n",
              "codigo                                         SR003\n",
              "um_prod                                         Unid\n",
              "descrip          MIGRACION DE DEUDA SISTEMA ANTERIOR\n",
              "sku                                              NaN\n",
              "um_cod                                          Unid\n",
              "cantidad                                         1.0\n",
              "cod_falla                                        NaN\n",
              "cant_falla                                       NaN\n",
              "cod_falla_e                                      NaN\n",
              "falla_real                                       NaN\n",
              "precio_venta                              41172980.0\n",
              "descuento                                        0.0\n",
              "precio_neto                               41172980.0\n",
              "subtotal                                  41172980.0\n",
              "tipo_iva                                         NaN\n",
              "valor_iva                                        NaN\n",
              "gramaje                                          0.0\n",
              "ancho                                            0.0\n",
              "tara                                             0.0\n",
              "kg_calc                                          0.0\n",
              "kg_med                                           0.0\n",
              "cant_med                                         0.0\n",
              "sis_med                                         Unid\n",
              "verificador                                  Sistema\n",
              "fuera_rango                                      0.0\n",
              "dif                                              0.0\n",
              "tipo_desc                                        NaN\n",
              "precio_costo                              41172980.0\n",
              "estado                                     Pendiente\n",
              "estado_venta                                  Normal\n",
              "control_laser                                    NaN\n",
              "paquete                                          NaN\n",
              "ref_factura                                      NaN\n",
              "ref_cuota                                        NaN\n",
              "e_sap                                            0.0\n",
              "bd_f_nro                                       pro_1\n",
              "Name: 0, dtype: object"
            ]
          },
          "execution_count": 91,
          "metadata": {},
          "output_type": "execute_result"
        }
      ],
      "source": [
        "factura_vent_det.iloc[0]"
      ]
    },
    {
      "cell_type": "code",
      "execution_count": 16,
      "metadata": {
        "colab": {
          "base_uri": "https://localhost:8080/"
        },
        "id": "1C9mZefSKqs8",
        "outputId": "97134e80-6512-4347-be62-eaf3ed6fee18"
      },
      "outputs": [
        {
          "data": {
            "text/plain": [
              "(747277,)"
            ]
          },
          "execution_count": 16,
          "metadata": {},
          "output_type": "execute_result"
        }
      ],
      "source": [
        "# lotes.iloc[0]\n",
        "valores_unicos = lotes['lote'].unique()\n",
        "valores_unicos.shape"
      ]
    },
    {
      "cell_type": "code",
      "execution_count": 17,
      "metadata": {
        "colab": {
          "base_uri": "https://localhost:8080/"
        },
        "id": "BQmVZr6WRKem",
        "outputId": "6dc031eb-bbdf-4720-ca3d-6c3028dfa743"
      },
      "outputs": [
        {
          "data": {
            "text/plain": [
              "codigo                           AC001\n",
              "lote                           5231922\n",
              "cod_serie                           22\n",
              "pantone                        00-0000\n",
              "umc                               Unid\n",
              "um_prod                           Unid\n",
              "nro_lote_fab                       1.0\n",
              "store                       CTXW22067 \n",
              "bag                                  1\n",
              "nro_pieza                          334\n",
              "ancho                              1.0\n",
              "gramaje                            1.0\n",
              "gramaje_m                          1.0\n",
              "tara                               0.0\n",
              "kg_desc                           0.68\n",
              "quty_ticket                        1.0\n",
              "quty_c_um                          1.0\n",
              "color_comb                     NINGUNO\n",
              "cod_catalogo                     SHELF\n",
              "color_cod_fabric               STARTER\n",
              "design                            LISO\n",
              "notas                              NaN\n",
              "img                 OPDN-1948/16892518\n",
              "padre                              NaN\n",
              "rec                                 Si\n",
              "fecha_creacion                     NaN\n",
              "id_ent                         24552.0\n",
              "id_det                           334.0\n",
              "id_frac                            NaN\n",
              "id_prod_ter                        NaN\n",
              "id_compra                          NaN\n",
              "Name: 0, dtype: object"
            ]
          },
          "execution_count": 17,
          "metadata": {},
          "output_type": "execute_result"
        }
      ],
      "source": [
        "lotes.iloc[0]"
      ]
    },
    {
      "cell_type": "code",
      "execution_count": 18,
      "metadata": {
        "colab": {
          "base_uri": "https://localhost:8080/"
        },
        "id": "gKy7m7mgYViW",
        "outputId": "9f135d0c-21ef-47f0-868a-d902d36a9c74"
      },
      "outputs": [
        {
          "data": {
            "text/plain": [
              "codigo                                                          B0149\n",
              "clase                                                        Articulo\n",
              "descrip                                                   MORLEY LOLA\n",
              "cod_sector                                                        101\n",
              "um                                                                Mts\n",
              "costo_prom                                                    8283.27\n",
              "costo_cif                                                    12186.27\n",
              "costo_fob                                                         NaN\n",
              "art_venta                                                        True\n",
              "art_inv                                                          True\n",
              "art_compra                                                       True\n",
              "art_gramado                                                      True\n",
              "img                                                               NaN\n",
              "estado_venta                                                   Normal\n",
              "composicion                                          Algodón /Spandex\n",
              "temporada                                                        Perm\n",
              "ligamento                                                        RIBB\n",
              "combinacion                                                       NaN\n",
              "especificaciones    El Morley Lola es de tacto suave, fresca y liv...\n",
              "acabado                                                          Mate\n",
              "tipo                                                            Punto\n",
              "estetica                                                         Liso\n",
              "ancho                                                             1.7\n",
              "espesor                                                           0.0\n",
              "gramaje_prom                                                    377.0\n",
              "rendimiento                                                       1.4\n",
              "produc_ancho                                                      0.0\n",
              "produc_largo                                                      0.0\n",
              "produc_alto                                                       0.0\n",
              "produc_costo                                                      NaN\n",
              "mnj_x_lotes                                                        Si\n",
              "cant_retazo                                                       2.0\n",
              "precio_retazo                                                  6742.0\n",
              "sistema_liado                                        Pieza_Elastizada\n",
              "tags                                                              NaN\n",
              "visible_web                                                     false\n",
              "web_min_stock                                                     NaN\n",
              "shopify_id                                                        NaN\n",
              "tipo_iva                                                       iva_10\n",
              "estado                                                         Activo\n",
              "Name: 200, dtype: object"
            ]
          },
          "execution_count": 18,
          "metadata": {},
          "output_type": "execute_result"
        }
      ],
      "source": [
        "articulos.iloc[200]"
      ]
    },
    {
      "cell_type": "markdown",
      "metadata": {
        "id": "u_xG1nXIWR0j"
      },
      "source": [
        "# ***Limpieza de datos:***"
      ]
    },
    {
      "cell_type": "code",
      "execution_count": 19,
      "metadata": {
        "colab": {
          "base_uri": "https://localhost:8080/"
        },
        "id": "oD8LrtjeR0fP",
        "outputId": "95686522-b748-4c45-f8dc-0e10617b0900"
      },
      "outputs": [
        {
          "data": {
            "text/plain": [
              "array(['Punto', 'No Tejido', 'Plano'], dtype=object)"
            ]
          },
          "execution_count": 19,
          "metadata": {},
          "output_type": "execute_result"
        }
      ],
      "source": [
        "valores_unicos = articulos['tipo'].unique()\n",
        "valores_unicos"
      ]
    },
    {
      "cell_type": "code",
      "execution_count": 24,
      "metadata": {
        "colab": {
          "base_uri": "https://localhost:8080/"
        },
        "id": "1BRZeP_VVlax",
        "outputId": "36d21607-23b4-4d44-a820-1cf7b85c8bb1"
      },
      "outputs": [
        {
          "name": "stdout",
          "output_type": "stream",
          "text": [
            "Se eliminaron 25 filas con valores no deseados.\n"
          ]
        }
      ],
      "source": [
        "# Valores no deseados\n",
        "valores_no_deseados = ['No Tejido', 'No tejido', 'NO TEJIDO', 'no tejido']\n",
        "\n",
        "# Contar cuántas filas serán eliminadas\n",
        "filas_eliminadas = articulos[articulos['ligamento'].isin(valores_no_deseados)].shape[0]\n",
        "\n",
        "# Eliminar las filas con valores no deseados\n",
        "articulos = articulos[~articulos['ligamento'].isin(valores_no_deseados)]\n",
        "\n",
        "\n",
        "# Imprimir cuántas filas fueron eliminadas\n",
        "print(f\"Se eliminaron {filas_eliminadas} filas con valores no deseados.\")"
      ]
    },
    {
      "cell_type": "code",
      "execution_count": 25,
      "metadata": {
        "colab": {
          "base_uri": "https://localhost:8080/",
          "height": 218
        },
        "id": "Ne_H2k2oXH5T",
        "outputId": "eec359fb-dc27-42b2-d8f1-f15adf7846fb"
      },
      "outputs": [
        {
          "name": "stdout",
          "output_type": "stream",
          "text": [
            "DataFrame shape después de eliminar filas:\n"
          ]
        },
        {
          "data": {
            "text/plain": [
              "(1270, 40)"
            ]
          },
          "execution_count": 25,
          "metadata": {},
          "output_type": "execute_result"
        }
      ],
      "source": [
        "print(\"DataFrame shape después de eliminar filas:\")\n",
        "articulos.shape"
      ]
    },
    {
      "cell_type": "code",
      "execution_count": null,
      "metadata": {
        "id": "topanDKEXTym"
      },
      "outputs": [],
      "source": []
    },
    {
      "cell_type": "code",
      "execution_count": 26,
      "metadata": {
        "id": "vcmpuhAtZB3E"
      },
      "outputs": [],
      "source": [
        "articulos.to_csv(\"articulos_limpios.csv\")"
      ]
    },
    {
      "cell_type": "code",
      "execution_count": null,
      "metadata": {
        "id": "LNTF8y_icyLF"
      },
      "outputs": [],
      "source": []
    },
    {
      "cell_type": "code",
      "execution_count": null,
      "metadata": {},
      "outputs": [],
      "source": []
    }
  ],
  "metadata": {
    "accelerator": "GPU",
    "colab": {
      "gpuType": "T4",
      "provenance": [],
      "toc_visible": true
    },
    "kernelspec": {
      "display_name": "Python 3",
      "name": "python3"
    },
    "language_info": {
      "codemirror_mode": {
        "name": "ipython",
        "version": 3
      },
      "file_extension": ".py",
      "mimetype": "text/x-python",
      "name": "python",
      "nbconvert_exporter": "python",
      "pygments_lexer": "ipython3",
      "version": "3.11.1"
    }
  },
  "nbformat": 4,
  "nbformat_minor": 0
}
