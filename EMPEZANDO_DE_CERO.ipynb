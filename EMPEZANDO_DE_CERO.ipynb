{
 "cells": [
  {
   "cell_type": "code",
   "execution_count": null,
   "metadata": {},
   "outputs": [],
   "source": []
  },
  {
   "cell_type": "code",
   "execution_count": 286,
   "metadata": {},
   "outputs": [],
   "source": [
    "import plotly.express as px \n",
    "import pandas as pd\n",
    "import os\n",
    "import datetime\n",
    "import seaborn as sns\n",
    "import matplotlib.pyplot as plt\n",
    "import prophet\n",
    "df = pd.read_csv(\"datos_limpios_pro.csv\")"
   ]
  },
  {
   "cell_type": "code",
   "execution_count": 287,
   "metadata": {},
   "outputs": [],
   "source": [
    "df['fecha'] = pd.to_datetime(df['fecha'], format='%Y-%m-%d')\n",
    "# Crear la nueva columna 'date_block_num'\n",
    "df['date_block_num'] = (df['fecha'].dt.year - 2021) * 12 + df['fecha'].dt.month - 2"
   ]
  },
  {
   "cell_type": "code",
   "execution_count": 288,
   "metadata": {},
   "outputs": [
    {
     "data": {
      "text/plain": [
       "Index(['codigo', 'descrip', 'cod_sector', 'fecha', 'design', 'pantone',\n",
       "       'nombre_color', 'cantidad', 'suc', 'temporada_venta', 'date_block_num'],\n",
       "      dtype='object')"
      ]
     },
     "execution_count": 288,
     "metadata": {},
     "output_type": "execute_result"
    }
   ],
   "source": [
    "df.columns"
   ]
  },
  {
   "cell_type": "code",
   "execution_count": 289,
   "metadata": {},
   "outputs": [],
   "source": [
    "df['fecha'] = pd.to_datetime(df['fecha'], format='%d/%m/%Y')\n",
    "\n",
    "# Agrupar y sumar la columna 'cantidad' para filas con la misma fecha, descrip, design, nombre_color y sucursal\n",
    "df = df.groupby(['fecha', 'descrip', 'design', 'nombre_color', 'suc',\"date_block_num\",\"temporada_venta\"]).agg({'cantidad': 'sum'}).reset_index()\n",
    "df['fecha'] = df['fecha'].dt.strftime('%d/%m/%Y')"
   ]
  },
  {
   "cell_type": "code",
   "execution_count": 290,
   "metadata": {},
   "outputs": [],
   "source": [
    "# Transformando a formato fecha\n",
    "df[\"fecha\"] = df.fecha.apply(lambda x:datetime.datetime.strptime(x, '%d/%m/%Y'))\n",
    "# Creando variables de mes y dia para considerar en el modelo\n",
    "df[\"mes\"] = df[\"fecha\"].dt.month\n",
    "df[\"dia\"] = df[\"fecha\"].dt.day"
   ]
  },
  {
   "cell_type": "code",
   "execution_count": 291,
   "metadata": {},
   "outputs": [
    {
     "data": {
      "text/html": [
       "<div>\n",
       "<style scoped>\n",
       "    .dataframe tbody tr th:only-of-type {\n",
       "        vertical-align: middle;\n",
       "    }\n",
       "\n",
       "    .dataframe tbody tr th {\n",
       "        vertical-align: top;\n",
       "    }\n",
       "\n",
       "    .dataframe thead th {\n",
       "        text-align: right;\n",
       "    }\n",
       "</style>\n",
       "<table border=\"1\" class=\"dataframe\">\n",
       "  <thead>\n",
       "    <tr style=\"text-align: right;\">\n",
       "      <th></th>\n",
       "      <th>fecha</th>\n",
       "      <th>suc</th>\n",
       "      <th>date_block_num</th>\n",
       "      <th>cantidad</th>\n",
       "      <th>mes</th>\n",
       "      <th>dia</th>\n",
       "    </tr>\n",
       "  </thead>\n",
       "  <tbody>\n",
       "    <tr>\n",
       "      <th>count</th>\n",
       "      <td>1437191.00000</td>\n",
       "      <td>1437191.00000</td>\n",
       "      <td>1437191.00000</td>\n",
       "      <td>1437191.00000</td>\n",
       "      <td>1437191.00000</td>\n",
       "      <td>1437191.00000</td>\n",
       "    </tr>\n",
       "    <tr>\n",
       "      <th>mean</th>\n",
       "      <td>.5f</td>\n",
       "      <td>9.38830</td>\n",
       "      <td>15.51654</td>\n",
       "      <td>11.04967</td>\n",
       "      <td>6.49940</td>\n",
       "      <td>15.52192</td>\n",
       "    </tr>\n",
       "    <tr>\n",
       "      <th>min</th>\n",
       "      <td>.5f</td>\n",
       "      <td>0.00000</td>\n",
       "      <td>0.00000</td>\n",
       "      <td>0.03000</td>\n",
       "      <td>1.00000</td>\n",
       "      <td>1.00000</td>\n",
       "    </tr>\n",
       "    <tr>\n",
       "      <th>25%</th>\n",
       "      <td>.5f</td>\n",
       "      <td>2.00000</td>\n",
       "      <td>8.00000</td>\n",
       "      <td>1.00000</td>\n",
       "      <td>4.00000</td>\n",
       "      <td>8.00000</td>\n",
       "    </tr>\n",
       "    <tr>\n",
       "      <th>50%</th>\n",
       "      <td>.5f</td>\n",
       "      <td>5.00000</td>\n",
       "      <td>16.00000</td>\n",
       "      <td>2.00000</td>\n",
       "      <td>6.00000</td>\n",
       "      <td>16.00000</td>\n",
       "    </tr>\n",
       "    <tr>\n",
       "      <th>75%</th>\n",
       "      <td>.5f</td>\n",
       "      <td>10.00000</td>\n",
       "      <td>23.00000</td>\n",
       "      <td>3.70000</td>\n",
       "      <td>9.00000</td>\n",
       "      <td>23.00000</td>\n",
       "    </tr>\n",
       "    <tr>\n",
       "      <th>max</th>\n",
       "      <td>.5f</td>\n",
       "      <td>30.00000</td>\n",
       "      <td>30.00000</td>\n",
       "      <td>31020.30000</td>\n",
       "      <td>12.00000</td>\n",
       "      <td>31.00000</td>\n",
       "    </tr>\n",
       "    <tr>\n",
       "      <th>std</th>\n",
       "      <td>nan</td>\n",
       "      <td>9.85417</td>\n",
       "      <td>8.77264</td>\n",
       "      <td>105.14796</td>\n",
       "      <td>3.31510</td>\n",
       "      <td>8.72387</td>\n",
       "    </tr>\n",
       "  </tbody>\n",
       "</table>\n",
       "</div>"
      ],
      "text/plain": [
       "               fecha            suc date_block_num       cantidad   \n",
       "count  1437191.00000  1437191.00000  1437191.00000  1437191.00000  \\\n",
       "mean             .5f        9.38830       15.51654       11.04967   \n",
       "min              .5f        0.00000        0.00000        0.03000   \n",
       "25%              .5f        2.00000        8.00000        1.00000   \n",
       "50%              .5f        5.00000       16.00000        2.00000   \n",
       "75%              .5f       10.00000       23.00000        3.70000   \n",
       "max              .5f       30.00000       30.00000    31020.30000   \n",
       "std              nan        9.85417        8.77264      105.14796   \n",
       "\n",
       "                 mes            dia  \n",
       "count  1437191.00000  1437191.00000  \n",
       "mean         6.49940       15.52192  \n",
       "min          1.00000        1.00000  \n",
       "25%          4.00000        8.00000  \n",
       "50%          6.00000       16.00000  \n",
       "75%          9.00000       23.00000  \n",
       "max         12.00000       31.00000  \n",
       "std          3.31510        8.72387  "
      ]
     },
     "execution_count": 291,
     "metadata": {},
     "output_type": "execute_result"
    }
   ],
   "source": [
    "df.describe().apply(lambda s: s.apply('{0:.5f}'.format))"
   ]
  },
  {
   "cell_type": "code",
   "execution_count": 292,
   "metadata": {},
   "outputs": [
    {
     "data": {
      "text/plain": [
       "<Axes: >"
      ]
     },
     "execution_count": 292,
     "metadata": {},
     "output_type": "execute_result"
    },
    {
     "data": {
      "image/png": "[encoded data removed]",
      "text/plain": [
       "<Figure size 1200x800 with 2 Axes>"
      ]
     },
     "metadata": {},
     "output_type": "display_data"
    }
   ],
   "source": [
    "fig, ax = plt.subplots(2,1, figsize=(12,8))\n",
    "sns.boxplot(df[\"cantidad\"], ax=ax[1])"
   ]
  },
  {
   "cell_type": "code",
   "execution_count": 293,
   "metadata": {},
   "outputs": [
    {
     "name": "stdout",
     "output_type": "stream",
     "text": [
      "Conjunto de datos de ventas corregidos\n"
     ]
    },
    {
     "data": {
      "text/html": [
       "<div>\n",
       "<style scoped>\n",
       "    .dataframe tbody tr th:only-of-type {\n",
       "        vertical-align: middle;\n",
       "    }\n",
       "\n",
       "    .dataframe tbody tr th {\n",
       "        vertical-align: top;\n",
       "    }\n",
       "\n",
       "    .dataframe thead th {\n",
       "        text-align: right;\n",
       "    }\n",
       "</style>\n",
       "<table border=\"1\" class=\"dataframe\">\n",
       "  <thead>\n",
       "    <tr style=\"text-align: right;\">\n",
       "      <th></th>\n",
       "      <th>fecha</th>\n",
       "      <th>suc</th>\n",
       "      <th>date_block_num</th>\n",
       "      <th>cantidad</th>\n",
       "      <th>mes</th>\n",
       "      <th>dia</th>\n",
       "    </tr>\n",
       "  </thead>\n",
       "  <tbody>\n",
       "    <tr>\n",
       "      <th>count</th>\n",
       "      <td>1437157.00000</td>\n",
       "      <td>1437157.00000</td>\n",
       "      <td>1437157.00000</td>\n",
       "      <td>1437157.00000</td>\n",
       "      <td>1437157.00000</td>\n",
       "      <td>1437157.00000</td>\n",
       "    </tr>\n",
       "    <tr>\n",
       "      <th>mean</th>\n",
       "      <td>.5f</td>\n",
       "      <td>9.38829</td>\n",
       "      <td>15.51643</td>\n",
       "      <td>10.71664</td>\n",
       "      <td>6.49942</td>\n",
       "      <td>15.52187</td>\n",
       "    </tr>\n",
       "    <tr>\n",
       "      <th>min</th>\n",
       "      <td>.5f</td>\n",
       "      <td>0.00000</td>\n",
       "      <td>0.00000</td>\n",
       "      <td>0.03000</td>\n",
       "      <td>1.00000</td>\n",
       "      <td>1.00000</td>\n",
       "    </tr>\n",
       "    <tr>\n",
       "      <th>25%</th>\n",
       "      <td>.5f</td>\n",
       "      <td>2.00000</td>\n",
       "      <td>8.00000</td>\n",
       "      <td>1.00000</td>\n",
       "      <td>4.00000</td>\n",
       "      <td>8.00000</td>\n",
       "    </tr>\n",
       "    <tr>\n",
       "      <th>50%</th>\n",
       "      <td>.5f</td>\n",
       "      <td>5.00000</td>\n",
       "      <td>16.00000</td>\n",
       "      <td>2.00000</td>\n",
       "      <td>6.00000</td>\n",
       "      <td>16.00000</td>\n",
       "    </tr>\n",
       "    <tr>\n",
       "      <th>75%</th>\n",
       "      <td>.5f</td>\n",
       "      <td>10.00000</td>\n",
       "      <td>23.00000</td>\n",
       "      <td>3.70000</td>\n",
       "      <td>9.00000</td>\n",
       "      <td>23.00000</td>\n",
       "    </tr>\n",
       "    <tr>\n",
       "      <th>max</th>\n",
       "      <td>.5f</td>\n",
       "      <td>30.00000</td>\n",
       "      <td>30.00000</td>\n",
       "      <td>10000.00000</td>\n",
       "      <td>12.00000</td>\n",
       "      <td>31.00000</td>\n",
       "    </tr>\n",
       "    <tr>\n",
       "      <th>std</th>\n",
       "      <td>nan</td>\n",
       "      <td>9.85408</td>\n",
       "      <td>8.77267</td>\n",
       "      <td>74.47352</td>\n",
       "      <td>3.31509</td>\n",
       "      <td>8.72384</td>\n",
       "    </tr>\n",
       "  </tbody>\n",
       "</table>\n",
       "</div>"
      ],
      "text/plain": [
       "               fecha            suc date_block_num       cantidad   \n",
       "count  1437157.00000  1437157.00000  1437157.00000  1437157.00000  \\\n",
       "mean             .5f        9.38829       15.51643       10.71664   \n",
       "min              .5f        0.00000        0.00000        0.03000   \n",
       "25%              .5f        2.00000        8.00000        1.00000   \n",
       "50%              .5f        5.00000       16.00000        2.00000   \n",
       "75%              .5f       10.00000       23.00000        3.70000   \n",
       "max              .5f       30.00000       30.00000    10000.00000   \n",
       "std              nan        9.85408        8.77267       74.47352   \n",
       "\n",
       "                 mes            dia  \n",
       "count  1437157.00000  1437157.00000  \n",
       "mean         6.49942       15.52187  \n",
       "min          1.00000        1.00000  \n",
       "25%          4.00000        8.00000  \n",
       "50%          6.00000       16.00000  \n",
       "75%          9.00000       23.00000  \n",
       "max         12.00000       31.00000  \n",
       "std          3.31509        8.72384  "
      ]
     },
     "execution_count": 293,
     "metadata": {},
     "output_type": "execute_result"
    }
   ],
   "source": [
    "df = df.loc[df[\"cantidad\"] <= 10000]\n",
    "print(\"Conjunto de datos de ventas corregidos\")\n",
    "df.describe().apply(lambda s: s.apply('{0:.5f}'.format))"
   ]
  },
  {
   "cell_type": "code",
   "execution_count": 294,
   "metadata": {},
   "outputs": [
    {
     "data": {
      "text/plain": [
       "<Axes: >"
      ]
     },
     "execution_count": 294,
     "metadata": {},
     "output_type": "execute_result"
    },
    {
     "data": {
      "image/png": "[encoded data removed]",
      "text/plain": [
       "<Figure size 1200x800 with 2 Axes>"
      ]
     },
     "metadata": {},
     "output_type": "display_data"
    }
   ],
   "source": [
    "fig, ax = plt.subplots(2,1, figsize=(12,8))\n",
    "sns.boxplot(df[\"cantidad\"], ax=ax[1])"
   ]
  },
  {
   "cell_type": "markdown",
   "metadata": {},
   "source": [
    "¿Cúantos items fueron vendidos por mes?"
   ]
  },
  {
   "cell_type": "code",
   "execution_count": 295,
   "metadata": {},
   "outputs": [
    {
     "data": {
      "text/plain": [
       "<Axes: xlabel='fecha', ylabel='cantidad'>"
      ]
     },
     "execution_count": 295,
     "metadata": {},
     "output_type": "execute_result"
    },
    {
     "data": {
      "image/png": "[encoded data removed]",
      "text/plain": [
       "<Figure size 1200x800 with 1 Axes>"
      ]
     },
     "metadata": {},
     "output_type": "display_data"
    }
   ],
   "source": [
    "ventas_tiempo = df.copy()\n",
    "ventas_tiempo = ventas_tiempo.set_index('fecha')\n",
    "total_items_por_mes = ventas_tiempo.cantidad.resample('M').sum()\n",
    "\n",
    "fig, ax = plt.subplots(figsize=(12,8))\n",
    "sns.lineplot(data=total_items_por_mes, ax=ax)"
   ]
  },
  {
   "cell_type": "markdown",
   "metadata": {},
   "source": [
    "¿Cuál tienda tiene un mayor volumen de ventas?"
   ]
  },
  {
   "cell_type": "code",
   "execution_count": 296,
   "metadata": {},
   "outputs": [
    {
     "data": {
      "text/plain": [
       "<Axes: xlabel='suc', ylabel='cantidad'>"
      ]
     },
     "execution_count": 296,
     "metadata": {},
     "output_type": "execute_result"
    },
    {
     "data": {
      "image/png": "[encoded data removed]",
      "text/plain": [
       "<Figure size 640x480 with 1 Axes>"
      ]
     },
     "metadata": {},
     "output_type": "display_data"
    }
   ],
   "source": [
    "ventas_tienda = df.groupby([\"suc\"])[\"cantidad\"].sum()\n",
    "ventas_tienda.sort_values(ascending=False, inplace=True)\n",
    "ventas_tienda = ventas_tienda[0:10].reset_index()\n",
    "sns.barplot(y=\"cantidad\", x=\"suc\", data=ventas_tienda, order=ventas_tienda.sort_values('cantidad', ascending=False)[\"suc\"])"
   ]
  },
  {
   "cell_type": "markdown",
   "metadata": {},
   "source": [
    "¿Cuál es el item mas popular en cada tienda?"
   ]
  },
  {
   "cell_type": "code",
   "execution_count": 297,
   "metadata": {},
   "outputs": [
    {
     "name": "stdout",
     "output_type": "stream",
     "text": [
      "suc                         0\n",
      "descrip     VIYELAS ESTAMPADA\n",
      "cantidad            525813.35\n",
      "dtype: object\n",
      "suc                    1\n",
      "descrip     VOLADOS LOLA\n",
      "cantidad       160545.18\n",
      "dtype: object\n",
      "suc                    2\n",
      "descrip     VOLADOS LOLA\n",
      "cantidad       251833.04\n",
      "dtype: object\n",
      "suc                    4\n",
      "descrip     VOLADOS LOLA\n",
      "cantidad        68384.51\n",
      "dtype: object\n",
      "suc                    5\n",
      "descrip     VOLADOS LOLA\n",
      "cantidad        124887.9\n",
      "dtype: object\n",
      "suc                     6\n",
      "descrip      VOLADOS LOLA\n",
      "cantidad    745872.984497\n",
      "dtype: object\n",
      "suc                   10\n",
      "descrip     VOLADOS LOLA\n",
      "cantidad        51859.67\n",
      "dtype: object\n",
      "suc                    24\n",
      "descrip      VOLADOS LOLA\n",
      "cantidad    272716.694184\n",
      "dtype: object\n",
      "suc                   25\n",
      "descrip     VOLADOS LOLA\n",
      "cantidad       159778.53\n",
      "dtype: object\n",
      "suc                        30\n",
      "descrip     VIYELAS ESTAMPADA\n",
      "cantidad             96024.74\n",
      "dtype: object\n"
     ]
    }
   ],
   "source": [
    "ventas_tienda_item = df.groupby([\"suc\",\"descrip\"])[\"cantidad\"].sum().reset_index()\n",
    "\n",
    "for tienda in ventas_tienda_item.suc.unique():\n",
    "    agg_ventas_tienda = ventas_tienda_item.loc[ventas_tienda_item[\"suc\"] == tienda]\n",
    "    item_tienda_sort = agg_ventas_tienda.sort_values([\"cantidad\"], ascending=False)\n",
    "    print(item_tienda_sort.max())"
   ]
  },
  {
   "cell_type": "markdown",
   "metadata": {},
   "source": [
    "01 - Encarnación 1\n",
    "02 - Encarnación 2\n",
    "04 - Hohenau\n",
    "05 - Santa Rita\n",
    "06 - CDE 3.5\n",
    "10 - CDE Centro\n",
    "24 - San Lorenzo\n",
    "25 - Asunción\n",
    "30 - Lambaré"
   ]
  },
  {
   "cell_type": "markdown",
   "metadata": {},
   "source": [
    "Si tuvieramos por ejemplo el precio de cada venta, podriamos determinar que sucursales son las que tienen mayor ganancia y son mas rentables, porque no siempre las que mas venden son las que mas ganan."
   ]
  },
  {
   "cell_type": "markdown",
   "metadata": {},
   "source": [
    "El trend de tiempo muestra picos claramente definidos para los meses de abril y mayo, asi que resulta de interes saber que tiendas e items se venden durante estos meses en particular."
   ]
  },
  {
   "cell_type": "code",
   "execution_count": 298,
   "metadata": {},
   "outputs": [
    {
     "data": {
      "text/plain": [
       "<Axes: xlabel='suc', ylabel='cantidad'>"
      ]
     },
     "execution_count": 298,
     "metadata": {},
     "output_type": "execute_result"
    },
    {
     "data": {
      "image/png": "[encoded data removed]",
      "text/plain": [
       "<Figure size 640x480 with 1 Axes>"
      ]
     },
     "metadata": {},
     "output_type": "display_data"
    }
   ],
   "source": [
    "abril_ventas = df.loc[df[\"mes\"] == 4]\n",
    "group_abril_ventas = abril_ventas.groupby([\"suc\", \"descrip\"])[\"cantidad\"].sum().reset_index()\n",
    "top_5_abril = group_abril_ventas.sort_values([\"cantidad\"], ascending=False)[0:5]\n",
    "\n",
    "sns.barplot(y=\"cantidad\", x=\"suc\", data=top_5_abril, \n",
    "            order=top_5_abril.sort_values('cantidad', ascending=False)[\"suc\"],\n",
    "            hue=\"descrip\")"
   ]
  },
  {
   "cell_type": "markdown",
   "metadata": {},
   "source": [
    "Ahora usaremos un producto en especifico para empezar a hacer predicciones."
   ]
  },
  {
   "cell_type": "code",
   "execution_count": 328,
   "metadata": {},
   "outputs": [
    {
     "data": {
      "text/plain": [
       "array(['VERDE', 'AZUL', 'BLANCO', 'GRIS', 'NEGRO', 'ROJO', 'ROSA',\n",
       "       'BEIGE', 'VIOLETA', 'MARRON', 'CHOCOLATE', 'FUCSIA', 'TURQUESA',\n",
       "       'CAMEL', 'VAINILLA', 'BORDO', 'CELESTE', 'LILA', 'NARANJA',\n",
       "       'AMARILLO', 'AGUAMARINA', 'SALMON', 'CORAL', 'MAGENTA', 'NATURAL',\n",
       "       'MARFIL', 'SIN', 'PURPURA', 'MOSTAZA', 'CIELO', 'OCRE',\n",
       "       'MELOCOTON', 'MORADO', 'COBRE', 'LAVANDA'], dtype=object)"
      ]
     },
     "execution_count": 328,
     "metadata": {},
     "output_type": "execute_result"
    }
   ],
   "source": [
    "def limpiar_color(color):\n",
    "    partes = color.split()\n",
    "    return partes[0]\n",
    "\n",
    "# Aplicar la función a la columna \"nombre_color\" y crear una nueva columna llamada \"color_limpiado\"\n",
    "df['nombre_color'] = df['nombre_color'].apply(limpiar_color)\n",
    "df['nombre_color'].unique()"
   ]
  },
  {
   "cell_type": "code",
   "execution_count": 334,
   "metadata": {},
   "outputs": [],
   "source": [
    "df = df.groupby(['fecha', 'descrip', 'nombre_color', 'suc']).agg({'cantidad': 'sum'}).reset_index()\n",
    "\n",
    "# Eliminar columnas innecesarias\n",
    "df = df[['fecha', 'descrip', 'nombre_color', 'suc', 'cantidad']]"
   ]
  },
  {
   "cell_type": "code",
   "execution_count": 443,
   "metadata": {},
   "outputs": [],
   "source": [
    "poplin = df[(df['descrip'] == 'DIOLEN LISO') & \n",
    "              (df['nombre_color'] == 'BLANCO') & \n",
    "              (df['suc'].astype('int64') == 2)]"
   ]
  },
  {
   "cell_type": "code",
   "execution_count": 371,
   "metadata": {},
   "outputs": [
    {
     "name": "stdout",
     "output_type": "stream",
     "text": [
      "Color más frecuente: BLANCO\n",
      "Cantidad de registros para el color más frecuente: 774\n"
     ]
    }
   ],
   "source": [
    "frecuencia_colores = poplin[\"nombre_color\"].value_counts()\n",
    "\n",
    "# Obtener el color con la mayor frecuencia\n",
    "color_mas_frecuente = frecuencia_colores.idxmax()\n",
    "\n",
    "# Obtener la cantidad de registros para el color más frecuente\n",
    "cantidad_registros_color_mas_frecuente = frecuencia_colores.max()\n",
    "\n",
    "# Imprimir los resultados\n",
    "print(f\"Color más frecuente: {color_mas_frecuente}\")\n",
    "print(f\"Cantidad de registros para el color más frecuente: {cantidad_registros_color_mas_frecuente}\")"
   ]
  },
  {
   "cell_type": "code",
   "execution_count": 444,
   "metadata": {},
   "outputs": [
    {
     "data": {
      "text/plain": [
       "(774,)"
      ]
     },
     "execution_count": 444,
     "metadata": {},
     "output_type": "execute_result"
    }
   ],
   "source": [
    "poplin = poplin[[\"fecha\", \"cantidad\"]]\n",
    "poplin.columns = [\"ds\",\"y\"]\n",
    "poplin[\"ds\"].unique().shape"
   ]
  },
  {
   "cell_type": "code",
   "execution_count": 355,
   "metadata": {},
   "outputs": [],
   "source": [
    "from prophet import Prophet\n",
    "import pandas as pd\n",
    "from prophet import Prophet\n",
    "from prophet.diagnostics import cross_validation\n",
    "from prophet.diagnostics import performance_metrics\n",
    "from prophet.plot import plot_cross_validation_metric\n",
    "from sklearn.model_selection import ParameterGrid\n",
    "import numpy as np\n"
   ]
  },
  {
   "cell_type": "code",
   "execution_count": 373,
   "metadata": {},
   "outputs": [
    {
     "name": "stderr",
     "output_type": "stream",
     "text": [
      "00:07:12 - cmdstanpy - INFO - Chain [1] start processing\n",
      "00:07:13 - cmdstanpy - INFO - Chain [1] done processing\n"
     ]
    },
    {
     "data": {
      "application/vnd.jupyter.widget-view+json": {
       "model_id": "ff8708e3747842c09da15c22c2f4b483",
       "version_major": 2,
       "version_minor": 0
      },
      "text/plain": [
       "  0%|          | 0/9 [00:00<?, ?it/s]"
      ]
     },
     "metadata": {},
     "output_type": "display_data"
    },
    {
     "name": "stderr",
     "output_type": "stream",
     "text": [
      "00:07:14 - cmdstanpy - INFO - Chain [1] start processing\n",
      "00:07:14 - cmdstanpy - INFO - Chain [1] done processing\n",
      "00:07:15 - cmdstanpy - INFO - Chain [1] start processing\n",
      "00:07:15 - cmdstanpy - INFO - Chain [1] done processing\n",
      "00:07:16 - cmdstanpy - INFO - Chain [1] start processing\n",
      "00:07:16 - cmdstanpy - INFO - Chain [1] done processing\n",
      "00:07:17 - cmdstanpy - INFO - Chain [1] start processing\n",
      "00:07:18 - cmdstanpy - INFO - Chain [1] done processing\n",
      "00:07:18 - cmdstanpy - INFO - Chain [1] start processing\n",
      "00:07:19 - cmdstanpy - INFO - Chain [1] done processing\n",
      "00:07:20 - cmdstanpy - INFO - Chain [1] start processing\n",
      "00:07:20 - cmdstanpy - INFO - Chain [1] done processing\n",
      "00:07:20 - cmdstanpy - INFO - Chain [1] start processing\n",
      "00:07:21 - cmdstanpy - INFO - Chain [1] done processing\n",
      "00:07:21 - cmdstanpy - INFO - Chain [1] start processing\n",
      "00:07:22 - cmdstanpy - INFO - Chain [1] done processing\n",
      "00:07:23 - cmdstanpy - INFO - Chain [1] start processing\n",
      "00:07:23 - cmdstanpy - INFO - Chain [1] done processing\n"
     ]
    },
    {
     "name": "stdout",
     "output_type": "stream",
     "text": [
      "Params: {'seasonality_mode': 'additive', 'changepoint_prior_scale': 0.01}, RMSE: 151.4444986054824\n"
     ]
    },
    {
     "name": "stderr",
     "output_type": "stream",
     "text": [
      "00:07:24 - cmdstanpy - INFO - Chain [1] start processing\n",
      "00:07:24 - cmdstanpy - INFO - Chain [1] done processing\n"
     ]
    },
    {
     "data": {
      "application/vnd.jupyter.widget-view+json": {
       "model_id": "ab2797df3b2942209a4f49c696543529",
       "version_major": 2,
       "version_minor": 0
      },
      "text/plain": [
       "  0%|          | 0/9 [00:00<?, ?it/s]"
      ]
     },
     "metadata": {},
     "output_type": "display_data"
    },
    {
     "name": "stderr",
     "output_type": "stream",
     "text": [
      "00:07:25 - cmdstanpy - INFO - Chain [1] start processing\n",
      "00:07:25 - cmdstanpy - INFO - Chain [1] done processing\n",
      "00:07:26 - cmdstanpy - INFO - Chain [1] start processing\n",
      "00:07:27 - cmdstanpy - INFO - Chain [1] done processing\n",
      "00:07:27 - cmdstanpy - INFO - Chain [1] start processing\n",
      "00:07:28 - cmdstanpy - INFO - Chain [1] done processing\n",
      "00:07:28 - cmdstanpy - INFO - Chain [1] start processing\n",
      "00:07:29 - cmdstanpy - INFO - Chain [1] done processing\n",
      "00:07:30 - cmdstanpy - INFO - Chain [1] start processing\n",
      "00:07:30 - cmdstanpy - INFO - Chain [1] done processing\n",
      "00:07:31 - cmdstanpy - INFO - Chain [1] start processing\n",
      "00:07:32 - cmdstanpy - INFO - Chain [1] done processing\n",
      "00:07:33 - cmdstanpy - INFO - Chain [1] start processing\n",
      "00:07:33 - cmdstanpy - INFO - Chain [1] done processing\n",
      "00:07:34 - cmdstanpy - INFO - Chain [1] start processing\n",
      "00:07:34 - cmdstanpy - INFO - Chain [1] done processing\n",
      "00:07:35 - cmdstanpy - INFO - Chain [1] start processing\n",
      "00:07:36 - cmdstanpy - INFO - Chain [1] done processing\n"
     ]
    },
    {
     "name": "stdout",
     "output_type": "stream",
     "text": [
      "Params: {'seasonality_mode': 'additive', 'changepoint_prior_scale': 0.1}, RMSE: 155.95131505773247\n"
     ]
    },
    {
     "name": "stderr",
     "output_type": "stream",
     "text": [
      "00:07:37 - cmdstanpy - INFO - Chain [1] start processing\n",
      "00:07:38 - cmdstanpy - INFO - Chain [1] done processing\n"
     ]
    },
    {
     "data": {
      "application/vnd.jupyter.widget-view+json": {
       "model_id": "42ed708611fc4297bb6ad8fbd5341406",
       "version_major": 2,
       "version_minor": 0
      },
      "text/plain": [
       "  0%|          | 0/9 [00:00<?, ?it/s]"
      ]
     },
     "metadata": {},
     "output_type": "display_data"
    },
    {
     "name": "stderr",
     "output_type": "stream",
     "text": [
      "00:07:39 - cmdstanpy - INFO - Chain [1] start processing\n",
      "00:07:40 - cmdstanpy - INFO - Chain [1] done processing\n",
      "00:07:41 - cmdstanpy - INFO - Chain [1] start processing\n",
      "00:07:42 - cmdstanpy - INFO - Chain [1] done processing\n",
      "00:07:42 - cmdstanpy - INFO - Chain [1] start processing\n",
      "00:07:43 - cmdstanpy - INFO - Chain [1] done processing\n",
      "00:07:44 - cmdstanpy - INFO - Chain [1] start processing\n",
      "00:07:44 - cmdstanpy - INFO - Chain [1] done processing\n",
      "00:07:45 - cmdstanpy - INFO - Chain [1] start processing\n",
      "00:07:45 - cmdstanpy - INFO - Chain [1] done processing\n",
      "00:07:46 - cmdstanpy - INFO - Chain [1] start processing\n",
      "00:07:46 - cmdstanpy - INFO - Chain [1] done processing\n",
      "00:07:47 - cmdstanpy - INFO - Chain [1] start processing\n",
      "00:07:47 - cmdstanpy - INFO - Chain [1] done processing\n",
      "00:07:48 - cmdstanpy - INFO - Chain [1] start processing\n",
      "00:07:48 - cmdstanpy - INFO - Chain [1] done processing\n",
      "00:07:49 - cmdstanpy - INFO - Chain [1] start processing\n",
      "00:07:49 - cmdstanpy - INFO - Chain [1] done processing\n"
     ]
    },
    {
     "name": "stdout",
     "output_type": "stream",
     "text": [
      "Params: {'seasonality_mode': 'additive', 'changepoint_prior_scale': 0.5}, RMSE: 159.8979982009017\n"
     ]
    },
    {
     "name": "stderr",
     "output_type": "stream",
     "text": [
      "00:07:51 - cmdstanpy - INFO - Chain [1] start processing\n",
      "00:07:51 - cmdstanpy - INFO - Chain [1] done processing\n"
     ]
    },
    {
     "data": {
      "application/vnd.jupyter.widget-view+json": {
       "model_id": "9a7fae413478468f8d7f81236f97740a",
       "version_major": 2,
       "version_minor": 0
      },
      "text/plain": [
       "  0%|          | 0/9 [00:00<?, ?it/s]"
      ]
     },
     "metadata": {},
     "output_type": "display_data"
    },
    {
     "name": "stderr",
     "output_type": "stream",
     "text": [
      "00:07:52 - cmdstanpy - INFO - Chain [1] start processing\n",
      "00:07:52 - cmdstanpy - INFO - Chain [1] done processing\n",
      "00:07:53 - cmdstanpy - INFO - Chain [1] start processing\n",
      "00:07:53 - cmdstanpy - INFO - Chain [1] done processing\n",
      "00:07:54 - cmdstanpy - INFO - Chain [1] start processing\n",
      "00:07:54 - cmdstanpy - INFO - Chain [1] done processing\n",
      "00:07:55 - cmdstanpy - INFO - Chain [1] start processing\n",
      "00:07:55 - cmdstanpy - INFO - Chain [1] done processing\n",
      "00:07:55 - cmdstanpy - INFO - Chain [1] start processing\n",
      "00:07:56 - cmdstanpy - INFO - Chain [1] done processing\n",
      "00:07:56 - cmdstanpy - INFO - Chain [1] start processing\n",
      "00:07:57 - cmdstanpy - INFO - Chain [1] done processing\n",
      "00:07:57 - cmdstanpy - INFO - Chain [1] start processing\n",
      "00:07:58 - cmdstanpy - INFO - Chain [1] done processing\n",
      "00:07:58 - cmdstanpy - INFO - Chain [1] start processing\n",
      "00:07:59 - cmdstanpy - INFO - Chain [1] done processing\n",
      "00:07:59 - cmdstanpy - INFO - Chain [1] start processing\n",
      "00:07:59 - cmdstanpy - INFO - Chain [1] done processing\n"
     ]
    },
    {
     "name": "stdout",
     "output_type": "stream",
     "text": [
      "Params: {'seasonality_mode': 'multiplicative', 'changepoint_prior_scale': 0.01}, RMSE: 155.46080231333028\n"
     ]
    },
    {
     "name": "stderr",
     "output_type": "stream",
     "text": [
      "00:08:00 - cmdstanpy - INFO - Chain [1] start processing\n",
      "00:08:00 - cmdstanpy - INFO - Chain [1] done processing\n"
     ]
    },
    {
     "data": {
      "application/vnd.jupyter.widget-view+json": {
       "model_id": "cf8e6180bfce40f292d97a1866df9d08",
       "version_major": 2,
       "version_minor": 0
      },
      "text/plain": [
       "  0%|          | 0/9 [00:00<?, ?it/s]"
      ]
     },
     "metadata": {},
     "output_type": "display_data"
    },
    {
     "name": "stderr",
     "output_type": "stream",
     "text": [
      "00:08:01 - cmdstanpy - INFO - Chain [1] start processing\n",
      "00:08:01 - cmdstanpy - INFO - Chain [1] done processing\n",
      "00:08:02 - cmdstanpy - INFO - Chain [1] start processing\n",
      "00:08:02 - cmdstanpy - INFO - Chain [1] done processing\n",
      "00:08:03 - cmdstanpy - INFO - Chain [1] start processing\n",
      "00:08:03 - cmdstanpy - INFO - Chain [1] done processing\n",
      "00:08:04 - cmdstanpy - INFO - Chain [1] start processing\n",
      "00:08:04 - cmdstanpy - INFO - Chain [1] done processing\n",
      "00:08:05 - cmdstanpy - INFO - Chain [1] start processing\n",
      "00:08:05 - cmdstanpy - INFO - Chain [1] done processing\n",
      "00:08:05 - cmdstanpy - INFO - Chain [1] start processing\n",
      "00:08:06 - cmdstanpy - INFO - Chain [1] done processing\n",
      "00:08:06 - cmdstanpy - INFO - Chain [1] start processing\n",
      "00:08:07 - cmdstanpy - INFO - Chain [1] done processing\n",
      "00:08:07 - cmdstanpy - INFO - Chain [1] start processing\n",
      "00:08:08 - cmdstanpy - INFO - Chain [1] done processing\n",
      "00:08:08 - cmdstanpy - INFO - Chain [1] start processing\n",
      "00:08:09 - cmdstanpy - INFO - Chain [1] done processing\n"
     ]
    },
    {
     "name": "stdout",
     "output_type": "stream",
     "text": [
      "Params: {'seasonality_mode': 'multiplicative', 'changepoint_prior_scale': 0.1}, RMSE: 162.23355598802232\n"
     ]
    },
    {
     "name": "stderr",
     "output_type": "stream",
     "text": [
      "00:08:10 - cmdstanpy - INFO - Chain [1] start processing\n",
      "00:08:10 - cmdstanpy - INFO - Chain [1] done processing\n"
     ]
    },
    {
     "data": {
      "application/vnd.jupyter.widget-view+json": {
       "model_id": "329d7fd8d16441b082f2a253982ae1d1",
       "version_major": 2,
       "version_minor": 0
      },
      "text/plain": [
       "  0%|          | 0/9 [00:00<?, ?it/s]"
      ]
     },
     "metadata": {},
     "output_type": "display_data"
    },
    {
     "name": "stderr",
     "output_type": "stream",
     "text": [
      "00:08:11 - cmdstanpy - INFO - Chain [1] start processing\n",
      "00:08:11 - cmdstanpy - INFO - Chain [1] done processing\n",
      "00:08:12 - cmdstanpy - INFO - Chain [1] start processing\n",
      "00:08:13 - cmdstanpy - INFO - Chain [1] done processing\n",
      "00:08:13 - cmdstanpy - INFO - Chain [1] start processing\n",
      "00:08:14 - cmdstanpy - INFO - Chain [1] done processing\n",
      "00:08:14 - cmdstanpy - INFO - Chain [1] start processing\n",
      "00:08:15 - cmdstanpy - INFO - Chain [1] done processing\n",
      "00:08:15 - cmdstanpy - INFO - Chain [1] start processing\n",
      "00:08:16 - cmdstanpy - INFO - Chain [1] done processing\n",
      "00:08:16 - cmdstanpy - INFO - Chain [1] start processing\n",
      "00:08:16 - cmdstanpy - INFO - Chain [1] done processing\n",
      "00:08:17 - cmdstanpy - INFO - Chain [1] start processing\n",
      "00:08:17 - cmdstanpy - INFO - Chain [1] done processing\n",
      "00:08:18 - cmdstanpy - INFO - Chain [1] start processing\n",
      "00:08:18 - cmdstanpy - INFO - Chain [1] done processing\n",
      "00:08:19 - cmdstanpy - INFO - Chain [1] start processing\n",
      "00:08:19 - cmdstanpy - INFO - Chain [1] done processing\n"
     ]
    },
    {
     "name": "stdout",
     "output_type": "stream",
     "text": [
      "Params: {'seasonality_mode': 'multiplicative', 'changepoint_prior_scale': 0.5}, RMSE: 165.71139783208721\n",
      "Mejores parámetros encontrados: {'seasonality_mode': 'additive', 'changepoint_prior_scale': 0.01}, Mejor RMSE: 151.4444986054824\n"
     ]
    }
   ],
   "source": [
    "def cross_validate_prophet(params, df, horizon='30 days', period='15 days', initial='774 days'):\n",
    "    model = Prophet(**params)\n",
    "    \n",
    "    # Ajustar el modelo antes de la validación cruzada\n",
    "    model.fit(df)\n",
    "    \n",
    "    df_cv = cross_validation(model, initial=str(len(poplin)) + ' days', period=period, horizon=horizon)\n",
    "    df_p = performance_metrics(df_cv)\n",
    "    return df_p['rmse'].values[0]\n",
    "\n",
    "\n",
    "# Definir los parámetros que quieres probar\n",
    "grid = {\n",
    "    'seasonality_mode': ['additive', 'multiplicative'],\n",
    "    'changepoint_prior_scale': [0.01, 0.1, 0.5],\n",
    "}\n",
    "\n",
    "# Mejores parámetros iniciales\n",
    "best_params = None\n",
    "best_rmse = float('inf')\n",
    "\n",
    "# Realizar la búsqueda de cuadrícula\n",
    "for seasonality_mode in grid['seasonality_mode']:\n",
    "    for changepoint_prior_scale in grid['changepoint_prior_scale']:\n",
    "        params = {\n",
    "            'seasonality_mode': seasonality_mode,\n",
    "            'changepoint_prior_scale': changepoint_prior_scale,\n",
    "        }\n",
    "        \n",
    "        rmse = cross_validate_prophet(params, poplin)\n",
    "        print(f\"Params: {params}, RMSE: {rmse}\")\n",
    "        \n",
    "        # Actualizar los mejores parámetros si se encuentra un modelo con menor RMSE\n",
    "        if rmse < best_rmse:\n",
    "            best_rmse = rmse\n",
    "            best_params = params\n",
    "\n",
    "print(f\"Mejores parámetros encontrados: {best_params}, Mejor RMSE: {best_rmse}\")"
   ]
  },
  {
   "cell_type": "code",
   "execution_count": 381,
   "metadata": {},
   "outputs": [],
   "source": [
    "frame = poplin"
   ]
  },
  {
   "cell_type": "code",
   "execution_count": 445,
   "metadata": {},
   "outputs": [
    {
     "data": {
      "text/html": [
       "<div>\n",
       "<style scoped>\n",
       "    .dataframe tbody tr th:only-of-type {\n",
       "        vertical-align: middle;\n",
       "    }\n",
       "\n",
       "    .dataframe tbody tr th {\n",
       "        vertical-align: top;\n",
       "    }\n",
       "\n",
       "    .dataframe thead th {\n",
       "        text-align: right;\n",
       "    }\n",
       "</style>\n",
       "<table border=\"1\" class=\"dataframe\">\n",
       "  <thead>\n",
       "    <tr style=\"text-align: right;\">\n",
       "      <th></th>\n",
       "      <th>ds</th>\n",
       "      <th>y</th>\n",
       "    </tr>\n",
       "  </thead>\n",
       "  <tbody>\n",
       "    <tr>\n",
       "      <th>307</th>\n",
       "      <td>2021-02-01</td>\n",
       "      <td>29.00</td>\n",
       "    </tr>\n",
       "    <tr>\n",
       "      <th>1920</th>\n",
       "      <td>2021-02-02</td>\n",
       "      <td>4.00</td>\n",
       "    </tr>\n",
       "    <tr>\n",
       "      <th>3447</th>\n",
       "      <td>2021-02-03</td>\n",
       "      <td>9.00</td>\n",
       "    </tr>\n",
       "    <tr>\n",
       "      <th>5013</th>\n",
       "      <td>2021-02-04</td>\n",
       "      <td>80.00</td>\n",
       "    </tr>\n",
       "    <tr>\n",
       "      <th>6640</th>\n",
       "      <td>2021-02-05</td>\n",
       "      <td>216.50</td>\n",
       "    </tr>\n",
       "    <tr>\n",
       "      <th>...</th>\n",
       "      <td>...</td>\n",
       "      <td>...</td>\n",
       "    </tr>\n",
       "    <tr>\n",
       "      <th>1274899</th>\n",
       "      <td>2023-08-18</td>\n",
       "      <td>293.00</td>\n",
       "    </tr>\n",
       "    <tr>\n",
       "      <th>1276574</th>\n",
       "      <td>2023-08-19</td>\n",
       "      <td>32.00</td>\n",
       "    </tr>\n",
       "    <tr>\n",
       "      <th>1278051</th>\n",
       "      <td>2023-08-21</td>\n",
       "      <td>30.65</td>\n",
       "    </tr>\n",
       "    <tr>\n",
       "      <th>1280231</th>\n",
       "      <td>2023-08-22</td>\n",
       "      <td>19.25</td>\n",
       "    </tr>\n",
       "    <tr>\n",
       "      <th>1282186</th>\n",
       "      <td>2023-08-23</td>\n",
       "      <td>8.50</td>\n",
       "    </tr>\n",
       "  </tbody>\n",
       "</table>\n",
       "<p>774 rows × 2 columns</p>\n",
       "</div>"
      ],
      "text/plain": [
       "                ds       y\n",
       "307     2021-02-01   29.00\n",
       "1920    2021-02-02    4.00\n",
       "3447    2021-02-03    9.00\n",
       "5013    2021-02-04   80.00\n",
       "6640    2021-02-05  216.50\n",
       "...            ...     ...\n",
       "1274899 2023-08-18  293.00\n",
       "1276574 2023-08-19   32.00\n",
       "1278051 2023-08-21   30.65\n",
       "1280231 2023-08-22   19.25\n",
       "1282186 2023-08-23    8.50\n",
       "\n",
       "[774 rows x 2 columns]"
      ]
     },
     "execution_count": 445,
     "metadata": {},
     "output_type": "execute_result"
    }
   ],
   "source": [
    "poplin"
   ]
  },
  {
   "cell_type": "code",
   "execution_count": 449,
   "metadata": {},
   "outputs": [],
   "source": [
    "m = Prophet(interval_width=0.95)"
   ]
  },
  {
   "cell_type": "code",
   "execution_count": 450,
   "metadata": {},
   "outputs": [
    {
     "name": "stderr",
     "output_type": "stream",
     "text": [
      "07:29:10 - cmdstanpy - INFO - Chain [1] start processing\n",
      "07:29:13 - cmdstanpy - INFO - Chain [1] done processing\n"
     ]
    }
   ],
   "source": [
    "traning_run = m.fit(frame)"
   ]
  },
  {
   "cell_type": "code",
   "execution_count": 383,
   "metadata": {},
   "outputs": [],
   "source": [
    "# Evaluaremos nuestros resultados"
   ]
  },
  {
   "cell_type": "code",
   "execution_count": 451,
   "metadata": {},
   "outputs": [],
   "source": [
    "future = m.make_future_dataframe(periods=372,freq=\"D\")"
   ]
  },
  {
   "cell_type": "code",
   "execution_count": 452,
   "metadata": {},
   "outputs": [],
   "source": [
    "forcast = m.predict(future)"
   ]
  },
  {
   "cell_type": "code",
   "execution_count": 453,
   "metadata": {},
   "outputs": [
    {
     "data": {
      "text/html": [
       "<div>\n",
       "<style scoped>\n",
       "    .dataframe tbody tr th:only-of-type {\n",
       "        vertical-align: middle;\n",
       "    }\n",
       "\n",
       "    .dataframe tbody tr th {\n",
       "        vertical-align: top;\n",
       "    }\n",
       "\n",
       "    .dataframe thead th {\n",
       "        text-align: right;\n",
       "    }\n",
       "</style>\n",
       "<table border=\"1\" class=\"dataframe\">\n",
       "  <thead>\n",
       "    <tr style=\"text-align: right;\">\n",
       "      <th></th>\n",
       "      <th>ds</th>\n",
       "      <th>trend</th>\n",
       "      <th>yhat_lower</th>\n",
       "      <th>yhat_upper</th>\n",
       "      <th>trend_lower</th>\n",
       "      <th>trend_upper</th>\n",
       "      <th>additive_terms</th>\n",
       "      <th>additive_terms_lower</th>\n",
       "      <th>additive_terms_upper</th>\n",
       "      <th>weekly</th>\n",
       "      <th>weekly_lower</th>\n",
       "      <th>weekly_upper</th>\n",
       "      <th>yearly</th>\n",
       "      <th>yearly_lower</th>\n",
       "      <th>yearly_upper</th>\n",
       "      <th>multiplicative_terms</th>\n",
       "      <th>multiplicative_terms_lower</th>\n",
       "      <th>multiplicative_terms_upper</th>\n",
       "      <th>yhat</th>\n",
       "    </tr>\n",
       "  </thead>\n",
       "  <tbody>\n",
       "    <tr>\n",
       "      <th>0</th>\n",
       "      <td>2021-02-01</td>\n",
       "      <td>50.123202</td>\n",
       "      <td>-124.880266</td>\n",
       "      <td>147.570424</td>\n",
       "      <td>50.123202</td>\n",
       "      <td>50.123202</td>\n",
       "      <td>-37.666504</td>\n",
       "      <td>-37.666504</td>\n",
       "      <td>-37.666504</td>\n",
       "      <td>-3.193371</td>\n",
       "      <td>-3.193371</td>\n",
       "      <td>-3.193371</td>\n",
       "      <td>-34.473133</td>\n",
       "      <td>-34.473133</td>\n",
       "      <td>-34.473133</td>\n",
       "      <td>0.0</td>\n",
       "      <td>0.0</td>\n",
       "      <td>0.0</td>\n",
       "      <td>12.456698</td>\n",
       "    </tr>\n",
       "    <tr>\n",
       "      <th>1</th>\n",
       "      <td>2021-02-02</td>\n",
       "      <td>50.148283</td>\n",
       "      <td>-115.457363</td>\n",
       "      <td>170.785852</td>\n",
       "      <td>50.148283</td>\n",
       "      <td>50.148283</td>\n",
       "      <td>-24.026626</td>\n",
       "      <td>-24.026626</td>\n",
       "      <td>-24.026626</td>\n",
       "      <td>10.133561</td>\n",
       "      <td>10.133561</td>\n",
       "      <td>10.133561</td>\n",
       "      <td>-34.160187</td>\n",
       "      <td>-34.160187</td>\n",
       "      <td>-34.160187</td>\n",
       "      <td>0.0</td>\n",
       "      <td>0.0</td>\n",
       "      <td>0.0</td>\n",
       "      <td>26.121657</td>\n",
       "    </tr>\n",
       "    <tr>\n",
       "      <th>2</th>\n",
       "      <td>2021-02-03</td>\n",
       "      <td>50.173364</td>\n",
       "      <td>-106.060909</td>\n",
       "      <td>184.930484</td>\n",
       "      <td>50.173364</td>\n",
       "      <td>50.173364</td>\n",
       "      <td>-9.563386</td>\n",
       "      <td>-9.563386</td>\n",
       "      <td>-9.563386</td>\n",
       "      <td>24.087491</td>\n",
       "      <td>24.087491</td>\n",
       "      <td>24.087491</td>\n",
       "      <td>-33.650876</td>\n",
       "      <td>-33.650876</td>\n",
       "      <td>-33.650876</td>\n",
       "      <td>0.0</td>\n",
       "      <td>0.0</td>\n",
       "      <td>0.0</td>\n",
       "      <td>40.609978</td>\n",
       "    </tr>\n",
       "    <tr>\n",
       "      <th>3</th>\n",
       "      <td>2021-02-04</td>\n",
       "      <td>50.198445</td>\n",
       "      <td>-108.159953</td>\n",
       "      <td>163.559273</td>\n",
       "      <td>50.198445</td>\n",
       "      <td>50.198445</td>\n",
       "      <td>-21.202387</td>\n",
       "      <td>-21.202387</td>\n",
       "      <td>-21.202387</td>\n",
       "      <td>11.748628</td>\n",
       "      <td>11.748628</td>\n",
       "      <td>11.748628</td>\n",
       "      <td>-32.951015</td>\n",
       "      <td>-32.951015</td>\n",
       "      <td>-32.951015</td>\n",
       "      <td>0.0</td>\n",
       "      <td>0.0</td>\n",
       "      <td>0.0</td>\n",
       "      <td>28.996058</td>\n",
       "    </tr>\n",
       "    <tr>\n",
       "      <th>4</th>\n",
       "      <td>2021-02-05</td>\n",
       "      <td>50.223526</td>\n",
       "      <td>-110.318174</td>\n",
       "      <td>173.575919</td>\n",
       "      <td>50.223526</td>\n",
       "      <td>50.223526</td>\n",
       "      <td>-20.236170</td>\n",
       "      <td>-20.236170</td>\n",
       "      <td>-20.236170</td>\n",
       "      <td>11.835542</td>\n",
       "      <td>11.835542</td>\n",
       "      <td>11.835542</td>\n",
       "      <td>-32.071712</td>\n",
       "      <td>-32.071712</td>\n",
       "      <td>-32.071712</td>\n",
       "      <td>0.0</td>\n",
       "      <td>0.0</td>\n",
       "      <td>0.0</td>\n",
       "      <td>29.987356</td>\n",
       "    </tr>\n",
       "  </tbody>\n",
       "</table>\n",
       "</div>"
      ],
      "text/plain": [
       "          ds      trend  yhat_lower  yhat_upper  trend_lower  trend_upper   \n",
       "0 2021-02-01  50.123202 -124.880266  147.570424    50.123202    50.123202  \\\n",
       "1 2021-02-02  50.148283 -115.457363  170.785852    50.148283    50.148283   \n",
       "2 2021-02-03  50.173364 -106.060909  184.930484    50.173364    50.173364   \n",
       "3 2021-02-04  50.198445 -108.159953  163.559273    50.198445    50.198445   \n",
       "4 2021-02-05  50.223526 -110.318174  173.575919    50.223526    50.223526   \n",
       "\n",
       "   additive_terms  additive_terms_lower  additive_terms_upper     weekly   \n",
       "0      -37.666504            -37.666504            -37.666504  -3.193371  \\\n",
       "1      -24.026626            -24.026626            -24.026626  10.133561   \n",
       "2       -9.563386             -9.563386             -9.563386  24.087491   \n",
       "3      -21.202387            -21.202387            -21.202387  11.748628   \n",
       "4      -20.236170            -20.236170            -20.236170  11.835542   \n",
       "\n",
       "   weekly_lower  weekly_upper     yearly  yearly_lower  yearly_upper   \n",
       "0     -3.193371     -3.193371 -34.473133    -34.473133    -34.473133  \\\n",
       "1     10.133561     10.133561 -34.160187    -34.160187    -34.160187   \n",
       "2     24.087491     24.087491 -33.650876    -33.650876    -33.650876   \n",
       "3     11.748628     11.748628 -32.951015    -32.951015    -32.951015   \n",
       "4     11.835542     11.835542 -32.071712    -32.071712    -32.071712   \n",
       "\n",
       "   multiplicative_terms  multiplicative_terms_lower   \n",
       "0                   0.0                         0.0  \\\n",
       "1                   0.0                         0.0   \n",
       "2                   0.0                         0.0   \n",
       "3                   0.0                         0.0   \n",
       "4                   0.0                         0.0   \n",
       "\n",
       "   multiplicative_terms_upper       yhat  \n",
       "0                         0.0  12.456698  \n",
       "1                         0.0  26.121657  \n",
       "2                         0.0  40.609978  \n",
       "3                         0.0  28.996058  \n",
       "4                         0.0  29.987356  "
      ]
     },
     "execution_count": 453,
     "metadata": {},
     "output_type": "execute_result"
    }
   ],
   "source": [
    "forcast.head()"
   ]
  },
  {
   "cell_type": "code",
   "execution_count": 454,
   "metadata": {},
   "outputs": [
    {
     "data": {
      "text/plain": [
       "-39.40218219186552"
      ]
     },
     "execution_count": 454,
     "metadata": {},
     "output_type": "execute_result"
    }
   ],
   "source": [
    "forcast[\"yhat\"].min()"
   ]
  },
  {
   "cell_type": "code",
   "execution_count": 446,
   "metadata": {},
   "outputs": [
    {
     "data": {
      "application/vnd.plotly.v1+json": {
       "config": {
        "plotlyServerURL": "https://plot.ly"
       },
       "data": [
        {
         "hovertemplate": "ds=%{x}<br>y=%{y}<extra></extra>",
         "legendgroup": "",
         "line": {
          "color": "#636efa",
          "dash": "solid"
         },
         "marker": {
          "symbol": "circle"
         },
         "mode": "lines",
         "name": "",
         "orientation": "v",
         "showlegend": false,
         "type": "scatter",
         "x": [
          "2022-08-23T00:00:00",
          "2022-08-24T00:00:00",
          "2022-08-25T00:00:00",
          "2022-08-26T00:00:00",
          "2022-08-27T00:00:00",
          "2022-08-29T00:00:00",
          "2022-08-30T00:00:00",
          "2022-08-31T00:00:00",
          "2022-09-01T00:00:00",
          "2022-09-02T00:00:00",
          "2022-09-03T00:00:00",
          "2022-09-05T00:00:00",
          "2022-09-06T00:00:00",
          "2022-09-07T00:00:00",
          "2022-09-08T00:00:00",
          "2022-09-09T00:00:00",
          "2022-09-10T00:00:00",
          "2022-09-12T00:00:00",
          "2022-09-13T00:00:00",
          "2022-09-14T00:00:00",
          "2022-09-15T00:00:00",
          "2022-09-16T00:00:00",
          "2022-09-17T00:00:00",
          "2022-09-19T00:00:00",
          "2022-09-20T00:00:00",
          "2022-09-21T00:00:00",
          "2022-09-22T00:00:00",
          "2022-09-23T00:00:00",
          "2022-09-24T00:00:00",
          "2022-09-26T00:00:00",
          "2022-09-27T00:00:00",
          "2022-09-28T00:00:00",
          "2022-09-29T00:00:00",
          "2022-09-30T00:00:00",
          "2022-10-01T00:00:00",
          "2022-10-03T00:00:00",
          "2022-10-04T00:00:00",
          "2022-10-05T00:00:00",
          "2022-10-06T00:00:00",
          "2022-10-07T00:00:00",
          "2022-10-08T00:00:00",
          "2022-10-10T00:00:00",
          "2022-10-11T00:00:00",
          "2022-10-12T00:00:00",
          "2022-10-13T00:00:00",
          "2022-10-14T00:00:00",
          "2022-10-15T00:00:00",
          "2022-10-17T00:00:00",
          "2022-10-18T00:00:00",
          "2022-10-19T00:00:00",
          "2022-10-20T00:00:00",
          "2022-10-21T00:00:00",
          "2022-10-22T00:00:00",
          "2022-10-24T00:00:00",
          "2022-10-25T00:00:00",
          "2022-10-26T00:00:00",
          "2022-10-27T00:00:00",
          "2022-10-28T00:00:00",
          "2022-10-29T00:00:00",
          "2022-10-31T00:00:00",
          "2022-11-01T00:00:00",
          "2022-11-02T00:00:00",
          "2022-11-03T00:00:00",
          "2022-11-04T00:00:00",
          "2022-11-05T00:00:00",
          "2022-11-07T00:00:00",
          "2022-11-08T00:00:00",
          "2022-11-10T00:00:00",
          "2022-11-11T00:00:00",
          "2022-11-12T00:00:00",
          "2022-11-14T00:00:00",
          "2022-11-15T00:00:00",
          "2022-11-16T00:00:00",
          "2022-11-17T00:00:00",
          "2022-11-18T00:00:00",
          "2022-11-19T00:00:00",
          "2022-11-21T00:00:00",
          "2022-11-22T00:00:00",
          "2022-11-23T00:00:00",
          "2022-11-24T00:00:00",
          "2022-11-25T00:00:00",
          "2022-11-26T00:00:00",
          "2022-11-28T00:00:00",
          "2022-11-29T00:00:00",
          "2022-11-30T00:00:00",
          "2022-12-01T00:00:00",
          "2022-12-02T00:00:00",
          "2022-12-03T00:00:00",
          "2022-12-05T00:00:00",
          "2022-12-06T00:00:00",
          "2022-12-07T00:00:00",
          "2022-12-09T00:00:00",
          "2022-12-10T00:00:00",
          "2022-12-12T00:00:00",
          "2022-12-13T00:00:00",
          "2022-12-14T00:00:00",
          "2022-12-15T00:00:00",
          "2022-12-16T00:00:00",
          "2022-12-17T00:00:00",
          "2022-12-19T00:00:00",
          "2022-12-20T00:00:00",
          "2022-12-21T00:00:00",
          "2022-12-22T00:00:00",
          "2022-12-23T00:00:00",
          "2022-12-24T00:00:00",
          "2022-12-26T00:00:00",
          "2022-12-27T00:00:00",
          "2022-12-28T00:00:00",
          "2022-12-29T00:00:00",
          "2022-12-30T00:00:00",
          "2022-12-31T00:00:00",
          "2023-01-02T00:00:00",
          "2023-01-03T00:00:00",
          "2023-01-04T00:00:00",
          "2023-01-05T00:00:00",
          "2023-01-06T00:00:00",
          "2023-01-07T00:00:00",
          "2023-01-09T00:00:00",
          "2023-01-10T00:00:00",
          "2023-01-11T00:00:00",
          "2023-01-12T00:00:00",
          "2023-01-13T00:00:00",
          "2023-01-14T00:00:00",
          "2023-01-16T00:00:00",
          "2023-01-17T00:00:00",
          "2023-01-18T00:00:00",
          "2023-01-19T00:00:00",
          "2023-01-20T00:00:00",
          "2023-01-21T00:00:00",
          "2023-01-23T00:00:00",
          "2023-01-24T00:00:00",
          "2023-01-25T00:00:00",
          "2023-01-26T00:00:00",
          "2023-01-27T00:00:00",
          "2023-01-28T00:00:00",
          "2023-01-30T00:00:00",
          "2023-01-31T00:00:00",
          "2023-02-01T00:00:00",
          "2023-02-02T00:00:00",
          "2023-02-03T00:00:00",
          "2023-02-04T00:00:00",
          "2023-02-06T00:00:00",
          "2023-02-07T00:00:00",
          "2023-02-08T00:00:00",
          "2023-02-09T00:00:00",
          "2023-02-10T00:00:00",
          "2023-02-11T00:00:00",
          "2023-02-13T00:00:00",
          "2023-02-14T00:00:00",
          "2023-02-15T00:00:00",
          "2023-02-16T00:00:00",
          "2023-02-17T00:00:00",
          "2023-02-18T00:00:00",
          "2023-02-20T00:00:00",
          "2023-02-21T00:00:00",
          "2023-02-22T00:00:00",
          "2023-02-23T00:00:00",
          "2023-02-24T00:00:00",
          "2023-02-25T00:00:00",
          "2023-02-27T00:00:00",
          "2023-02-28T00:00:00",
          "2023-03-01T00:00:00",
          "2023-03-02T00:00:00",
          "2023-03-03T00:00:00",
          "2023-03-04T00:00:00",
          "2023-03-06T00:00:00",
          "2023-03-07T00:00:00",
          "2023-03-08T00:00:00",
          "2023-03-09T00:00:00",
          "2023-03-10T00:00:00",
          "2023-03-11T00:00:00",
          "2023-03-13T00:00:00",
          "2023-03-14T00:00:00",
          "2023-03-15T00:00:00",
          "2023-03-16T00:00:00",
          "2023-03-17T00:00:00",
          "2023-03-18T00:00:00",
          "2023-03-20T00:00:00",
          "2023-03-21T00:00:00",
          "2023-03-22T00:00:00",
          "2023-03-23T00:00:00",
          "2023-03-24T00:00:00",
          "2023-03-25T00:00:00",
          "2023-03-27T00:00:00",
          "2023-03-28T00:00:00",
          "2023-03-29T00:00:00",
          "2023-03-30T00:00:00",
          "2023-03-31T00:00:00",
          "2023-04-01T00:00:00",
          "2023-04-03T00:00:00",
          "2023-04-04T00:00:00",
          "2023-04-05T00:00:00",
          "2023-04-11T00:00:00",
          "2023-04-12T00:00:00",
          "2023-04-13T00:00:00",
          "2023-04-14T00:00:00",
          "2023-04-15T00:00:00",
          "2023-04-17T00:00:00",
          "2023-04-18T00:00:00",
          "2023-04-19T00:00:00",
          "2023-04-20T00:00:00",
          "2023-04-21T00:00:00",
          "2023-04-22T00:00:00",
          "2023-04-24T00:00:00",
          "2023-04-25T00:00:00",
          "2023-04-26T00:00:00",
          "2023-04-27T00:00:00",
          "2023-04-28T00:00:00",
          "2023-04-29T00:00:00",
          "2023-05-02T00:00:00",
          "2023-05-03T00:00:00",
          "2023-05-04T00:00:00",
          "2023-05-05T00:00:00",
          "2023-05-06T00:00:00",
          "2023-05-08T00:00:00",
          "2023-05-09T00:00:00",
          "2023-05-10T00:00:00",
          "2023-05-11T00:00:00",
          "2023-05-12T00:00:00",
          "2023-05-13T00:00:00",
          "2023-05-16T00:00:00",
          "2023-05-17T00:00:00",
          "2023-05-18T00:00:00",
          "2023-05-19T00:00:00",
          "2023-05-20T00:00:00",
          "2023-05-22T00:00:00",
          "2023-05-23T00:00:00",
          "2023-05-24T00:00:00",
          "2023-05-25T00:00:00",
          "2023-05-26T00:00:00",
          "2023-05-27T00:00:00",
          "2023-05-29T00:00:00",
          "2023-05-30T00:00:00",
          "2023-05-31T00:00:00",
          "2023-06-01T00:00:00",
          "2023-06-02T00:00:00",
          "2023-06-03T00:00:00",
          "2023-06-05T00:00:00",
          "2023-06-06T00:00:00",
          "2023-06-07T00:00:00",
          "2023-06-08T00:00:00",
          "2023-06-09T00:00:00",
          "2023-06-10T00:00:00",
          "2023-06-12T00:00:00",
          "2023-06-13T00:00:00",
          "2023-06-14T00:00:00",
          "2023-06-15T00:00:00",
          "2023-06-16T00:00:00",
          "2023-06-17T00:00:00",
          "2023-06-19T00:00:00",
          "2023-06-20T00:00:00",
          "2023-06-21T00:00:00",
          "2023-06-22T00:00:00",
          "2023-06-23T00:00:00",
          "2023-06-24T00:00:00",
          "2023-06-26T00:00:00",
          "2023-06-27T00:00:00",
          "2023-06-28T00:00:00",
          "2023-06-29T00:00:00",
          "2023-06-30T00:00:00",
          "2023-07-01T00:00:00",
          "2023-07-03T00:00:00",
          "2023-07-04T00:00:00",
          "2023-07-05T00:00:00",
          "2023-07-06T00:00:00",
          "2023-07-07T00:00:00",
          "2023-07-08T00:00:00",
          "2023-07-10T00:00:00",
          "2023-07-11T00:00:00",
          "2023-07-12T00:00:00",
          "2023-07-13T00:00:00",
          "2023-07-14T00:00:00",
          "2023-07-15T00:00:00",
          "2023-07-17T00:00:00",
          "2023-07-18T00:00:00",
          "2023-07-19T00:00:00",
          "2023-07-20T00:00:00",
          "2023-07-21T00:00:00",
          "2023-07-22T00:00:00",
          "2023-07-24T00:00:00",
          "2023-07-25T00:00:00",
          "2023-07-26T00:00:00",
          "2023-07-27T00:00:00",
          "2023-07-28T00:00:00",
          "2023-07-29T00:00:00",
          "2023-07-31T00:00:00",
          "2023-08-01T00:00:00",
          "2023-08-02T00:00:00",
          "2023-08-03T00:00:00",
          "2023-08-04T00:00:00",
          "2023-08-05T00:00:00",
          "2023-08-07T00:00:00",
          "2023-08-08T00:00:00",
          "2023-08-09T00:00:00",
          "2023-08-10T00:00:00",
          "2023-08-11T00:00:00",
          "2023-08-12T00:00:00",
          "2023-08-14T00:00:00",
          "2023-08-15T00:00:00",
          "2023-08-16T00:00:00",
          "2023-08-17T00:00:00",
          "2023-08-18T00:00:00",
          "2023-08-19T00:00:00",
          "2023-08-21T00:00:00",
          "2023-08-22T00:00:00",
          "2023-08-23T00:00:00"
         ],
         "xaxis": "x",
         "y": [
          143.1,
          24.6,
          93.25,
          249.55,
          8,
          47.3,
          118.11999999999999,
          43,
          362,
          107.6,
          5.75,
          146.7,
          41.2,
          336.90000000000003,
          114.3,
          113.1,
          5.2,
          16.740000000000002,
          214,
          176.89,
          186.05,
          53.7,
          39.45,
          267.6,
          204.15,
          54.150000000000006,
          178,
          89.6,
          8,
          183.5,
          45.15,
          27.95,
          21.9,
          83.4,
          26.2,
          28.2,
          204,
          371.5,
          237.5,
          204,
          43.4,
          563.4,
          65.2,
          156.9,
          42.3,
          735,
          252,
          64.75,
          91.35,
          53.51,
          60.72,
          254.7,
          18.75,
          448,
          128,
          246.5,
          23,
          88.2,
          46.1,
          99,
          197.35,
          107,
          104.5,
          52.2,
          144,
          223.4,
          214.1,
          277,
          54.9,
          9,
          601.7,
          28,
          136,
          331.2,
          73,
          94.55000000000001,
          31.5,
          807.25,
          20.8,
          144.9,
          680,
          108.5,
          392,
          43,
          548.85,
          145.25,
          89.5,
          13.8,
          438.5,
          333.7,
          184.3,
          66.15,
          98.5,
          23.5,
          188.25,
          238.15,
          32.85,
          534.5,
          234.5,
          282.8,
          47.2,
          206.3,
          22.5,
          6,
          7,
          60.5,
          90.25,
          64,
          62.2,
          39.65,
          62.5,
          27.5,
          1.5,
          160.5,
          40,
          5.8,
          28.5,
          7.5,
          69.5,
          222.1,
          71.5,
          382.45000000000005,
          15.5,
          23.65,
          188.05,
          44,
          317.2,
          12,
          5,
          19,
          22.25,
          13,
          14.9,
          125.7,
          9,
          21.700000000000003,
          32.3,
          238.82999999999998,
          38.75,
          10.2,
          10.3,
          18.3,
          21.5,
          49.7,
          141.5,
          220.2,
          7,
          58.15,
          58.6,
          67.15,
          158,
          127,
          17.7,
          33,
          13,
          15,
          24.5,
          12,
          52,
          22.15,
          25.5,
          218,
          10,
          63.4,
          37.2,
          90.4,
          129.25,
          27,
          22.6,
          11.3,
          20,
          58,
          7,
          97.5,
          14,
          23.2,
          22,
          10.5,
          30.9,
          24.5,
          136.8,
          7.3,
          12.15,
          22.5,
          32.7,
          50.22,
          28.5,
          148.4,
          20.599999999999998,
          34.8,
          17.35,
          49.1,
          555,
          169.5,
          51,
          640.6,
          38.75,
          220.5,
          115.5,
          215.9,
          46.1,
          17,
          241,
          9.5,
          46.1,
          260.95,
          53,
          53,
          40.8,
          149,
          190.8,
          294,
          57.5,
          51.4,
          228,
          211.2,
          410.8,
          158.95,
          41,
          26,
          188,
          143.1,
          212,
          236.01999999999998,
          67,
          36,
          170.5,
          314.9,
          231.7,
          24.75,
          11.1,
          122,
          113.5,
          22.5,
          36.5,
          44.85,
          15.5,
          18,
          105.9,
          29.599999999999998,
          32.75,
          108.5,
          223.75,
          16.3,
          28.3,
          125,
          10.5,
          37,
          21.5,
          21.6,
          136.4,
          112.35,
          71.15,
          38,
          132.6,
          27,
          225.25,
          31.5,
          21,
          31,
          37,
          38.5,
          25.75,
          113,
          36.75,
          27.9,
          13.5,
          41,
          539.6,
          106,
          443.1,
          77.5,
          19.6,
          49.1,
          32,
          32.8,
          7.8,
          23,
          2.5,
          12.5,
          55.5,
          31.1,
          222.7,
          10,
          82.3,
          6.6,
          25.5,
          224.25,
          321,
          29.5,
          56,
          344,
          84.5,
          126.6,
          403.2,
          154.2,
          53.8,
          350.3,
          5,
          29.1,
          454.75,
          293,
          32,
          30.65,
          19.25,
          8.5
         ],
         "yaxis": "y"
        }
       ],
       "layout": {
        "legend": {
         "tracegroupgap": 0
        },
        "template": {
         "data": {
          "bar": [
           {
            "error_x": {
             "color": "#2a3f5f"
            },
            "error_y": {
             "color": "#2a3f5f"
            },
            "marker": {
             "line": {
              "color": "#E5ECF6",
              "width": 0.5
             },
             "pattern": {
              "fillmode": "overlay",
              "size": 10,
              "solidity": 0.2
             }
            },
            "type": "bar"
           }
          ],
          "barpolar": [
           {
            "marker": {
             "line": {
              "color": "#E5ECF6",
              "width": 0.5
             },
             "pattern": {
              "fillmode": "overlay",
              "size": 10,
              "solidity": 0.2
             }
            },
            "type": "barpolar"
           }
          ],
          "carpet": [
           {
            "aaxis": {
             "endlinecolor": "#2a3f5f",
             "gridcolor": "white",
             "linecolor": "white",
             "minorgridcolor": "white",
             "startlinecolor": "#2a3f5f"
            },
            "baxis": {
             "endlinecolor": "#2a3f5f",
             "gridcolor": "white",
             "linecolor": "white",
             "minorgridcolor": "white",
             "startlinecolor": "#2a3f5f"
            },
            "type": "carpet"
           }
          ],
          "choropleth": [
           {
            "colorbar": {
             "outlinewidth": 0,
             "ticks": ""
            },
            "type": "choropleth"
           }
          ],
          "contour": [
           {
            "colorbar": {
             "outlinewidth": 0,
             "ticks": ""
            },
            "colorscale": [
             [
              0,
              "#0d0887"
             ],
             [
              0.1111111111111111,
              "#46039f"
             ],
             [
              0.2222222222222222,
              "#7201a8"
             ],
             [
              0.3333333333333333,
              "#9c179e"
             ],
             [
              0.4444444444444444,
              "#bd3786"
             ],
             [
              0.5555555555555556,
              "#d8576b"
             ],
             [
              0.6666666666666666,
              "#ed7953"
             ],
             [
              0.7777777777777778,
              "#fb9f3a"
             ],
             [
              0.8888888888888888,
              "#fdca26"
             ],
             [
              1,
              "#f0f921"
             ]
            ],
            "type": "contour"
           }
          ],
          "contourcarpet": [
           {
            "colorbar": {
             "outlinewidth": 0,
             "ticks": ""
            },
            "type": "contourcarpet"
           }
          ],
          "heatmap": [
           {
            "colorbar": {
             "outlinewidth": 0,
             "ticks": ""
            },
            "colorscale": [
             [
              0,
              "#0d0887"
             ],
             [
              0.1111111111111111,
              "#46039f"
             ],
             [
              0.2222222222222222,
              "#7201a8"
             ],
             [
              0.3333333333333333,
              "#9c179e"
             ],
             [
              0.4444444444444444,
              "#bd3786"
             ],
             [
              0.5555555555555556,
              "#d8576b"
             ],
             [
              0.6666666666666666,
              "#ed7953"
             ],
             [
              0.7777777777777778,
              "#fb9f3a"
             ],
             [
              0.8888888888888888,
              "#fdca26"
             ],
             [
              1,
              "#f0f921"
             ]
            ],
            "type": "heatmap"
           }
          ],
          "heatmapgl": [
           {
            "colorbar": {
             "outlinewidth": 0,
             "ticks": ""
            },
            "colorscale": [
             [
              0,
              "#0d0887"
             ],
             [
              0.1111111111111111,
              "#46039f"
             ],
             [
              0.2222222222222222,
              "#7201a8"
             ],
             [
              0.3333333333333333,
              "#9c179e"
             ],
             [
              0.4444444444444444,
              "#bd3786"
             ],
             [
              0.5555555555555556,
              "#d8576b"
             ],
             [
              0.6666666666666666,
              "#ed7953"
             ],
             [
              0.7777777777777778,
              "#fb9f3a"
             ],
             [
              0.8888888888888888,
              "#fdca26"
             ],
             [
              1,
              "#f0f921"
             ]
            ],
            "type": "heatmapgl"
           }
          ],
          "histogram": [
           {
            "marker": {
             "pattern": {
              "fillmode": "overlay",
              "size": 10,
              "solidity": 0.2
             }
            },
            "type": "histogram"
           }
          ],
          "histogram2d": [
           {
            "colorbar": {
             "outlinewidth": 0,
             "ticks": ""
            },
            "colorscale": [
             [
              0,
              "#0d0887"
             ],
             [
              0.1111111111111111,
              "#46039f"
             ],
             [
              0.2222222222222222,
              "#7201a8"
             ],
             [
              0.3333333333333333,
              "#9c179e"
             ],
             [
              0.4444444444444444,
              "#bd3786"
             ],
             [
              0.5555555555555556,
              "#d8576b"
             ],
             [
              0.6666666666666666,
              "#ed7953"
             ],
             [
              0.7777777777777778,
              "#fb9f3a"
             ],
             [
              0.8888888888888888,
              "#fdca26"
             ],
             [
              1,
              "#f0f921"
             ]
            ],
            "type": "histogram2d"
           }
          ],
          "histogram2dcontour": [
           {
            "colorbar": {
             "outlinewidth": 0,
             "ticks": ""
            },
            "colorscale": [
             [
              0,
              "#0d0887"
             ],
             [
              0.1111111111111111,
              "#46039f"
             ],
             [
              0.2222222222222222,
              "#7201a8"
             ],
             [
              0.3333333333333333,
              "#9c179e"
             ],
             [
              0.4444444444444444,
              "#bd3786"
             ],
             [
              0.5555555555555556,
              "#d8576b"
             ],
             [
              0.6666666666666666,
              "#ed7953"
             ],
             [
              0.7777777777777778,
              "#fb9f3a"
             ],
             [
              0.8888888888888888,
              "#fdca26"
             ],
             [
              1,
              "#f0f921"
             ]
            ],
            "type": "histogram2dcontour"
           }
          ],
          "mesh3d": [
           {
            "colorbar": {
             "outlinewidth": 0,
             "ticks": ""
            },
            "type": "mesh3d"
           }
          ],
          "parcoords": [
           {
            "line": {
             "colorbar": {
              "outlinewidth": 0,
              "ticks": ""
             }
            },
            "type": "parcoords"
           }
          ],
          "pie": [
           {
            "automargin": true,
            "type": "pie"
           }
          ],
          "scatter": [
           {
            "fillpattern": {
             "fillmode": "overlay",
             "size": 10,
             "solidity": 0.2
            },
            "type": "scatter"
           }
          ],
          "scatter3d": [
           {
            "line": {
             "colorbar": {
              "outlinewidth": 0,
              "ticks": ""
             }
            },
            "marker": {
             "colorbar": {
              "outlinewidth": 0,
              "ticks": ""
             }
            },
            "type": "scatter3d"
           }
          ],
          "scattercarpet": [
           {
            "marker": {
             "colorbar": {
              "outlinewidth": 0,
              "ticks": ""
             }
            },
            "type": "scattercarpet"
           }
          ],
          "scattergeo": [
           {
            "marker": {
             "colorbar": {
              "outlinewidth": 0,
              "ticks": ""
             }
            },
            "type": "scattergeo"
           }
          ],
          "scattergl": [
           {
            "marker": {
             "colorbar": {
              "outlinewidth": 0,
              "ticks": ""
             }
            },
            "type": "scattergl"
           }
          ],
          "scattermapbox": [
           {
            "marker": {
             "colorbar": {
              "outlinewidth": 0,
              "ticks": ""
             }
            },
            "type": "scattermapbox"
           }
          ],
          "scatterpolar": [
           {
            "marker": {
             "colorbar": {
              "outlinewidth": 0,
              "ticks": ""
             }
            },
            "type": "scatterpolar"
           }
          ],
          "scatterpolargl": [
           {
            "marker": {
             "colorbar": {
              "outlinewidth": 0,
              "ticks": ""
             }
            },
            "type": "scatterpolargl"
           }
          ],
          "scatterternary": [
           {
            "marker": {
             "colorbar": {
              "outlinewidth": 0,
              "ticks": ""
             }
            },
            "type": "scatterternary"
           }
          ],
          "surface": [
           {
            "colorbar": {
             "outlinewidth": 0,
             "ticks": ""
            },
            "colorscale": [
             [
              0,
              "#0d0887"
             ],
             [
              0.1111111111111111,
              "#46039f"
             ],
             [
              0.2222222222222222,
              "#7201a8"
             ],
             [
              0.3333333333333333,
              "#9c179e"
             ],
             [
              0.4444444444444444,
              "#bd3786"
             ],
             [
              0.5555555555555556,
              "#d8576b"
             ],
             [
              0.6666666666666666,
              "#ed7953"
             ],
             [
              0.7777777777777778,
              "#fb9f3a"
             ],
             [
              0.8888888888888888,
              "#fdca26"
             ],
             [
              1,
              "#f0f921"
             ]
            ],
            "type": "surface"
           }
          ],
          "table": [
           {
            "cells": {
             "fill": {
              "color": "#EBF0F8"
             },
             "line": {
              "color": "white"
             }
            },
            "header": {
             "fill": {
              "color": "#C8D4E3"
             },
             "line": {
              "color": "white"
             }
            },
            "type": "table"
           }
          ]
         },
         "layout": {
          "annotationdefaults": {
           "arrowcolor": "#2a3f5f",
           "arrowhead": 0,
           "arrowwidth": 1
          },
          "autotypenumbers": "strict",
          "coloraxis": {
           "colorbar": {
            "outlinewidth": 0,
            "ticks": ""
           }
          },
          "colorscale": {
           "diverging": [
            [
             0,
             "#8e0152"
            ],
            [
             0.1,
             "#c51b7d"
            ],
            [
             0.2,
             "#de77ae"
            ],
            [
             0.3,
             "#f1b6da"
            ],
            [
             0.4,
             "#fde0ef"
            ],
            [
             0.5,
             "#f7f7f7"
            ],
            [
             0.6,
             "#e6f5d0"
            ],
            [
             0.7,
             "#b8e186"
            ],
            [
             0.8,
             "#7fbc41"
            ],
            [
             0.9,
             "#4d9221"
            ],
            [
             1,
             "#276419"
            ]
           ],
           "sequential": [
            [
             0,
             "#0d0887"
            ],
            [
             0.1111111111111111,
             "#46039f"
            ],
            [
             0.2222222222222222,
             "#7201a8"
            ],
            [
             0.3333333333333333,
             "#9c179e"
            ],
            [
             0.4444444444444444,
             "#bd3786"
            ],
            [
             0.5555555555555556,
             "#d8576b"
            ],
            [
             0.6666666666666666,
             "#ed7953"
            ],
            [
             0.7777777777777778,
             "#fb9f3a"
            ],
            [
             0.8888888888888888,
             "#fdca26"
            ],
            [
             1,
             "#f0f921"
            ]
           ],
           "sequentialminus": [
            [
             0,
             "#0d0887"
            ],
            [
             0.1111111111111111,
             "#46039f"
            ],
            [
             0.2222222222222222,
             "#7201a8"
            ],
            [
             0.3333333333333333,
             "#9c179e"
            ],
            [
             0.4444444444444444,
             "#bd3786"
            ],
            [
             0.5555555555555556,
             "#d8576b"
            ],
            [
             0.6666666666666666,
             "#ed7953"
            ],
            [
             0.7777777777777778,
             "#fb9f3a"
            ],
            [
             0.8888888888888888,
             "#fdca26"
            ],
            [
             1,
             "#f0f921"
            ]
           ]
          },
          "colorway": [
           "#636efa",
           "#EF553B",
           "#00cc96",
           "#ab63fa",
           "#FFA15A",
           "#19d3f3",
           "#FF6692",
           "#B6E880",
           "#FF97FF",
           "#FECB52"
          ],
          "font": {
           "color": "#2a3f5f"
          },
          "geo": {
           "bgcolor": "white",
           "lakecolor": "white",
           "landcolor": "#E5ECF6",
           "showlakes": true,
           "showland": true,
           "subunitcolor": "white"
          },
          "hoverlabel": {
           "align": "left"
          },
          "hovermode": "closest",
          "mapbox": {
           "style": "light"
          },
          "paper_bgcolor": "white",
          "plot_bgcolor": "#E5ECF6",
          "polar": {
           "angularaxis": {
            "gridcolor": "white",
            "linecolor": "white",
            "ticks": ""
           },
           "bgcolor": "#E5ECF6",
           "radialaxis": {
            "gridcolor": "white",
            "linecolor": "white",
            "ticks": ""
           }
          },
          "scene": {
           "xaxis": {
            "backgroundcolor": "#E5ECF6",
            "gridcolor": "white",
            "gridwidth": 2,
            "linecolor": "white",
            "showbackground": true,
            "ticks": "",
            "zerolinecolor": "white"
           },
           "yaxis": {
            "backgroundcolor": "#E5ECF6",
            "gridcolor": "white",
            "gridwidth": 2,
            "linecolor": "white",
            "showbackground": true,
            "ticks": "",
            "zerolinecolor": "white"
           },
           "zaxis": {
            "backgroundcolor": "#E5ECF6",
            "gridcolor": "white",
            "gridwidth": 2,
            "linecolor": "white",
            "showbackground": true,
            "ticks": "",
            "zerolinecolor": "white"
           }
          },
          "shapedefaults": {
           "line": {
            "color": "#2a3f5f"
           }
          },
          "ternary": {
           "aaxis": {
            "gridcolor": "white",
            "linecolor": "white",
            "ticks": ""
           },
           "baxis": {
            "gridcolor": "white",
            "linecolor": "white",
            "ticks": ""
           },
           "bgcolor": "#E5ECF6",
           "caxis": {
            "gridcolor": "white",
            "linecolor": "white",
            "ticks": ""
           }
          },
          "title": {
           "x": 0.05
          },
          "xaxis": {
           "automargin": true,
           "gridcolor": "white",
           "linecolor": "white",
           "ticks": "",
           "title": {
            "standoff": 15
           },
           "zerolinecolor": "white",
           "zerolinewidth": 2
          },
          "yaxis": {
           "automargin": true,
           "gridcolor": "white",
           "linecolor": "white",
           "ticks": "",
           "title": {
            "standoff": 15
           },
           "zerolinecolor": "white",
           "zerolinewidth": 2
          }
         }
        },
        "title": {
         "text": "Gráfico de Ventas Diarias"
        },
        "xaxis": {
         "anchor": "y",
         "domain": [
          0,
          1
         ],
         "title": {
          "text": "ds"
         }
        },
        "yaxis": {
         "anchor": "x",
         "domain": [
          0,
          1
         ],
         "title": {
          "text": "y"
         }
        }
       }
      }
     },
     "metadata": {},
     "output_type": "display_data"
    }
   ],
   "source": [
    "#filtramos\n",
    "poplin = poplin[poplin['ds'] >= '2022-08-23']\n",
    "\n",
    "\n",
    "# Crear el gráfico con Plotly Express\n",
    "fig = px.line(poplin, x='ds', y='y', title='Gráfico de Ventas Diarias')\n",
    "\n",
    "# Mostrar el gráfico\n",
    "fig.show()"
   ]
  },
  {
   "cell_type": "code",
   "execution_count": 455,
   "metadata": {},
   "outputs": [
    {
     "data": {
      "application/vnd.plotly.v1+json": {
       "config": {
        "plotlyServerURL": "https://plot.ly"
       },
       "data": [
        {
         "hovertemplate": "ds=%{x}<br>yhat=%{y}<extra></extra>",
         "legendgroup": "",
         "line": {
          "color": "#636efa",
          "dash": "solid"
         },
         "marker": {
          "symbol": "circle"
         },
         "mode": "lines",
         "name": "",
         "orientation": "v",
         "showlegend": false,
         "type": "scatter",
         "x": [
          "2023-08-23T00:00:00",
          "2023-08-24T00:00:00",
          "2023-08-25T00:00:00",
          "2023-08-26T00:00:00",
          "2023-08-27T00:00:00",
          "2023-08-28T00:00:00",
          "2023-08-29T00:00:00",
          "2023-08-30T00:00:00",
          "2023-08-31T00:00:00",
          "2023-09-01T00:00:00",
          "2023-09-02T00:00:00",
          "2023-09-03T00:00:00",
          "2023-09-04T00:00:00",
          "2023-09-05T00:00:00",
          "2023-09-06T00:00:00",
          "2023-09-07T00:00:00",
          "2023-09-08T00:00:00",
          "2023-09-09T00:00:00",
          "2023-09-10T00:00:00",
          "2023-09-11T00:00:00",
          "2023-09-12T00:00:00",
          "2023-09-13T00:00:00",
          "2023-09-14T00:00:00",
          "2023-09-15T00:00:00",
          "2023-09-16T00:00:00",
          "2023-09-17T00:00:00",
          "2023-09-18T00:00:00",
          "2023-09-19T00:00:00",
          "2023-09-20T00:00:00",
          "2023-09-21T00:00:00",
          "2023-09-22T00:00:00",
          "2023-09-23T00:00:00",
          "2023-09-24T00:00:00",
          "2023-09-25T00:00:00",
          "2023-09-26T00:00:00",
          "2023-09-27T00:00:00",
          "2023-09-28T00:00:00",
          "2023-09-29T00:00:00",
          "2023-09-30T00:00:00",
          "2023-10-01T00:00:00",
          "2023-10-02T00:00:00",
          "2023-10-03T00:00:00",
          "2023-10-04T00:00:00",
          "2023-10-05T00:00:00",
          "2023-10-06T00:00:00",
          "2023-10-07T00:00:00",
          "2023-10-08T00:00:00",
          "2023-10-09T00:00:00",
          "2023-10-10T00:00:00",
          "2023-10-11T00:00:00",
          "2023-10-12T00:00:00",
          "2023-10-13T00:00:00",
          "2023-10-14T00:00:00",
          "2023-10-15T00:00:00",
          "2023-10-16T00:00:00",
          "2023-10-17T00:00:00",
          "2023-10-18T00:00:00",
          "2023-10-19T00:00:00",
          "2023-10-20T00:00:00",
          "2023-10-21T00:00:00",
          "2023-10-22T00:00:00",
          "2023-10-23T00:00:00",
          "2023-10-24T00:00:00",
          "2023-10-25T00:00:00",
          "2023-10-26T00:00:00",
          "2023-10-27T00:00:00",
          "2023-10-28T00:00:00",
          "2023-10-29T00:00:00",
          "2023-10-30T00:00:00",
          "2023-10-31T00:00:00",
          "2023-11-01T00:00:00",
          "2023-11-02T00:00:00",
          "2023-11-03T00:00:00",
          "2023-11-04T00:00:00",
          "2023-11-05T00:00:00",
          "2023-11-06T00:00:00",
          "2023-11-07T00:00:00",
          "2023-11-08T00:00:00",
          "2023-11-09T00:00:00",
          "2023-11-10T00:00:00",
          "2023-11-11T00:00:00",
          "2023-11-12T00:00:00",
          "2023-11-13T00:00:00",
          "2023-11-14T00:00:00",
          "2023-11-15T00:00:00",
          "2023-11-16T00:00:00",
          "2023-11-17T00:00:00",
          "2023-11-18T00:00:00",
          "2023-11-19T00:00:00",
          "2023-11-20T00:00:00",
          "2023-11-21T00:00:00",
          "2023-11-22T00:00:00",
          "2023-11-23T00:00:00",
          "2023-11-24T00:00:00",
          "2023-11-25T00:00:00",
          "2023-11-26T00:00:00",
          "2023-11-27T00:00:00",
          "2023-11-28T00:00:00",
          "2023-11-29T00:00:00",
          "2023-11-30T00:00:00",
          "2023-12-01T00:00:00",
          "2023-12-02T00:00:00",
          "2023-12-03T00:00:00",
          "2023-12-04T00:00:00",
          "2023-12-05T00:00:00",
          "2023-12-06T00:00:00",
          "2023-12-07T00:00:00",
          "2023-12-08T00:00:00",
          "2023-12-09T00:00:00",
          "2023-12-10T00:00:00",
          "2023-12-11T00:00:00",
          "2023-12-12T00:00:00",
          "2023-12-13T00:00:00",
          "2023-12-14T00:00:00",
          "2023-12-15T00:00:00",
          "2023-12-16T00:00:00",
          "2023-12-17T00:00:00",
          "2023-12-18T00:00:00",
          "2023-12-19T00:00:00",
          "2023-12-20T00:00:00",
          "2023-12-21T00:00:00",
          "2023-12-22T00:00:00",
          "2023-12-23T00:00:00",
          "2023-12-24T00:00:00",
          "2023-12-25T00:00:00",
          "2023-12-26T00:00:00",
          "2023-12-27T00:00:00",
          "2023-12-28T00:00:00",
          "2023-12-29T00:00:00",
          "2023-12-30T00:00:00",
          "2023-12-31T00:00:00",
          "2024-01-01T00:00:00",
          "2024-01-02T00:00:00",
          "2024-01-03T00:00:00",
          "2024-01-04T00:00:00",
          "2024-01-05T00:00:00",
          "2024-01-06T00:00:00",
          "2024-01-07T00:00:00",
          "2024-01-08T00:00:00",
          "2024-01-09T00:00:00",
          "2024-01-10T00:00:00",
          "2024-01-11T00:00:00",
          "2024-01-12T00:00:00",
          "2024-01-13T00:00:00",
          "2024-01-14T00:00:00",
          "2024-01-15T00:00:00",
          "2024-01-16T00:00:00",
          "2024-01-17T00:00:00",
          "2024-01-18T00:00:00",
          "2024-01-19T00:00:00",
          "2024-01-20T00:00:00",
          "2024-01-21T00:00:00",
          "2024-01-22T00:00:00",
          "2024-01-23T00:00:00",
          "2024-01-24T00:00:00",
          "2024-01-25T00:00:00",
          "2024-01-26T00:00:00",
          "2024-01-27T00:00:00",
          "2024-01-28T00:00:00",
          "2024-01-29T00:00:00",
          "2024-01-30T00:00:00",
          "2024-01-31T00:00:00",
          "2024-02-01T00:00:00",
          "2024-02-02T00:00:00",
          "2024-02-03T00:00:00",
          "2024-02-04T00:00:00",
          "2024-02-05T00:00:00",
          "2024-02-06T00:00:00",
          "2024-02-07T00:00:00",
          "2024-02-08T00:00:00",
          "2024-02-09T00:00:00",
          "2024-02-10T00:00:00",
          "2024-02-11T00:00:00",
          "2024-02-12T00:00:00",
          "2024-02-13T00:00:00",
          "2024-02-14T00:00:00",
          "2024-02-15T00:00:00",
          "2024-02-16T00:00:00",
          "2024-02-17T00:00:00",
          "2024-02-18T00:00:00",
          "2024-02-19T00:00:00",
          "2024-02-20T00:00:00",
          "2024-02-21T00:00:00",
          "2024-02-22T00:00:00",
          "2024-02-23T00:00:00",
          "2024-02-24T00:00:00",
          "2024-02-25T00:00:00",
          "2024-02-26T00:00:00",
          "2024-02-27T00:00:00",
          "2024-02-28T00:00:00",
          "2024-02-29T00:00:00",
          "2024-03-01T00:00:00",
          "2024-03-02T00:00:00",
          "2024-03-03T00:00:00",
          "2024-03-04T00:00:00",
          "2024-03-05T00:00:00",
          "2024-03-06T00:00:00",
          "2024-03-07T00:00:00",
          "2024-03-08T00:00:00",
          "2024-03-09T00:00:00",
          "2024-03-10T00:00:00",
          "2024-03-11T00:00:00",
          "2024-03-12T00:00:00",
          "2024-03-13T00:00:00",
          "2024-03-14T00:00:00",
          "2024-03-15T00:00:00",
          "2024-03-16T00:00:00",
          "2024-03-17T00:00:00",
          "2024-03-18T00:00:00",
          "2024-03-19T00:00:00",
          "2024-03-20T00:00:00",
          "2024-03-21T00:00:00",
          "2024-03-22T00:00:00",
          "2024-03-23T00:00:00",
          "2024-03-24T00:00:00",
          "2024-03-25T00:00:00",
          "2024-03-26T00:00:00",
          "2024-03-27T00:00:00",
          "2024-03-28T00:00:00",
          "2024-03-29T00:00:00",
          "2024-03-30T00:00:00",
          "2024-03-31T00:00:00",
          "2024-04-01T00:00:00",
          "2024-04-02T00:00:00",
          "2024-04-03T00:00:00",
          "2024-04-04T00:00:00",
          "2024-04-05T00:00:00",
          "2024-04-06T00:00:00",
          "2024-04-07T00:00:00",
          "2024-04-08T00:00:00",
          "2024-04-09T00:00:00",
          "2024-04-10T00:00:00",
          "2024-04-11T00:00:00",
          "2024-04-12T00:00:00",
          "2024-04-13T00:00:00",
          "2024-04-14T00:00:00",
          "2024-04-15T00:00:00",
          "2024-04-16T00:00:00",
          "2024-04-17T00:00:00",
          "2024-04-18T00:00:00",
          "2024-04-19T00:00:00",
          "2024-04-20T00:00:00",
          "2024-04-21T00:00:00",
          "2024-04-22T00:00:00",
          "2024-04-23T00:00:00",
          "2024-04-24T00:00:00",
          "2024-04-25T00:00:00",
          "2024-04-26T00:00:00",
          "2024-04-27T00:00:00",
          "2024-04-28T00:00:00",
          "2024-04-29T00:00:00",
          "2024-04-30T00:00:00",
          "2024-05-01T00:00:00",
          "2024-05-02T00:00:00",
          "2024-05-03T00:00:00",
          "2024-05-04T00:00:00",
          "2024-05-05T00:00:00",
          "2024-05-06T00:00:00",
          "2024-05-07T00:00:00",
          "2024-05-08T00:00:00",
          "2024-05-09T00:00:00",
          "2024-05-10T00:00:00",
          "2024-05-11T00:00:00",
          "2024-05-12T00:00:00",
          "2024-05-13T00:00:00",
          "2024-05-14T00:00:00",
          "2024-05-15T00:00:00",
          "2024-05-16T00:00:00",
          "2024-05-17T00:00:00",
          "2024-05-18T00:00:00",
          "2024-05-19T00:00:00",
          "2024-05-20T00:00:00",
          "2024-05-21T00:00:00",
          "2024-05-22T00:00:00",
          "2024-05-23T00:00:00",
          "2024-05-24T00:00:00",
          "2024-05-25T00:00:00",
          "2024-05-26T00:00:00",
          "2024-05-27T00:00:00",
          "2024-05-28T00:00:00",
          "2024-05-29T00:00:00",
          "2024-05-30T00:00:00",
          "2024-05-31T00:00:00",
          "2024-06-01T00:00:00",
          "2024-06-02T00:00:00",
          "2024-06-03T00:00:00",
          "2024-06-04T00:00:00",
          "2024-06-05T00:00:00",
          "2024-06-06T00:00:00",
          "2024-06-07T00:00:00",
          "2024-06-08T00:00:00",
          "2024-06-09T00:00:00",
          "2024-06-10T00:00:00",
          "2024-06-11T00:00:00",
          "2024-06-12T00:00:00",
          "2024-06-13T00:00:00",
          "2024-06-14T00:00:00",
          "2024-06-15T00:00:00",
          "2024-06-16T00:00:00",
          "2024-06-17T00:00:00",
          "2024-06-18T00:00:00",
          "2024-06-19T00:00:00",
          "2024-06-20T00:00:00",
          "2024-06-21T00:00:00",
          "2024-06-22T00:00:00",
          "2024-06-23T00:00:00",
          "2024-06-24T00:00:00",
          "2024-06-25T00:00:00",
          "2024-06-26T00:00:00",
          "2024-06-27T00:00:00",
          "2024-06-28T00:00:00",
          "2024-06-29T00:00:00",
          "2024-06-30T00:00:00",
          "2024-07-01T00:00:00",
          "2024-07-02T00:00:00",
          "2024-07-03T00:00:00",
          "2024-07-04T00:00:00",
          "2024-07-05T00:00:00",
          "2024-07-06T00:00:00",
          "2024-07-07T00:00:00",
          "2024-07-08T00:00:00",
          "2024-07-09T00:00:00",
          "2024-07-10T00:00:00",
          "2024-07-11T00:00:00",
          "2024-07-12T00:00:00",
          "2024-07-13T00:00:00",
          "2024-07-14T00:00:00",
          "2024-07-15T00:00:00",
          "2024-07-16T00:00:00",
          "2024-07-17T00:00:00",
          "2024-07-18T00:00:00",
          "2024-07-19T00:00:00",
          "2024-07-20T00:00:00",
          "2024-07-21T00:00:00",
          "2024-07-22T00:00:00",
          "2024-07-23T00:00:00",
          "2024-07-24T00:00:00",
          "2024-07-25T00:00:00",
          "2024-07-26T00:00:00",
          "2024-07-27T00:00:00",
          "2024-07-28T00:00:00",
          "2024-07-29T00:00:00",
          "2024-07-30T00:00:00",
          "2024-07-31T00:00:00",
          "2024-08-01T00:00:00",
          "2024-08-02T00:00:00",
          "2024-08-03T00:00:00",
          "2024-08-04T00:00:00",
          "2024-08-05T00:00:00",
          "2024-08-06T00:00:00",
          "2024-08-07T00:00:00",
          "2024-08-08T00:00:00",
          "2024-08-09T00:00:00",
          "2024-08-10T00:00:00",
          "2024-08-11T00:00:00",
          "2024-08-12T00:00:00",
          "2024-08-13T00:00:00",
          "2024-08-14T00:00:00",
          "2024-08-15T00:00:00",
          "2024-08-16T00:00:00",
          "2024-08-17T00:00:00",
          "2024-08-18T00:00:00",
          "2024-08-19T00:00:00",
          "2024-08-20T00:00:00",
          "2024-08-21T00:00:00",
          "2024-08-22T00:00:00",
          "2024-08-23T00:00:00",
          "2024-08-24T00:00:00",
          "2024-08-25T00:00:00",
          "2024-08-26T00:00:00",
          "2024-08-27T00:00:00",
          "2024-08-28T00:00:00",
          "2024-08-29T00:00:00"
         ],
         "xaxis": "x",
         "y": [
          150.77716385834316,
          137.87239567897655,
          137.42041620535386,
          81.0446665597756,
          114.08382987065744,
          121.08927949938955,
          134.12700212452035,
          147.87804573458953,
          135.42705934371764,
          135.49447327824396,
          79.6869051934898,
          113.32590104376305,
          120.94595984560137,
          134.59701608810136,
          148.94541198074694,
          137.0629094983826,
          137.65927575362656,
          82.3330135313456,
          116.4003353278352,
          124.39332163057254,
          138.3624322575739,
          152.97740115646457,
          141.31606618903072,
          142.09667232435982,
          86.92822821769605,
          121.13902568450257,
          129.27427671893597,
          143.39805313873086,
          158.19357742976004,
          146.75143585542543,
          147.8012726183893,
          92.96156560848115,
          127.5676134004444,
          136.1687072633848,
          150.8296907580159,
          166.23097078646023,
          155.4565637638511,
          157.22574515652357,
          103.14290889748771,
          138.5257685639705,
          147.90287239782197,
          163.31562911442649,
          179.4188988512234,
          169.2697197160868,
          171.5597215572715,
          117.86581383926085,
          153.47925735316264,
          162.90406774322645,
          178.15992238139856,
          193.8835989135843,
          183.11849000551894,
          184.547720827937,
          129.74543263344998,
          164.00632090240782,
          171.84435768816394,
          185.2958548554227,
          199.02088568351775,
          186.09260291985154,
          185.22997805819688,
          128.04852829026282,
          159.88912758677864,
          165.315844318159,
          176.4179794523664,
          187.9103443693311,
          172.92134167943706,
          170.22440229001495,
          111.4873761197415,
          142.10000559140795,
          146.6704579047954,
          157.32612377318156,
          168.8127544933089,
          154.28153189256756,
          152.5196530377895,
          95.19905244532444,
          127.70341226277,
          134.6244531304383,
          148.06272497798122,
          162.7269756878975,
          151.7216924565713,
          153.77839215985287,
          100.50527206489176,
          137.21535432309088,
          148.424094635454,
          166.1516472114862,
          185.02383261445758,
          178.06136849249725,
          183.91290200180734,
          134.10641597014765,
          173.87910210145336,
          187.67663160646336,
          207.4569764807299,
          227.79279118176663,
          221.6618808511455,
          227.68126484701037,
          177.35938218338214,
          215.92651195011518,
          227.8343246257897,
          245.05970916359604,
          262.2068836322042,
          252.29732002841493,
          254.0030028629294,
          198.89758507738364,
          232.2855370628514,
          238.70023259191362,
          250.20614899275802,
          261.49922556478526,
          245.694949982713,
          241.55973339553356,
          180.76017986827554,
          208.6903880202094,
          209.96826972814168,
          216.73610228967271,
          223.75939418594356,
          204.21366656572798,
          196.91473899680472,
          133.56714781104802,
          159.59085188820944,
          159.61722169379794,
          165.78953263215482,
          172.86204119662878,
          153.98723811612967,
          147.94685313446197,
          86.40122020796348,
          114.71713333440775,
          117.46515974133128,
          126.72159869784358,
          137.1691287513167,
          121.88569992439763,
          119.57720677739754,
          61.82851228544777,
          93.93291472802012,
          100.39098803826997,
          113.21395018073231,
          127.02557202612056,
          114.85215697568594,
          115.35610558160943,
          60.087618530577956,
          94.31461900849033,
          102.52181928675351,
          116.71408612634134,
          131.51812300842738,
          119.97201027907093,
          120.75813321612925,
          65.45407159010405,
          99.36155581195655,
          107.00444178011332,
          120.43088875353399,
          134.3137896700562,
          121.73902727292231,
          121.43711837530157,
          65.03285140174393,
          97.87305233845291,
          104.52345900720418,
          117.06991290216932,
          130.217939484161,
          117.08030786259684,
          116.40814550871431,
          59.84022196652458,
          92.73054090571065,
          99.64522004422639,
          112.66386330325572,
          126.47948695281434,
          114.18657762602342,
          114.51284128642209,
          59.06923756590855,
          93.1784168450513,
          101.3725158162065,
          115.69549094765804,
          130.8040261621266,
          119.7565673177632,
          121.24601808163442,
          66.85066851057312,
          101.86345255300269,
          110.79047147403116,
          125.65394672516041,
          141.0936258306481,
          130.1561845288758,
          131.52815395085494,
          76.78694191915538,
          111.23004588494575,
          119.37339920866046,
          133.25402218554188,
          147.53101215028659,
          135.27442918649783,
          135.19762161423094,
          78.90757738913436,
          111.73341714324647,
          118.22398946414857,
          130.44975887028824,
          143.10303956622332,
          129.28614946925407,
          127.74304544915083,
          70.10904109619588,
          101.73873602213723,
          107.20312839120076,
          118.59110986308498,
          130.60940225591918,
          116.3705140757636,
          114.62427895910548,
          57.00757595290581,
          88.87235690880772,
          94.78294679131983,
          106.81780826726364,
          119.66982041811525,
          106.43463892293414,
          105.84268794020468,
          49.50937113183112,
          82.76361428506678,
          90.14569252044157,
          103.70952095361943,
          118.12344677206849,
          106.45909906301605,
          107.42383671171015,
          52.61137319409731,
          87.33068352254531,
          96.10414067028466,
          110.97005625461532,
          126.58366094155349,
          116.00607996904051,
          117.93684465061924,
          63.96452060838739,
          99.39556117324939,
          108.75233753733805,
          124.07552563161923,
          140.02489110660625,
          129.66803428171232,
          131.7126427456908,
          77.75683935337551,
          113.11774104933644,
          122.32918694483016,
          137.4438221611905,
          153.1335849462922,
          142.47816453807292,
          144.19698249031964,
          89.89928958653843,
          124.91249749307579,
          133.77970661574133,
          148.56161903807822,
          163.93688576663786,
          152.99045686251947,
          154.44548770955436,
          99.91339356485108,
          134.72217109915016,
          143.41394753257745,
          158.04694503361466,
          173.29590807863968,
          162.24056055691068,
          163.59764383402288,
          108.97112567914263,
          143.6806963225369,
          152.259509636039,
          166.75635431324494,
          181.83629978692926,
          170.56938053853614,
          171.66286671716114,
          116.7117075049715,
          151.02725987889497,
          159.13525699230314,
          173.07819717190864,
          187.51619429266302,
          175.51584917580362,
          175.7826859222017,
          119.91173570265549,
          153.21637689063184,
          160.22638225094843,
          172.99035100228113,
          186.17656379055745,
          172.86181802182324,
          171.76378592810624,
          114.49147707309524,
          146.37391419824124,
          151.9579740289665,
          163.3105727156873,
          175.1192367837255,
          160.48062087860401,
          158.1325194871502,
          99.70396009507013,
          130.5434932890725,
          135.21663880175888,
          145.8076751784119,
          157.01982242905248,
          141.96338773691164,
          139.38743028552378,
          80.92954144054684,
          111.94386422211113,
          116.99831893196948,
          128.17622968467796,
          140.17640726408825,
          126.10126321979719,
          124.6885147206526,
          67.56107829665766,
          100.05527665377139,
          106.71832391122774,
          119.61028073223302,
          133.4045297052787,
          121.17633912131575,
          121.63506627574361,
          66.37458858449182,
          100.70207558711869,
          109.13605505153362,
          123.70895175420816,
          139.0681359496957,
          128.2650361916583,
          129.98785436665239,
          75.81245850727282,
          111.03155462574759,
          120.15308016744122,
          135.20298855807076,
          150.8264545499793,
          140.07704974023068,
          141.64942303482158,
          87.13006087660797,
          121.82623013073713,
          130.26405029714647,
          144.49087095235532,
          159.17599279909703,
          147.39929243217415,
          147.88329815073578,
          92.24330572960588,
          125.81565232362097,
          133.15511128092305,
          146.33660028245936,
          160.05525769460587,
          147.41446330643885,
          147.15736599685007,
          90.91652116682037,
          124.04176840057391,
          131.09732241738516,
          144.1632777371527,
          157.93558742531872,
          145.5140948870574,
          145.63418125033243,
          89.91662836264493,
          123.6958222777873,
          131.51726207408754,
          145.4395637553051,
          160.13500675903606,
          148.67818734681964,
          149.7783252556115,
          95.0298064343937,
          129.74106895612422,
          138.43277904936073,
          153.14046948735444,
          168.5156711888068,
          157.6150869539303,
          159.13334009174045,
          104.65386925375606,
          139.47806749447244,
          148.12360612055045,
          162.62711206726473,
          177.64522913305086,
          166.24361448358727,
          167.12940860240252,
          111.90175823054685,
          145.88050110828053,
          153.60396615592288,
          167.13107281022806,
          181.14177633058537,
          168.72542797888735,
          168.61260629684836,
          112.42501707204175,
          145.50358837080108,
          152.4057308292861,
          165.2069620059334,
          178.6009547710631,
          165.68758950408247,
          165.20457456392154,
          108.77723800241739,
          141.7466192434181,
          148.6668301585714,
          161.6068804878668,
          175.2510207335542,
          162.68717265867394
         ],
         "yaxis": "y"
        }
       ],
       "layout": {
        "legend": {
         "tracegroupgap": 0
        },
        "template": {
         "data": {
          "bar": [
           {
            "error_x": {
             "color": "#2a3f5f"
            },
            "error_y": {
             "color": "#2a3f5f"
            },
            "marker": {
             "line": {
              "color": "#E5ECF6",
              "width": 0.5
             },
             "pattern": {
              "fillmode": "overlay",
              "size": 10,
              "solidity": 0.2
             }
            },
            "type": "bar"
           }
          ],
          "barpolar": [
           {
            "marker": {
             "line": {
              "color": "#E5ECF6",
              "width": 0.5
             },
             "pattern": {
              "fillmode": "overlay",
              "size": 10,
              "solidity": 0.2
             }
            },
            "type": "barpolar"
           }
          ],
          "carpet": [
           {
            "aaxis": {
             "endlinecolor": "#2a3f5f",
             "gridcolor": "white",
             "linecolor": "white",
             "minorgridcolor": "white",
             "startlinecolor": "#2a3f5f"
            },
            "baxis": {
             "endlinecolor": "#2a3f5f",
             "gridcolor": "white",
             "linecolor": "white",
             "minorgridcolor": "white",
             "startlinecolor": "#2a3f5f"
            },
            "type": "carpet"
           }
          ],
          "choropleth": [
           {
            "colorbar": {
             "outlinewidth": 0,
             "ticks": ""
            },
            "type": "choropleth"
           }
          ],
          "contour": [
           {
            "colorbar": {
             "outlinewidth": 0,
             "ticks": ""
            },
            "colorscale": [
             [
              0,
              "#0d0887"
             ],
             [
              0.1111111111111111,
              "#46039f"
             ],
             [
              0.2222222222222222,
              "#7201a8"
             ],
             [
              0.3333333333333333,
              "#9c179e"
             ],
             [
              0.4444444444444444,
              "#bd3786"
             ],
             [
              0.5555555555555556,
              "#d8576b"
             ],
             [
              0.6666666666666666,
              "#ed7953"
             ],
             [
              0.7777777777777778,
              "#fb9f3a"
             ],
             [
              0.8888888888888888,
              "#fdca26"
             ],
             [
              1,
              "#f0f921"
             ]
            ],
            "type": "contour"
           }
          ],
          "contourcarpet": [
           {
            "colorbar": {
             "outlinewidth": 0,
             "ticks": ""
            },
            "type": "contourcarpet"
           }
          ],
          "heatmap": [
           {
            "colorbar": {
             "outlinewidth": 0,
             "ticks": ""
            },
            "colorscale": [
             [
              0,
              "#0d0887"
             ],
             [
              0.1111111111111111,
              "#46039f"
             ],
             [
              0.2222222222222222,
              "#7201a8"
             ],
             [
              0.3333333333333333,
              "#9c179e"
             ],
             [
              0.4444444444444444,
              "#bd3786"
             ],
             [
              0.5555555555555556,
              "#d8576b"
             ],
             [
              0.6666666666666666,
              "#ed7953"
             ],
             [
              0.7777777777777778,
              "#fb9f3a"
             ],
             [
              0.8888888888888888,
              "#fdca26"
             ],
             [
              1,
              "#f0f921"
             ]
            ],
            "type": "heatmap"
           }
          ],
          "heatmapgl": [
           {
            "colorbar": {
             "outlinewidth": 0,
             "ticks": ""
            },
            "colorscale": [
             [
              0,
              "#0d0887"
             ],
             [
              0.1111111111111111,
              "#46039f"
             ],
             [
              0.2222222222222222,
              "#7201a8"
             ],
             [
              0.3333333333333333,
              "#9c179e"
             ],
             [
              0.4444444444444444,
              "#bd3786"
             ],
             [
              0.5555555555555556,
              "#d8576b"
             ],
             [
              0.6666666666666666,
              "#ed7953"
             ],
             [
              0.7777777777777778,
              "#fb9f3a"
             ],
             [
              0.8888888888888888,
              "#fdca26"
             ],
             [
              1,
              "#f0f921"
             ]
            ],
            "type": "heatmapgl"
           }
          ],
          "histogram": [
           {
            "marker": {
             "pattern": {
              "fillmode": "overlay",
              "size": 10,
              "solidity": 0.2
             }
            },
            "type": "histogram"
           }
          ],
          "histogram2d": [
           {
            "colorbar": {
             "outlinewidth": 0,
             "ticks": ""
            },
            "colorscale": [
             [
              0,
              "#0d0887"
             ],
             [
              0.1111111111111111,
              "#46039f"
             ],
             [
              0.2222222222222222,
              "#7201a8"
             ],
             [
              0.3333333333333333,
              "#9c179e"
             ],
             [
              0.4444444444444444,
              "#bd3786"
             ],
             [
              0.5555555555555556,
              "#d8576b"
             ],
             [
              0.6666666666666666,
              "#ed7953"
             ],
             [
              0.7777777777777778,
              "#fb9f3a"
             ],
             [
              0.8888888888888888,
              "#fdca26"
             ],
             [
              1,
              "#f0f921"
             ]
            ],
            "type": "histogram2d"
           }
          ],
          "histogram2dcontour": [
           {
            "colorbar": {
             "outlinewidth": 0,
             "ticks": ""
            },
            "colorscale": [
             [
              0,
              "#0d0887"
             ],
             [
              0.1111111111111111,
              "#46039f"
             ],
             [
              0.2222222222222222,
              "#7201a8"
             ],
             [
              0.3333333333333333,
              "#9c179e"
             ],
             [
              0.4444444444444444,
              "#bd3786"
             ],
             [
              0.5555555555555556,
              "#d8576b"
             ],
             [
              0.6666666666666666,
              "#ed7953"
             ],
             [
              0.7777777777777778,
              "#fb9f3a"
             ],
             [
              0.8888888888888888,
              "#fdca26"
             ],
             [
              1,
              "#f0f921"
             ]
            ],
            "type": "histogram2dcontour"
           }
          ],
          "mesh3d": [
           {
            "colorbar": {
             "outlinewidth": 0,
             "ticks": ""
            },
            "type": "mesh3d"
           }
          ],
          "parcoords": [
           {
            "line": {
             "colorbar": {
              "outlinewidth": 0,
              "ticks": ""
             }
            },
            "type": "parcoords"
           }
          ],
          "pie": [
           {
            "automargin": true,
            "type": "pie"
           }
          ],
          "scatter": [
           {
            "fillpattern": {
             "fillmode": "overlay",
             "size": 10,
             "solidity": 0.2
            },
            "type": "scatter"
           }
          ],
          "scatter3d": [
           {
            "line": {
             "colorbar": {
              "outlinewidth": 0,
              "ticks": ""
             }
            },
            "marker": {
             "colorbar": {
              "outlinewidth": 0,
              "ticks": ""
             }
            },
            "type": "scatter3d"
           }
          ],
          "scattercarpet": [
           {
            "marker": {
             "colorbar": {
              "outlinewidth": 0,
              "ticks": ""
             }
            },
            "type": "scattercarpet"
           }
          ],
          "scattergeo": [
           {
            "marker": {
             "colorbar": {
              "outlinewidth": 0,
              "ticks": ""
             }
            },
            "type": "scattergeo"
           }
          ],
          "scattergl": [
           {
            "marker": {
             "colorbar": {
              "outlinewidth": 0,
              "ticks": ""
             }
            },
            "type": "scattergl"
           }
          ],
          "scattermapbox": [
           {
            "marker": {
             "colorbar": {
              "outlinewidth": 0,
              "ticks": ""
             }
            },
            "type": "scattermapbox"
           }
          ],
          "scatterpolar": [
           {
            "marker": {
             "colorbar": {
              "outlinewidth": 0,
              "ticks": ""
             }
            },
            "type": "scatterpolar"
           }
          ],
          "scatterpolargl": [
           {
            "marker": {
             "colorbar": {
              "outlinewidth": 0,
              "ticks": ""
             }
            },
            "type": "scatterpolargl"
           }
          ],
          "scatterternary": [
           {
            "marker": {
             "colorbar": {
              "outlinewidth": 0,
              "ticks": ""
             }
            },
            "type": "scatterternary"
           }
          ],
          "surface": [
           {
            "colorbar": {
             "outlinewidth": 0,
             "ticks": ""
            },
            "colorscale": [
             [
              0,
              "#0d0887"
             ],
             [
              0.1111111111111111,
              "#46039f"
             ],
             [
              0.2222222222222222,
              "#7201a8"
             ],
             [
              0.3333333333333333,
              "#9c179e"
             ],
             [
              0.4444444444444444,
              "#bd3786"
             ],
             [
              0.5555555555555556,
              "#d8576b"
             ],
             [
              0.6666666666666666,
              "#ed7953"
             ],
             [
              0.7777777777777778,
              "#fb9f3a"
             ],
             [
              0.8888888888888888,
              "#fdca26"
             ],
             [
              1,
              "#f0f921"
             ]
            ],
            "type": "surface"
           }
          ],
          "table": [
           {
            "cells": {
             "fill": {
              "color": "#EBF0F8"
             },
             "line": {
              "color": "white"
             }
            },
            "header": {
             "fill": {
              "color": "#C8D4E3"
             },
             "line": {
              "color": "white"
             }
            },
            "type": "table"
           }
          ]
         },
         "layout": {
          "annotationdefaults": {
           "arrowcolor": "#2a3f5f",
           "arrowhead": 0,
           "arrowwidth": 1
          },
          "autotypenumbers": "strict",
          "coloraxis": {
           "colorbar": {
            "outlinewidth": 0,
            "ticks": ""
           }
          },
          "colorscale": {
           "diverging": [
            [
             0,
             "#8e0152"
            ],
            [
             0.1,
             "#c51b7d"
            ],
            [
             0.2,
             "#de77ae"
            ],
            [
             0.3,
             "#f1b6da"
            ],
            [
             0.4,
             "#fde0ef"
            ],
            [
             0.5,
             "#f7f7f7"
            ],
            [
             0.6,
             "#e6f5d0"
            ],
            [
             0.7,
             "#b8e186"
            ],
            [
             0.8,
             "#7fbc41"
            ],
            [
             0.9,
             "#4d9221"
            ],
            [
             1,
             "#276419"
            ]
           ],
           "sequential": [
            [
             0,
             "#0d0887"
            ],
            [
             0.1111111111111111,
             "#46039f"
            ],
            [
             0.2222222222222222,
             "#7201a8"
            ],
            [
             0.3333333333333333,
             "#9c179e"
            ],
            [
             0.4444444444444444,
             "#bd3786"
            ],
            [
             0.5555555555555556,
             "#d8576b"
            ],
            [
             0.6666666666666666,
             "#ed7953"
            ],
            [
             0.7777777777777778,
             "#fb9f3a"
            ],
            [
             0.8888888888888888,
             "#fdca26"
            ],
            [
             1,
             "#f0f921"
            ]
           ],
           "sequentialminus": [
            [
             0,
             "#0d0887"
            ],
            [
             0.1111111111111111,
             "#46039f"
            ],
            [
             0.2222222222222222,
             "#7201a8"
            ],
            [
             0.3333333333333333,
             "#9c179e"
            ],
            [
             0.4444444444444444,
             "#bd3786"
            ],
            [
             0.5555555555555556,
             "#d8576b"
            ],
            [
             0.6666666666666666,
             "#ed7953"
            ],
            [
             0.7777777777777778,
             "#fb9f3a"
            ],
            [
             0.8888888888888888,
             "#fdca26"
            ],
            [
             1,
             "#f0f921"
            ]
           ]
          },
          "colorway": [
           "#636efa",
           "#EF553B",
           "#00cc96",
           "#ab63fa",
           "#FFA15A",
           "#19d3f3",
           "#FF6692",
           "#B6E880",
           "#FF97FF",
           "#FECB52"
          ],
          "font": {
           "color": "#2a3f5f"
          },
          "geo": {
           "bgcolor": "white",
           "lakecolor": "white",
           "landcolor": "#E5ECF6",
           "showlakes": true,
           "showland": true,
           "subunitcolor": "white"
          },
          "hoverlabel": {
           "align": "left"
          },
          "hovermode": "closest",
          "mapbox": {
           "style": "light"
          },
          "paper_bgcolor": "white",
          "plot_bgcolor": "#E5ECF6",
          "polar": {
           "angularaxis": {
            "gridcolor": "white",
            "linecolor": "white",
            "ticks": ""
           },
           "bgcolor": "#E5ECF6",
           "radialaxis": {
            "gridcolor": "white",
            "linecolor": "white",
            "ticks": ""
           }
          },
          "scene": {
           "xaxis": {
            "backgroundcolor": "#E5ECF6",
            "gridcolor": "white",
            "gridwidth": 2,
            "linecolor": "white",
            "showbackground": true,
            "ticks": "",
            "zerolinecolor": "white"
           },
           "yaxis": {
            "backgroundcolor": "#E5ECF6",
            "gridcolor": "white",
            "gridwidth": 2,
            "linecolor": "white",
            "showbackground": true,
            "ticks": "",
            "zerolinecolor": "white"
           },
           "zaxis": {
            "backgroundcolor": "#E5ECF6",
            "gridcolor": "white",
            "gridwidth": 2,
            "linecolor": "white",
            "showbackground": true,
            "ticks": "",
            "zerolinecolor": "white"
           }
          },
          "shapedefaults": {
           "line": {
            "color": "#2a3f5f"
           }
          },
          "ternary": {
           "aaxis": {
            "gridcolor": "white",
            "linecolor": "white",
            "ticks": ""
           },
           "baxis": {
            "gridcolor": "white",
            "linecolor": "white",
            "ticks": ""
           },
           "bgcolor": "#E5ECF6",
           "caxis": {
            "gridcolor": "white",
            "linecolor": "white",
            "ticks": ""
           }
          },
          "title": {
           "x": 0.05
          },
          "xaxis": {
           "automargin": true,
           "gridcolor": "white",
           "linecolor": "white",
           "ticks": "",
           "title": {
            "standoff": 15
           },
           "zerolinecolor": "white",
           "zerolinewidth": 2
          },
          "yaxis": {
           "automargin": true,
           "gridcolor": "white",
           "linecolor": "white",
           "ticks": "",
           "title": {
            "standoff": 15
           },
           "zerolinecolor": "white",
           "zerolinewidth": 2
          }
         }
        },
        "title": {
         "text": "Gráfico de Ventas Diarias desde 23/08/2023 al 29 de agosto del 2024"
        },
        "xaxis": {
         "anchor": "y",
         "domain": [
          0,
          1
         ],
         "title": {
          "text": "ds"
         }
        },
        "yaxis": {
         "anchor": "x",
         "domain": [
          0,
          1
         ],
         "title": {
          "text": "yhat"
         }
        }
       }
      }
     },
     "metadata": {},
     "output_type": "display_data"
    }
   ],
   "source": [
    "forcast_filtered = forcast[forcast['ds'] >= '2023-08-23']\n",
    "\n",
    "# Crear el gráfico con Plotly Express\n",
    "fig = px.line(forcast_filtered, x='ds', y='yhat', title='Gráfico de Ventas Diarias desde 23/08/2023 al 29 de agosto del 2024')\n",
    "\n",
    "# Mostrar el gráfico\n",
    "fig.show()"
   ]
  },
  {
   "cell_type": "code",
   "execution_count": 448,
   "metadata": {},
   "outputs": [
    {
     "data": {
      "text/plain": [
       "(849,)"
      ]
     },
     "execution_count": 448,
     "metadata": {},
     "output_type": "execute_result"
    }
   ],
   "source": [
    "df[\"descrip\"].unique().shape"
   ]
  },
  {
   "cell_type": "code",
   "execution_count": 456,
   "metadata": {},
   "outputs": [
    {
     "data": {
      "text/plain": [
       "array(['ACCESORIO', 'ACETATO', 'ALEMANISCO', 'ALFOMBRA', 'ANTISOLAR',\n",
       "       'ARPILLERA', 'BATISTA', 'BENGALINA', 'BLACKOUT', 'BOAL', 'BOUCLE',\n",
       "       'BROCATO', 'BRODERIE', 'BUZO', 'CANVAS', 'CASHMERE', 'CHAROLINA',\n",
       "       'CHENILLE', 'CONVEX', 'CORDERINA', 'CORDERITO', 'CORTINA', 'CREPE',\n",
       "       'CUERINA', 'DENIM', 'DIOLEN', 'DRIL', 'DRY', 'ENCAJE', 'ENTRETELA',\n",
       "       'FELPUDO', 'FIBRANA', 'FRANELA', 'GABARDINA', 'GASA', 'GEORGETTE',\n",
       "       'GOBELINO', 'GOMA', 'GROSS', 'GUATA', 'GUIPIURE', 'HILOS',\n",
       "       'IMPERMEABLE', 'INTERLOCK', 'JACQUARD', 'JERSEY', 'LAME',\n",
       "       'LIENCILLO', 'LIENZO', 'LINO', 'LONETA', 'LYCRA', 'MALLA',\n",
       "       'MANTEL', 'MANTELERIA', 'MICRO', 'MICROFIBRA', 'MICROTUL', 'MODAL',\n",
       "       'MOLETON', 'MUSELINA', 'ORGANZA', 'PAILLETTE', 'PANA', 'PANAMA',\n",
       "       'PANHOLENCI', 'PATA', 'PERCAL', 'PIEL', 'PIQUE', 'PISO', 'POLAR',\n",
       "       'POPLIN', 'PRINCIPE', 'PUNTO', 'PVC', 'REDECILLA', 'RIBB',\n",
       "       'RIPSTOP', 'SATEN', 'SCUBA', 'SEDA', 'SUECIA', 'SUPLEX', 'TACTEL',\n",
       "       'TAFETA', 'TAPIZMEL', 'TASLAN', 'TELA', 'TNT', 'TRICOT',\n",
       "       'TROPICAL', 'TUL', 'TWILL', 'VALENTINO', 'VISCOLYCRA', 'VIYELAS',\n",
       "       'VOLADOS', 'CATIONIC', 'MATELASSE', 'OXFORD', 'PANHO',\n",
       "       'TERCIOPELO', 'PANAMINA', 'POPELINA', 'RASO', 'PLUMETI', 'SABANA',\n",
       "       'BAMBULA', 'DAMASCO', 'RIBANA', 'CORDEROY', 'THERMO', 'ESPIGA',\n",
       "       'VELBOA', 'SHANTUNG', 'BASTISTA', 'CINTA', 'MANTILLA', 'RETACERIA',\n",
       "       'CARRE', 'DEPORTIVO', 'AMALFI', 'CESPED', 'SATIN', 'CLOQUE',\n",
       "       'TOALLA', 'SARGA', 'VIYELA', 'GAMUZA', 'RANDA', 'MORLEY', 'ECO',\n",
       "       'LUREX', 'TWEED', 'GLOQUE', 'CHEVIOT', 'MOSS', 'NIDO', 'PIED',\n",
       "       'FORRERIA', 'GIBRE', 'ORGANDI', 'PLISSE', 'RETAZOS'], dtype=object)"
      ]
     },
     "execution_count": 456,
     "metadata": {},
     "output_type": "execute_result"
    }
   ],
   "source": [
    "def limpiar_tela(descrip):\n",
    "    partes = descrip.split()\n",
    "    return partes[0]\n",
    "\n",
    "# Aplicar la función a la columna \"nombre_color\" y crear una nueva columna llamada \"color_limpiado\"\n",
    "df['descrip'] = df['descrip'].apply(limpiar_tela)\n",
    "df['descrip'].unique()"
   ]
  },
  {
   "cell_type": "code",
   "execution_count": 457,
   "metadata": {},
   "outputs": [
    {
     "name": "stdout",
     "output_type": "stream",
     "text": [
      "Combinación con mayor cantidad de registros:\n",
      "nombre_color    BLANCO\n",
      "descrip            TUL\n",
      "suc                  2\n",
      "Name: 3805, dtype: object\n",
      "Cantidad de registros: 2693\n"
     ]
    }
   ],
   "source": [
    "frecuencia_combinaciones = df.groupby(['nombre_color', 'descrip', 'suc']).size().reset_index(name='cantidad_registros')\n",
    "\n",
    "# Encontrar la combinación con la mayor cantidad de registros\n",
    "combinacion_max_registros = frecuencia_combinaciones.loc[frecuencia_combinaciones['cantidad_registros'].idxmax()]\n",
    "\n",
    "# Imprimir los resultados\n",
    "print(\"Combinación con mayor cantidad de registros:\")\n",
    "print(combinacion_max_registros[['nombre_color', 'descrip', 'suc']])\n",
    "print(f\"Cantidad de registros: {combinacion_max_registros['cantidad_registros']}\")"
   ]
  },
  {
   "cell_type": "code",
   "execution_count": 460,
   "metadata": {},
   "outputs": [
    {
     "data": {
      "text/plain": [
       "(728,)"
      ]
     },
     "execution_count": 460,
     "metadata": {},
     "output_type": "execute_result"
    }
   ],
   "source": [
    "tul = df[(df['descrip'] == 'TUL') & \n",
    "              (df['nombre_color'] == 'BLANCO') & \n",
    "              (df['suc'].astype('int64') == 2)]\n",
    "tul = tul[[\"fecha\", \"cantidad\"]]\n",
    "tul.columns = [\"ds\",\"y\"]\n",
    "tul[\"ds\"].unique().shape"
   ]
  },
  {
   "cell_type": "code",
   "execution_count": 468,
   "metadata": {},
   "outputs": [],
   "source": [
    "tul = frame"
   ]
  },
  {
   "cell_type": "code",
   "execution_count": 465,
   "metadata": {},
   "outputs": [],
   "source": [
    "tul = tul.groupby(['ds']).agg({'y': 'sum'}).reset_index()\n"
   ]
  },
  {
   "cell_type": "code",
   "execution_count": 477,
   "metadata": {},
   "outputs": [],
   "source": [
    "m = Prophet(interval_width=0.95)"
   ]
  },
  {
   "cell_type": "code",
   "execution_count": 478,
   "metadata": {},
   "outputs": [
    {
     "name": "stderr",
     "output_type": "stream",
     "text": [
      "07:41:55 - cmdstanpy - INFO - Chain [1] start processing\n",
      "07:41:56 - cmdstanpy - INFO - Chain [1] done processing\n"
     ]
    }
   ],
   "source": [
    "traning_run = m.fit(frame)"
   ]
  },
  {
   "cell_type": "code",
   "execution_count": 484,
   "metadata": {},
   "outputs": [
    {
     "data": {
      "text/html": [
       "<div>\n",
       "<style scoped>\n",
       "    .dataframe tbody tr th:only-of-type {\n",
       "        vertical-align: middle;\n",
       "    }\n",
       "\n",
       "    .dataframe tbody tr th {\n",
       "        vertical-align: top;\n",
       "    }\n",
       "\n",
       "    .dataframe thead th {\n",
       "        text-align: right;\n",
       "    }\n",
       "</style>\n",
       "<table border=\"1\" class=\"dataframe\">\n",
       "  <thead>\n",
       "    <tr style=\"text-align: right;\">\n",
       "      <th></th>\n",
       "      <th>ds</th>\n",
       "    </tr>\n",
       "  </thead>\n",
       "  <tbody>\n",
       "    <tr>\n",
       "      <th>0</th>\n",
       "      <td>2021-02-01</td>\n",
       "    </tr>\n",
       "    <tr>\n",
       "      <th>1</th>\n",
       "      <td>2021-02-02</td>\n",
       "    </tr>\n",
       "    <tr>\n",
       "      <th>2</th>\n",
       "      <td>2021-02-03</td>\n",
       "    </tr>\n",
       "    <tr>\n",
       "      <th>3</th>\n",
       "      <td>2021-02-04</td>\n",
       "    </tr>\n",
       "    <tr>\n",
       "      <th>4</th>\n",
       "      <td>2021-02-05</td>\n",
       "    </tr>\n",
       "    <tr>\n",
       "      <th>...</th>\n",
       "      <td>...</td>\n",
       "    </tr>\n",
       "    <tr>\n",
       "      <th>1135</th>\n",
       "      <td>2024-08-19</td>\n",
       "    </tr>\n",
       "    <tr>\n",
       "      <th>1136</th>\n",
       "      <td>2024-08-20</td>\n",
       "    </tr>\n",
       "    <tr>\n",
       "      <th>1137</th>\n",
       "      <td>2024-08-21</td>\n",
       "    </tr>\n",
       "    <tr>\n",
       "      <th>1138</th>\n",
       "      <td>2024-08-22</td>\n",
       "    </tr>\n",
       "    <tr>\n",
       "      <th>1139</th>\n",
       "      <td>2024-08-23</td>\n",
       "    </tr>\n",
       "  </tbody>\n",
       "</table>\n",
       "<p>1140 rows × 1 columns</p>\n",
       "</div>"
      ],
      "text/plain": [
       "             ds\n",
       "0    2021-02-01\n",
       "1    2021-02-02\n",
       "2    2021-02-03\n",
       "3    2021-02-04\n",
       "4    2021-02-05\n",
       "...         ...\n",
       "1135 2024-08-19\n",
       "1136 2024-08-20\n",
       "1137 2024-08-21\n",
       "1138 2024-08-22\n",
       "1139 2024-08-23\n",
       "\n",
       "[1140 rows x 1 columns]"
      ]
     },
     "execution_count": 484,
     "metadata": {},
     "output_type": "execute_result"
    }
   ],
   "source": [
    "future = m.make_future_dataframe(periods=366,freq=\"D\")\n",
    "future"
   ]
  },
  {
   "cell_type": "code",
   "execution_count": 485,
   "metadata": {},
   "outputs": [],
   "source": [
    "forcast = m.predict(future)"
   ]
  },
  {
   "cell_type": "code",
   "execution_count": 486,
   "metadata": {},
   "outputs": [
    {
     "data": {
      "text/html": [
       "<div>\n",
       "<style scoped>\n",
       "    .dataframe tbody tr th:only-of-type {\n",
       "        vertical-align: middle;\n",
       "    }\n",
       "\n",
       "    .dataframe tbody tr th {\n",
       "        vertical-align: top;\n",
       "    }\n",
       "\n",
       "    .dataframe thead th {\n",
       "        text-align: right;\n",
       "    }\n",
       "</style>\n",
       "<table border=\"1\" class=\"dataframe\">\n",
       "  <thead>\n",
       "    <tr style=\"text-align: right;\">\n",
       "      <th></th>\n",
       "      <th>ds</th>\n",
       "      <th>trend</th>\n",
       "      <th>yhat_lower</th>\n",
       "      <th>yhat_upper</th>\n",
       "      <th>trend_lower</th>\n",
       "      <th>trend_upper</th>\n",
       "      <th>additive_terms</th>\n",
       "      <th>additive_terms_lower</th>\n",
       "      <th>additive_terms_upper</th>\n",
       "      <th>weekly</th>\n",
       "      <th>weekly_lower</th>\n",
       "      <th>weekly_upper</th>\n",
       "      <th>yearly</th>\n",
       "      <th>yearly_lower</th>\n",
       "      <th>yearly_upper</th>\n",
       "      <th>multiplicative_terms</th>\n",
       "      <th>multiplicative_terms_lower</th>\n",
       "      <th>multiplicative_terms_upper</th>\n",
       "      <th>yhat</th>\n",
       "    </tr>\n",
       "  </thead>\n",
       "  <tbody>\n",
       "    <tr>\n",
       "      <th>0</th>\n",
       "      <td>2021-02-01</td>\n",
       "      <td>50.123202</td>\n",
       "      <td>-164.916167</td>\n",
       "      <td>199.185473</td>\n",
       "      <td>50.123202</td>\n",
       "      <td>50.123202</td>\n",
       "      <td>-37.666504</td>\n",
       "      <td>-37.666504</td>\n",
       "      <td>-37.666504</td>\n",
       "      <td>-3.193371</td>\n",
       "      <td>-3.193371</td>\n",
       "      <td>-3.193371</td>\n",
       "      <td>-34.473133</td>\n",
       "      <td>-34.473133</td>\n",
       "      <td>-34.473133</td>\n",
       "      <td>0.0</td>\n",
       "      <td>0.0</td>\n",
       "      <td>0.0</td>\n",
       "      <td>12.456698</td>\n",
       "    </tr>\n",
       "    <tr>\n",
       "      <th>1</th>\n",
       "      <td>2021-02-02</td>\n",
       "      <td>50.148283</td>\n",
       "      <td>-179.793612</td>\n",
       "      <td>239.761798</td>\n",
       "      <td>50.148283</td>\n",
       "      <td>50.148283</td>\n",
       "      <td>-24.026626</td>\n",
       "      <td>-24.026626</td>\n",
       "      <td>-24.026626</td>\n",
       "      <td>10.133561</td>\n",
       "      <td>10.133561</td>\n",
       "      <td>10.133561</td>\n",
       "      <td>-34.160187</td>\n",
       "      <td>-34.160187</td>\n",
       "      <td>-34.160187</td>\n",
       "      <td>0.0</td>\n",
       "      <td>0.0</td>\n",
       "      <td>0.0</td>\n",
       "      <td>26.121657</td>\n",
       "    </tr>\n",
       "    <tr>\n",
       "      <th>2</th>\n",
       "      <td>2021-02-03</td>\n",
       "      <td>50.173364</td>\n",
       "      <td>-157.334874</td>\n",
       "      <td>223.695832</td>\n",
       "      <td>50.173364</td>\n",
       "      <td>50.173364</td>\n",
       "      <td>-9.563386</td>\n",
       "      <td>-9.563386</td>\n",
       "      <td>-9.563386</td>\n",
       "      <td>24.087491</td>\n",
       "      <td>24.087491</td>\n",
       "      <td>24.087491</td>\n",
       "      <td>-33.650876</td>\n",
       "      <td>-33.650876</td>\n",
       "      <td>-33.650876</td>\n",
       "      <td>0.0</td>\n",
       "      <td>0.0</td>\n",
       "      <td>0.0</td>\n",
       "      <td>40.609978</td>\n",
       "    </tr>\n",
       "    <tr>\n",
       "      <th>3</th>\n",
       "      <td>2021-02-04</td>\n",
       "      <td>50.198445</td>\n",
       "      <td>-165.838760</td>\n",
       "      <td>219.851870</td>\n",
       "      <td>50.198445</td>\n",
       "      <td>50.198445</td>\n",
       "      <td>-21.202387</td>\n",
       "      <td>-21.202387</td>\n",
       "      <td>-21.202387</td>\n",
       "      <td>11.748628</td>\n",
       "      <td>11.748628</td>\n",
       "      <td>11.748628</td>\n",
       "      <td>-32.951015</td>\n",
       "      <td>-32.951015</td>\n",
       "      <td>-32.951015</td>\n",
       "      <td>0.0</td>\n",
       "      <td>0.0</td>\n",
       "      <td>0.0</td>\n",
       "      <td>28.996058</td>\n",
       "    </tr>\n",
       "    <tr>\n",
       "      <th>4</th>\n",
       "      <td>2021-02-05</td>\n",
       "      <td>50.223526</td>\n",
       "      <td>-151.949932</td>\n",
       "      <td>210.356374</td>\n",
       "      <td>50.223526</td>\n",
       "      <td>50.223526</td>\n",
       "      <td>-20.236170</td>\n",
       "      <td>-20.236170</td>\n",
       "      <td>-20.236170</td>\n",
       "      <td>11.835542</td>\n",
       "      <td>11.835542</td>\n",
       "      <td>11.835542</td>\n",
       "      <td>-32.071712</td>\n",
       "      <td>-32.071712</td>\n",
       "      <td>-32.071712</td>\n",
       "      <td>0.0</td>\n",
       "      <td>0.0</td>\n",
       "      <td>0.0</td>\n",
       "      <td>29.987356</td>\n",
       "    </tr>\n",
       "  </tbody>\n",
       "</table>\n",
       "</div>"
      ],
      "text/plain": [
       "          ds      trend  yhat_lower  yhat_upper  trend_lower  trend_upper   \n",
       "0 2021-02-01  50.123202 -164.916167  199.185473    50.123202    50.123202  \\\n",
       "1 2021-02-02  50.148283 -179.793612  239.761798    50.148283    50.148283   \n",
       "2 2021-02-03  50.173364 -157.334874  223.695832    50.173364    50.173364   \n",
       "3 2021-02-04  50.198445 -165.838760  219.851870    50.198445    50.198445   \n",
       "4 2021-02-05  50.223526 -151.949932  210.356374    50.223526    50.223526   \n",
       "\n",
       "   additive_terms  additive_terms_lower  additive_terms_upper     weekly   \n",
       "0      -37.666504            -37.666504            -37.666504  -3.193371  \\\n",
       "1      -24.026626            -24.026626            -24.026626  10.133561   \n",
       "2       -9.563386             -9.563386             -9.563386  24.087491   \n",
       "3      -21.202387            -21.202387            -21.202387  11.748628   \n",
       "4      -20.236170            -20.236170            -20.236170  11.835542   \n",
       "\n",
       "   weekly_lower  weekly_upper     yearly  yearly_lower  yearly_upper   \n",
       "0     -3.193371     -3.193371 -34.473133    -34.473133    -34.473133  \\\n",
       "1     10.133561     10.133561 -34.160187    -34.160187    -34.160187   \n",
       "2     24.087491     24.087491 -33.650876    -33.650876    -33.650876   \n",
       "3     11.748628     11.748628 -32.951015    -32.951015    -32.951015   \n",
       "4     11.835542     11.835542 -32.071712    -32.071712    -32.071712   \n",
       "\n",
       "   multiplicative_terms  multiplicative_terms_lower   \n",
       "0                   0.0                         0.0  \\\n",
       "1                   0.0                         0.0   \n",
       "2                   0.0                         0.0   \n",
       "3                   0.0                         0.0   \n",
       "4                   0.0                         0.0   \n",
       "\n",
       "   multiplicative_terms_upper       yhat  \n",
       "0                         0.0  12.456698  \n",
       "1                         0.0  26.121657  \n",
       "2                         0.0  40.609978  \n",
       "3                         0.0  28.996058  \n",
       "4                         0.0  29.987356  "
      ]
     },
     "execution_count": 486,
     "metadata": {},
     "output_type": "execute_result"
    }
   ],
   "source": [
    "forcast.head()"
   ]
  },
  {
   "cell_type": "code",
   "execution_count": 487,
   "metadata": {},
   "outputs": [
    {
     "data": {
      "application/vnd.plotly.v1+json": {
       "config": {
        "plotlyServerURL": "https://plot.ly"
       },
       "data": [
        {
         "hovertemplate": "ds=%{x}<br>yhat=%{y}<extra></extra>",
         "legendgroup": "",
         "line": {
          "color": "#636efa",
          "dash": "solid"
         },
         "marker": {
          "symbol": "circle"
         },
         "mode": "lines",
         "name": "",
         "orientation": "v",
         "showlegend": false,
         "type": "scatter",
         "x": [
          "2023-08-23T00:00:00",
          "2023-08-24T00:00:00",
          "2023-08-25T00:00:00",
          "2023-08-26T00:00:00",
          "2023-08-27T00:00:00",
          "2023-08-28T00:00:00",
          "2023-08-29T00:00:00",
          "2023-08-30T00:00:00",
          "2023-08-31T00:00:00",
          "2023-09-01T00:00:00",
          "2023-09-02T00:00:00",
          "2023-09-03T00:00:00",
          "2023-09-04T00:00:00",
          "2023-09-05T00:00:00",
          "2023-09-06T00:00:00",
          "2023-09-07T00:00:00",
          "2023-09-08T00:00:00",
          "2023-09-09T00:00:00",
          "2023-09-10T00:00:00",
          "2023-09-11T00:00:00",
          "2023-09-12T00:00:00",
          "2023-09-13T00:00:00",
          "2023-09-14T00:00:00",
          "2023-09-15T00:00:00",
          "2023-09-16T00:00:00",
          "2023-09-17T00:00:00",
          "2023-09-18T00:00:00",
          "2023-09-19T00:00:00",
          "2023-09-20T00:00:00",
          "2023-09-21T00:00:00",
          "2023-09-22T00:00:00",
          "2023-09-23T00:00:00",
          "2023-09-24T00:00:00",
          "2023-09-25T00:00:00",
          "2023-09-26T00:00:00",
          "2023-09-27T00:00:00",
          "2023-09-28T00:00:00",
          "2023-09-29T00:00:00",
          "2023-09-30T00:00:00",
          "2023-10-01T00:00:00",
          "2023-10-02T00:00:00",
          "2023-10-03T00:00:00",
          "2023-10-04T00:00:00",
          "2023-10-05T00:00:00",
          "2023-10-06T00:00:00",
          "2023-10-07T00:00:00",
          "2023-10-08T00:00:00",
          "2023-10-09T00:00:00",
          "2023-10-10T00:00:00",
          "2023-10-11T00:00:00",
          "2023-10-12T00:00:00",
          "2023-10-13T00:00:00",
          "2023-10-14T00:00:00",
          "2023-10-15T00:00:00",
          "2023-10-16T00:00:00",
          "2023-10-17T00:00:00",
          "2023-10-18T00:00:00",
          "2023-10-19T00:00:00",
          "2023-10-20T00:00:00",
          "2023-10-21T00:00:00",
          "2023-10-22T00:00:00",
          "2023-10-23T00:00:00",
          "2023-10-24T00:00:00",
          "2023-10-25T00:00:00",
          "2023-10-26T00:00:00",
          "2023-10-27T00:00:00",
          "2023-10-28T00:00:00",
          "2023-10-29T00:00:00",
          "2023-10-30T00:00:00",
          "2023-10-31T00:00:00",
          "2023-11-01T00:00:00",
          "2023-11-02T00:00:00",
          "2023-11-03T00:00:00",
          "2023-11-04T00:00:00",
          "2023-11-05T00:00:00",
          "2023-11-06T00:00:00",
          "2023-11-07T00:00:00",
          "2023-11-08T00:00:00",
          "2023-11-09T00:00:00",
          "2023-11-10T00:00:00",
          "2023-11-11T00:00:00",
          "2023-11-12T00:00:00",
          "2023-11-13T00:00:00",
          "2023-11-14T00:00:00",
          "2023-11-15T00:00:00",
          "2023-11-16T00:00:00",
          "2023-11-17T00:00:00",
          "2023-11-18T00:00:00",
          "2023-11-19T00:00:00",
          "2023-11-20T00:00:00",
          "2023-11-21T00:00:00",
          "2023-11-22T00:00:00",
          "2023-11-23T00:00:00",
          "2023-11-24T00:00:00",
          "2023-11-25T00:00:00",
          "2023-11-26T00:00:00",
          "2023-11-27T00:00:00",
          "2023-11-28T00:00:00",
          "2023-11-29T00:00:00",
          "2023-11-30T00:00:00",
          "2023-12-01T00:00:00",
          "2023-12-02T00:00:00",
          "2023-12-03T00:00:00",
          "2023-12-04T00:00:00",
          "2023-12-05T00:00:00",
          "2023-12-06T00:00:00",
          "2023-12-07T00:00:00",
          "2023-12-08T00:00:00",
          "2023-12-09T00:00:00",
          "2023-12-10T00:00:00",
          "2023-12-11T00:00:00",
          "2023-12-12T00:00:00",
          "2023-12-13T00:00:00",
          "2023-12-14T00:00:00",
          "2023-12-15T00:00:00",
          "2023-12-16T00:00:00",
          "2023-12-17T00:00:00",
          "2023-12-18T00:00:00",
          "2023-12-19T00:00:00",
          "2023-12-20T00:00:00",
          "2023-12-21T00:00:00",
          "2023-12-22T00:00:00",
          "2023-12-23T00:00:00",
          "2023-12-24T00:00:00",
          "2023-12-25T00:00:00",
          "2023-12-26T00:00:00",
          "2023-12-27T00:00:00",
          "2023-12-28T00:00:00",
          "2023-12-29T00:00:00",
          "2023-12-30T00:00:00",
          "2023-12-31T00:00:00",
          "2024-01-01T00:00:00",
          "2024-01-02T00:00:00",
          "2024-01-03T00:00:00",
          "2024-01-04T00:00:00",
          "2024-01-05T00:00:00",
          "2024-01-06T00:00:00",
          "2024-01-07T00:00:00",
          "2024-01-08T00:00:00",
          "2024-01-09T00:00:00",
          "2024-01-10T00:00:00",
          "2024-01-11T00:00:00",
          "2024-01-12T00:00:00",
          "2024-01-13T00:00:00",
          "2024-01-14T00:00:00",
          "2024-01-15T00:00:00",
          "2024-01-16T00:00:00",
          "2024-01-17T00:00:00",
          "2024-01-18T00:00:00",
          "2024-01-19T00:00:00",
          "2024-01-20T00:00:00",
          "2024-01-21T00:00:00",
          "2024-01-22T00:00:00",
          "2024-01-23T00:00:00",
          "2024-01-24T00:00:00",
          "2024-01-25T00:00:00",
          "2024-01-26T00:00:00",
          "2024-01-27T00:00:00",
          "2024-01-28T00:00:00",
          "2024-01-29T00:00:00",
          "2024-01-30T00:00:00",
          "2024-01-31T00:00:00",
          "2024-02-01T00:00:00",
          "2024-02-02T00:00:00",
          "2024-02-03T00:00:00",
          "2024-02-04T00:00:00",
          "2024-02-05T00:00:00",
          "2024-02-06T00:00:00",
          "2024-02-07T00:00:00",
          "2024-02-08T00:00:00",
          "2024-02-09T00:00:00",
          "2024-02-10T00:00:00",
          "2024-02-11T00:00:00",
          "2024-02-12T00:00:00",
          "2024-02-13T00:00:00",
          "2024-02-14T00:00:00",
          "2024-02-15T00:00:00",
          "2024-02-16T00:00:00",
          "2024-02-17T00:00:00",
          "2024-02-18T00:00:00",
          "2024-02-19T00:00:00",
          "2024-02-20T00:00:00",
          "2024-02-21T00:00:00",
          "2024-02-22T00:00:00",
          "2024-02-23T00:00:00",
          "2024-02-24T00:00:00",
          "2024-02-25T00:00:00",
          "2024-02-26T00:00:00",
          "2024-02-27T00:00:00",
          "2024-02-28T00:00:00",
          "2024-02-29T00:00:00",
          "2024-03-01T00:00:00",
          "2024-03-02T00:00:00",
          "2024-03-03T00:00:00",
          "2024-03-04T00:00:00",
          "2024-03-05T00:00:00",
          "2024-03-06T00:00:00",
          "2024-03-07T00:00:00",
          "2024-03-08T00:00:00",
          "2024-03-09T00:00:00",
          "2024-03-10T00:00:00",
          "2024-03-11T00:00:00",
          "2024-03-12T00:00:00",
          "2024-03-13T00:00:00",
          "2024-03-14T00:00:00",
          "2024-03-15T00:00:00",
          "2024-03-16T00:00:00",
          "2024-03-17T00:00:00",
          "2024-03-18T00:00:00",
          "2024-03-19T00:00:00",
          "2024-03-20T00:00:00",
          "2024-03-21T00:00:00",
          "2024-03-22T00:00:00",
          "2024-03-23T00:00:00",
          "2024-03-24T00:00:00",
          "2024-03-25T00:00:00",
          "2024-03-26T00:00:00",
          "2024-03-27T00:00:00",
          "2024-03-28T00:00:00",
          "2024-03-29T00:00:00",
          "2024-03-30T00:00:00",
          "2024-03-31T00:00:00",
          "2024-04-01T00:00:00",
          "2024-04-02T00:00:00",
          "2024-04-03T00:00:00",
          "2024-04-04T00:00:00",
          "2024-04-05T00:00:00",
          "2024-04-06T00:00:00",
          "2024-04-07T00:00:00",
          "2024-04-08T00:00:00",
          "2024-04-09T00:00:00",
          "2024-04-10T00:00:00",
          "2024-04-11T00:00:00",
          "2024-04-12T00:00:00",
          "2024-04-13T00:00:00",
          "2024-04-14T00:00:00",
          "2024-04-15T00:00:00",
          "2024-04-16T00:00:00",
          "2024-04-17T00:00:00",
          "2024-04-18T00:00:00",
          "2024-04-19T00:00:00",
          "2024-04-20T00:00:00",
          "2024-04-21T00:00:00",
          "2024-04-22T00:00:00",
          "2024-04-23T00:00:00",
          "2024-04-24T00:00:00",
          "2024-04-25T00:00:00",
          "2024-04-26T00:00:00",
          "2024-04-27T00:00:00",
          "2024-04-28T00:00:00",
          "2024-04-29T00:00:00",
          "2024-04-30T00:00:00",
          "2024-05-01T00:00:00",
          "2024-05-02T00:00:00",
          "2024-05-03T00:00:00",
          "2024-05-04T00:00:00",
          "2024-05-05T00:00:00",
          "2024-05-06T00:00:00",
          "2024-05-07T00:00:00",
          "2024-05-08T00:00:00",
          "2024-05-09T00:00:00",
          "2024-05-10T00:00:00",
          "2024-05-11T00:00:00",
          "2024-05-12T00:00:00",
          "2024-05-13T00:00:00",
          "2024-05-14T00:00:00",
          "2024-05-15T00:00:00",
          "2024-05-16T00:00:00",
          "2024-05-17T00:00:00",
          "2024-05-18T00:00:00",
          "2024-05-19T00:00:00",
          "2024-05-20T00:00:00",
          "2024-05-21T00:00:00",
          "2024-05-22T00:00:00",
          "2024-05-23T00:00:00",
          "2024-05-24T00:00:00",
          "2024-05-25T00:00:00",
          "2024-05-26T00:00:00",
          "2024-05-27T00:00:00",
          "2024-05-28T00:00:00",
          "2024-05-29T00:00:00",
          "2024-05-30T00:00:00",
          "2024-05-31T00:00:00",
          "2024-06-01T00:00:00",
          "2024-06-02T00:00:00",
          "2024-06-03T00:00:00",
          "2024-06-04T00:00:00",
          "2024-06-05T00:00:00",
          "2024-06-06T00:00:00",
          "2024-06-07T00:00:00",
          "2024-06-08T00:00:00",
          "2024-06-09T00:00:00",
          "2024-06-10T00:00:00",
          "2024-06-11T00:00:00",
          "2024-06-12T00:00:00",
          "2024-06-13T00:00:00",
          "2024-06-14T00:00:00",
          "2024-06-15T00:00:00",
          "2024-06-16T00:00:00",
          "2024-06-17T00:00:00",
          "2024-06-18T00:00:00",
          "2024-06-19T00:00:00",
          "2024-06-20T00:00:00",
          "2024-06-21T00:00:00",
          "2024-06-22T00:00:00",
          "2024-06-23T00:00:00",
          "2024-06-24T00:00:00",
          "2024-06-25T00:00:00",
          "2024-06-26T00:00:00",
          "2024-06-27T00:00:00",
          "2024-06-28T00:00:00",
          "2024-06-29T00:00:00",
          "2024-06-30T00:00:00",
          "2024-07-01T00:00:00",
          "2024-07-02T00:00:00",
          "2024-07-03T00:00:00",
          "2024-07-04T00:00:00",
          "2024-07-05T00:00:00",
          "2024-07-06T00:00:00",
          "2024-07-07T00:00:00",
          "2024-07-08T00:00:00",
          "2024-07-09T00:00:00",
          "2024-07-10T00:00:00",
          "2024-07-11T00:00:00",
          "2024-07-12T00:00:00",
          "2024-07-13T00:00:00",
          "2024-07-14T00:00:00",
          "2024-07-15T00:00:00",
          "2024-07-16T00:00:00",
          "2024-07-17T00:00:00",
          "2024-07-18T00:00:00",
          "2024-07-19T00:00:00",
          "2024-07-20T00:00:00",
          "2024-07-21T00:00:00",
          "2024-07-22T00:00:00",
          "2024-07-23T00:00:00",
          "2024-07-24T00:00:00",
          "2024-07-25T00:00:00",
          "2024-07-26T00:00:00",
          "2024-07-27T00:00:00",
          "2024-07-28T00:00:00",
          "2024-07-29T00:00:00",
          "2024-07-30T00:00:00",
          "2024-07-31T00:00:00",
          "2024-08-01T00:00:00",
          "2024-08-02T00:00:00",
          "2024-08-03T00:00:00",
          "2024-08-04T00:00:00",
          "2024-08-05T00:00:00",
          "2024-08-06T00:00:00",
          "2024-08-07T00:00:00",
          "2024-08-08T00:00:00",
          "2024-08-09T00:00:00",
          "2024-08-10T00:00:00",
          "2024-08-11T00:00:00",
          "2024-08-12T00:00:00",
          "2024-08-13T00:00:00",
          "2024-08-14T00:00:00",
          "2024-08-15T00:00:00",
          "2024-08-16T00:00:00",
          "2024-08-17T00:00:00",
          "2024-08-18T00:00:00",
          "2024-08-19T00:00:00",
          "2024-08-20T00:00:00",
          "2024-08-21T00:00:00",
          "2024-08-22T00:00:00",
          "2024-08-23T00:00:00"
         ],
         "xaxis": "x",
         "y": [
          150.77716385834316,
          137.87239567897655,
          137.42041620535386,
          81.0446665597756,
          114.08382987065744,
          121.08927949938955,
          134.12700212452035,
          147.87804573458953,
          135.42705934371764,
          135.49447327824396,
          79.6869051934898,
          113.32590104376305,
          120.94595984560137,
          134.59701608810136,
          148.94541198074694,
          137.0629094983826,
          137.65927575362656,
          82.3330135313456,
          116.4003353278352,
          124.39332163057254,
          138.3624322575739,
          152.97740115646457,
          141.31606618903072,
          142.09667232435982,
          86.92822821769605,
          121.13902568450257,
          129.27427671893597,
          143.39805313873086,
          158.19357742976004,
          146.75143585542543,
          147.8012726183893,
          92.96156560848115,
          127.5676134004444,
          136.1687072633848,
          150.8296907580159,
          166.23097078646023,
          155.4565637638511,
          157.22574515652357,
          103.14290889748771,
          138.5257685639705,
          147.90287239782197,
          163.31562911442649,
          179.4188988512234,
          169.2697197160868,
          171.5597215572715,
          117.86581383926085,
          153.47925735316264,
          162.90406774322645,
          178.15992238139856,
          193.8835989135843,
          183.11849000551894,
          184.547720827937,
          129.74543263344998,
          164.00632090240782,
          171.84435768816394,
          185.2958548554227,
          199.02088568351775,
          186.09260291985154,
          185.22997805819688,
          128.04852829026282,
          159.88912758677864,
          165.315844318159,
          176.4179794523664,
          187.9103443693311,
          172.92134167943706,
          170.22440229001495,
          111.4873761197415,
          142.10000559140795,
          146.6704579047954,
          157.32612377318156,
          168.8127544933089,
          154.28153189256756,
          152.5196530377895,
          95.19905244532444,
          127.70341226277,
          134.6244531304383,
          148.06272497798122,
          162.7269756878975,
          151.7216924565713,
          153.77839215985287,
          100.50527206489176,
          137.21535432309085,
          148.424094635454,
          166.1516472114862,
          185.02383261445758,
          178.06136849249722,
          183.91290200180734,
          134.10641597014765,
          173.87910210145336,
          187.67663160646336,
          207.4569764807299,
          227.79279118176663,
          221.6618808511455,
          227.68126484701037,
          177.35938218338214,
          215.92651195011518,
          227.8343246257897,
          245.05970916359604,
          262.2068836322042,
          252.29732002841493,
          254.0030028629294,
          198.89758507738364,
          232.2855370628514,
          238.70023259191362,
          250.20614899275802,
          261.49922556478526,
          245.694949982713,
          241.55973339553356,
          180.76017986827554,
          208.6903880202094,
          209.96826972814168,
          216.73610228967271,
          223.75939418594356,
          204.21366656572798,
          196.91473899680472,
          133.56714781104802,
          159.59085188820944,
          159.61722169379794,
          165.78953263215482,
          172.86204119662878,
          153.98723811612967,
          147.94685313446197,
          86.40122020796348,
          114.71713333440775,
          117.46515974133128,
          126.72159869784358,
          137.1691287513167,
          121.88569992439763,
          119.57720677739754,
          61.82851228544777,
          93.93291472802012,
          100.39098803826997,
          113.21395018073231,
          127.02557202612056,
          114.85215697568594,
          115.35610558160943,
          60.087618530577956,
          94.31461900849033,
          102.52181928675351,
          116.71408612634134,
          131.51812300842738,
          119.97201027907093,
          120.75813321612925,
          65.45407159010405,
          99.36155581195655,
          107.00444178011332,
          120.43088875353399,
          134.3137896700562,
          121.73902727292231,
          121.43711837530157,
          65.03285140174393,
          97.87305233845291,
          104.52345900720418,
          117.06991290216932,
          130.217939484161,
          117.08030786259684,
          116.40814550871431,
          59.84022196652458,
          92.73054090571065,
          99.64522004422639,
          112.66386330325572,
          126.47948695281434,
          114.18657762602342,
          114.51284128642209,
          59.06923756590855,
          93.1784168450513,
          101.3725158162065,
          115.69549094765804,
          130.8040261621266,
          119.7565673177632,
          121.24601808163442,
          66.85066851057312,
          101.86345255300269,
          110.79047147403116,
          125.65394672516041,
          141.0936258306481,
          130.1561845288758,
          131.52815395085494,
          76.78694191915538,
          111.23004588494575,
          119.37339920866046,
          133.25402218554188,
          147.53101215028659,
          135.27442918649783,
          135.19762161423094,
          78.90757738913436,
          111.73341714324647,
          118.22398946414857,
          130.44975887028824,
          143.10303956622332,
          129.28614946925407,
          127.74304544915083,
          70.10904109619588,
          101.73873602213723,
          107.20312839120076,
          118.59110986308498,
          130.60940225591918,
          116.3705140757636,
          114.62427895910548,
          57.00757595290581,
          88.87235690880772,
          94.78294679131983,
          106.81780826726364,
          119.66982041811525,
          106.43463892293414,
          105.84268794020468,
          49.50937113183112,
          82.76361428506678,
          90.14569252044157,
          103.70952095361943,
          118.12344677206849,
          106.45909906301605,
          107.42383671171015,
          52.61137319409731,
          87.33068352254531,
          96.10414067028466,
          110.97005625461532,
          126.58366094155349,
          116.00607996904051,
          117.93684465061924,
          63.96452060838739,
          99.39556117324939,
          108.75233753733805,
          124.07552563161923,
          140.02489110660625,
          129.66803428171232,
          131.7126427456908,
          77.75683935337551,
          113.11774104933644,
          122.32918694483016,
          137.4438221611905,
          153.1335849462922,
          142.47816453807292,
          144.19698249031964,
          89.89928958653843,
          124.91249749307579,
          133.77970661574133,
          148.56161903807822,
          163.93688576663786,
          152.99045686251947,
          154.44548770955436,
          99.91339356485108,
          134.72217109915016,
          143.41394753257745,
          158.04694503361466,
          173.29590807863968,
          162.24056055691068,
          163.59764383402288,
          108.97112567914263,
          143.6806963225369,
          152.259509636039,
          166.75635431324494,
          181.83629978692926,
          170.56938053853614,
          171.66286671716114,
          116.7117075049715,
          151.02725987889497,
          159.13525699230314,
          173.07819717190864,
          187.51619429266302,
          175.51584917580362,
          175.7826859222017,
          119.91173570265549,
          153.21637689063184,
          160.22638225094843,
          172.99035100228113,
          186.17656379055745,
          172.86181802182324,
          171.76378592810624,
          114.49147707309524,
          146.37391419824124,
          151.9579740289665,
          163.3105727156873,
          175.1192367837255,
          160.48062087860401,
          158.1325194871502,
          99.70396009507013,
          130.5434932890725,
          135.21663880175888,
          145.8076751784119,
          157.01982242905248,
          141.96338773691164,
          139.38743028552378,
          80.92954144054684,
          111.94386422211113,
          116.99831893196948,
          128.17622968467796,
          140.17640726408825,
          126.10126321979719,
          124.6885147206526,
          67.56107829665766,
          100.05527665377139,
          106.71832391122774,
          119.61028073223302,
          133.4045297052787,
          121.17633912131575,
          121.63506627574361,
          66.37458858449182,
          100.70207558711869,
          109.13605505153362,
          123.70895175420816,
          139.0681359496957,
          128.2650361916583,
          129.98785436665239,
          75.81245850727282,
          111.03155462574759,
          120.15308016744122,
          135.20298855807076,
          150.8264545499793,
          140.07704974023068,
          141.64942303482158,
          87.13006087660797,
          121.82623013073713,
          130.26405029714647,
          144.49087095235532,
          159.17599279909703,
          147.39929243217415,
          147.88329815073578,
          92.24330572960588,
          125.81565232362097,
          133.15511128092305,
          146.33660028245936,
          160.05525769460587,
          147.41446330643885,
          147.15736599685007,
          90.91652116682037,
          124.04176840057391,
          131.09732241738516,
          144.1632777371527,
          157.93558742531872,
          145.5140948870574,
          145.63418125033243,
          89.91662836264493,
          123.6958222777873,
          131.51726207408754,
          145.4395637553051,
          160.13500675903606,
          148.67818734681964,
          149.7783252556115,
          95.0298064343937,
          129.74106895612422,
          138.43277904936073,
          153.14046948735444,
          168.5156711888068,
          157.6150869539303,
          159.13334009174045,
          104.65386925375606,
          139.47806749447244,
          148.12360612055045,
          162.62711206726473,
          177.64522913305086,
          166.24361448358727,
          167.12940860240252,
          111.90175823054685,
          145.88050110828053,
          153.60396615592288,
          167.13107281022806,
          181.14177633058537,
          168.72542797888735,
          168.61260629684836,
          112.42501707204175,
          145.50358837080108,
          152.4057308292861,
          165.2069620059334,
          178.6009547710631,
          165.68758950408247,
          165.20457456392154
         ],
         "yaxis": "y"
        }
       ],
       "layout": {
        "legend": {
         "tracegroupgap": 0
        },
        "template": {
         "data": {
          "bar": [
           {
            "error_x": {
             "color": "#2a3f5f"
            },
            "error_y": {
             "color": "#2a3f5f"
            },
            "marker": {
             "line": {
              "color": "#E5ECF6",
              "width": 0.5
             },
             "pattern": {
              "fillmode": "overlay",
              "size": 10,
              "solidity": 0.2
             }
            },
            "type": "bar"
           }
          ],
          "barpolar": [
           {
            "marker": {
             "line": {
              "color": "#E5ECF6",
              "width": 0.5
             },
             "pattern": {
              "fillmode": "overlay",
              "size": 10,
              "solidity": 0.2
             }
            },
            "type": "barpolar"
           }
          ],
          "carpet": [
           {
            "aaxis": {
             "endlinecolor": "#2a3f5f",
             "gridcolor": "white",
             "linecolor": "white",
             "minorgridcolor": "white",
             "startlinecolor": "#2a3f5f"
            },
            "baxis": {
             "endlinecolor": "#2a3f5f",
             "gridcolor": "white",
             "linecolor": "white",
             "minorgridcolor": "white",
             "startlinecolor": "#2a3f5f"
            },
            "type": "carpet"
           }
          ],
          "choropleth": [
           {
            "colorbar": {
             "outlinewidth": 0,
             "ticks": ""
            },
            "type": "choropleth"
           }
          ],
          "contour": [
           {
            "colorbar": {
             "outlinewidth": 0,
             "ticks": ""
            },
            "colorscale": [
             [
              0,
              "#0d0887"
             ],
             [
              0.1111111111111111,
              "#46039f"
             ],
             [
              0.2222222222222222,
              "#7201a8"
             ],
             [
              0.3333333333333333,
              "#9c179e"
             ],
             [
              0.4444444444444444,
              "#bd3786"
             ],
             [
              0.5555555555555556,
              "#d8576b"
             ],
             [
              0.6666666666666666,
              "#ed7953"
             ],
             [
              0.7777777777777778,
              "#fb9f3a"
             ],
             [
              0.8888888888888888,
              "#fdca26"
             ],
             [
              1,
              "#f0f921"
             ]
            ],
            "type": "contour"
           }
          ],
          "contourcarpet": [
           {
            "colorbar": {
             "outlinewidth": 0,
             "ticks": ""
            },
            "type": "contourcarpet"
           }
          ],
          "heatmap": [
           {
            "colorbar": {
             "outlinewidth": 0,
             "ticks": ""
            },
            "colorscale": [
             [
              0,
              "#0d0887"
             ],
             [
              0.1111111111111111,
              "#46039f"
             ],
             [
              0.2222222222222222,
              "#7201a8"
             ],
             [
              0.3333333333333333,
              "#9c179e"
             ],
             [
              0.4444444444444444,
              "#bd3786"
             ],
             [
              0.5555555555555556,
              "#d8576b"
             ],
             [
              0.6666666666666666,
              "#ed7953"
             ],
             [
              0.7777777777777778,
              "#fb9f3a"
             ],
             [
              0.8888888888888888,
              "#fdca26"
             ],
             [
              1,
              "#f0f921"
             ]
            ],
            "type": "heatmap"
           }
          ],
          "heatmapgl": [
           {
            "colorbar": {
             "outlinewidth": 0,
             "ticks": ""
            },
            "colorscale": [
             [
              0,
              "#0d0887"
             ],
             [
              0.1111111111111111,
              "#46039f"
             ],
             [
              0.2222222222222222,
              "#7201a8"
             ],
             [
              0.3333333333333333,
              "#9c179e"
             ],
             [
              0.4444444444444444,
              "#bd3786"
             ],
             [
              0.5555555555555556,
              "#d8576b"
             ],
             [
              0.6666666666666666,
              "#ed7953"
             ],
             [
              0.7777777777777778,
              "#fb9f3a"
             ],
             [
              0.8888888888888888,
              "#fdca26"
             ],
             [
              1,
              "#f0f921"
             ]
            ],
            "type": "heatmapgl"
           }
          ],
          "histogram": [
           {
            "marker": {
             "pattern": {
              "fillmode": "overlay",
              "size": 10,
              "solidity": 0.2
             }
            },
            "type": "histogram"
           }
          ],
          "histogram2d": [
           {
            "colorbar": {
             "outlinewidth": 0,
             "ticks": ""
            },
            "colorscale": [
             [
              0,
              "#0d0887"
             ],
             [
              0.1111111111111111,
              "#46039f"
             ],
             [
              0.2222222222222222,
              "#7201a8"
             ],
             [
              0.3333333333333333,
              "#9c179e"
             ],
             [
              0.4444444444444444,
              "#bd3786"
             ],
             [
              0.5555555555555556,
              "#d8576b"
             ],
             [
              0.6666666666666666,
              "#ed7953"
             ],
             [
              0.7777777777777778,
              "#fb9f3a"
             ],
             [
              0.8888888888888888,
              "#fdca26"
             ],
             [
              1,
              "#f0f921"
             ]
            ],
            "type": "histogram2d"
           }
          ],
          "histogram2dcontour": [
           {
            "colorbar": {
             "outlinewidth": 0,
             "ticks": ""
            },
            "colorscale": [
             [
              0,
              "#0d0887"
             ],
             [
              0.1111111111111111,
              "#46039f"
             ],
             [
              0.2222222222222222,
              "#7201a8"
             ],
             [
              0.3333333333333333,
              "#9c179e"
             ],
             [
              0.4444444444444444,
              "#bd3786"
             ],
             [
              0.5555555555555556,
              "#d8576b"
             ],
             [
              0.6666666666666666,
              "#ed7953"
             ],
             [
              0.7777777777777778,
              "#fb9f3a"
             ],
             [
              0.8888888888888888,
              "#fdca26"
             ],
             [
              1,
              "#f0f921"
             ]
            ],
            "type": "histogram2dcontour"
           }
          ],
          "mesh3d": [
           {
            "colorbar": {
             "outlinewidth": 0,
             "ticks": ""
            },
            "type": "mesh3d"
           }
          ],
          "parcoords": [
           {
            "line": {
             "colorbar": {
              "outlinewidth": 0,
              "ticks": ""
             }
            },
            "type": "parcoords"
           }
          ],
          "pie": [
           {
            "automargin": true,
            "type": "pie"
           }
          ],
          "scatter": [
           {
            "fillpattern": {
             "fillmode": "overlay",
             "size": 10,
             "solidity": 0.2
            },
            "type": "scatter"
           }
          ],
          "scatter3d": [
           {
            "line": {
             "colorbar": {
              "outlinewidth": 0,
              "ticks": ""
             }
            },
            "marker": {
             "colorbar": {
              "outlinewidth": 0,
              "ticks": ""
             }
            },
            "type": "scatter3d"
           }
          ],
          "scattercarpet": [
           {
            "marker": {
             "colorbar": {
              "outlinewidth": 0,
              "ticks": ""
             }
            },
            "type": "scattercarpet"
           }
          ],
          "scattergeo": [
           {
            "marker": {
             "colorbar": {
              "outlinewidth": 0,
              "ticks": ""
             }
            },
            "type": "scattergeo"
           }
          ],
          "scattergl": [
           {
            "marker": {
             "colorbar": {
              "outlinewidth": 0,
              "ticks": ""
             }
            },
            "type": "scattergl"
           }
          ],
          "scattermapbox": [
           {
            "marker": {
             "colorbar": {
              "outlinewidth": 0,
              "ticks": ""
             }
            },
            "type": "scattermapbox"
           }
          ],
          "scatterpolar": [
           {
            "marker": {
             "colorbar": {
              "outlinewidth": 0,
              "ticks": ""
             }
            },
            "type": "scatterpolar"
           }
          ],
          "scatterpolargl": [
           {
            "marker": {
             "colorbar": {
              "outlinewidth": 0,
              "ticks": ""
             }
            },
            "type": "scatterpolargl"
           }
          ],
          "scatterternary": [
           {
            "marker": {
             "colorbar": {
              "outlinewidth": 0,
              "ticks": ""
             }
            },
            "type": "scatterternary"
           }
          ],
          "surface": [
           {
            "colorbar": {
             "outlinewidth": 0,
             "ticks": ""
            },
            "colorscale": [
             [
              0,
              "#0d0887"
             ],
             [
              0.1111111111111111,
              "#46039f"
             ],
             [
              0.2222222222222222,
              "#7201a8"
             ],
             [
              0.3333333333333333,
              "#9c179e"
             ],
             [
              0.4444444444444444,
              "#bd3786"
             ],
             [
              0.5555555555555556,
              "#d8576b"
             ],
             [
              0.6666666666666666,
              "#ed7953"
             ],
             [
              0.7777777777777778,
              "#fb9f3a"
             ],
             [
              0.8888888888888888,
              "#fdca26"
             ],
             [
              1,
              "#f0f921"
             ]
            ],
            "type": "surface"
           }
          ],
          "table": [
           {
            "cells": {
             "fill": {
              "color": "#EBF0F8"
             },
             "line": {
              "color": "white"
             }
            },
            "header": {
             "fill": {
              "color": "#C8D4E3"
             },
             "line": {
              "color": "white"
             }
            },
            "type": "table"
           }
          ]
         },
         "layout": {
          "annotationdefaults": {
           "arrowcolor": "#2a3f5f",
           "arrowhead": 0,
           "arrowwidth": 1
          },
          "autotypenumbers": "strict",
          "coloraxis": {
           "colorbar": {
            "outlinewidth": 0,
            "ticks": ""
           }
          },
          "colorscale": {
           "diverging": [
            [
             0,
             "#8e0152"
            ],
            [
             0.1,
             "#c51b7d"
            ],
            [
             0.2,
             "#de77ae"
            ],
            [
             0.3,
             "#f1b6da"
            ],
            [
             0.4,
             "#fde0ef"
            ],
            [
             0.5,
             "#f7f7f7"
            ],
            [
             0.6,
             "#e6f5d0"
            ],
            [
             0.7,
             "#b8e186"
            ],
            [
             0.8,
             "#7fbc41"
            ],
            [
             0.9,
             "#4d9221"
            ],
            [
             1,
             "#276419"
            ]
           ],
           "sequential": [
            [
             0,
             "#0d0887"
            ],
            [
             0.1111111111111111,
             "#46039f"
            ],
            [
             0.2222222222222222,
             "#7201a8"
            ],
            [
             0.3333333333333333,
             "#9c179e"
            ],
            [
             0.4444444444444444,
             "#bd3786"
            ],
            [
             0.5555555555555556,
             "#d8576b"
            ],
            [
             0.6666666666666666,
             "#ed7953"
            ],
            [
             0.7777777777777778,
             "#fb9f3a"
            ],
            [
             0.8888888888888888,
             "#fdca26"
            ],
            [
             1,
             "#f0f921"
            ]
           ],
           "sequentialminus": [
            [
             0,
             "#0d0887"
            ],
            [
             0.1111111111111111,
             "#46039f"
            ],
            [
             0.2222222222222222,
             "#7201a8"
            ],
            [
             0.3333333333333333,
             "#9c179e"
            ],
            [
             0.4444444444444444,
             "#bd3786"
            ],
            [
             0.5555555555555556,
             "#d8576b"
            ],
            [
             0.6666666666666666,
             "#ed7953"
            ],
            [
             0.7777777777777778,
             "#fb9f3a"
            ],
            [
             0.8888888888888888,
             "#fdca26"
            ],
            [
             1,
             "#f0f921"
            ]
           ]
          },
          "colorway": [
           "#636efa",
           "#EF553B",
           "#00cc96",
           "#ab63fa",
           "#FFA15A",
           "#19d3f3",
           "#FF6692",
           "#B6E880",
           "#FF97FF",
           "#FECB52"
          ],
          "font": {
           "color": "#2a3f5f"
          },
          "geo": {
           "bgcolor": "white",
           "lakecolor": "white",
           "landcolor": "#E5ECF6",
           "showlakes": true,
           "showland": true,
           "subunitcolor": "white"
          },
          "hoverlabel": {
           "align": "left"
          },
          "hovermode": "closest",
          "mapbox": {
           "style": "light"
          },
          "paper_bgcolor": "white",
          "plot_bgcolor": "#E5ECF6",
          "polar": {
           "angularaxis": {
            "gridcolor": "white",
            "linecolor": "white",
            "ticks": ""
           },
           "bgcolor": "#E5ECF6",
           "radialaxis": {
            "gridcolor": "white",
            "linecolor": "white",
            "ticks": ""
           }
          },
          "scene": {
           "xaxis": {
            "backgroundcolor": "#E5ECF6",
            "gridcolor": "white",
            "gridwidth": 2,
            "linecolor": "white",
            "showbackground": true,
            "ticks": "",
            "zerolinecolor": "white"
           },
           "yaxis": {
            "backgroundcolor": "#E5ECF6",
            "gridcolor": "white",
            "gridwidth": 2,
            "linecolor": "white",
            "showbackground": true,
            "ticks": "",
            "zerolinecolor": "white"
           },
           "zaxis": {
            "backgroundcolor": "#E5ECF6",
            "gridcolor": "white",
            "gridwidth": 2,
            "linecolor": "white",
            "showbackground": true,
            "ticks": "",
            "zerolinecolor": "white"
           }
          },
          "shapedefaults": {
           "line": {
            "color": "#2a3f5f"
           }
          },
          "ternary": {
           "aaxis": {
            "gridcolor": "white",
            "linecolor": "white",
            "ticks": ""
           },
           "baxis": {
            "gridcolor": "white",
            "linecolor": "white",
            "ticks": ""
           },
           "bgcolor": "#E5ECF6",
           "caxis": {
            "gridcolor": "white",
            "linecolor": "white",
            "ticks": ""
           }
          },
          "title": {
           "x": 0.05
          },
          "xaxis": {
           "automargin": true,
           "gridcolor": "white",
           "linecolor": "white",
           "ticks": "",
           "title": {
            "standoff": 15
           },
           "zerolinecolor": "white",
           "zerolinewidth": 2
          },
          "yaxis": {
           "automargin": true,
           "gridcolor": "white",
           "linecolor": "white",
           "ticks": "",
           "title": {
            "standoff": 15
           },
           "zerolinecolor": "white",
           "zerolinewidth": 2
          }
         }
        },
        "title": {
         "text": "Gráfico de Ventas Diarias desde 23/08/2023 al 29 de agosto del 2024"
        },
        "xaxis": {
         "anchor": "y",
         "domain": [
          0,
          1
         ],
         "title": {
          "text": "ds"
         }
        },
        "yaxis": {
         "anchor": "x",
         "domain": [
          0,
          1
         ],
         "title": {
          "text": "yhat"
         }
        }
       }
      }
     },
     "metadata": {},
     "output_type": "display_data"
    }
   ],
   "source": [
    "forcast_filtered = forcast[forcast['ds'] >= '2023-08-23']\n",
    "\n",
    "# Crear el gráfico con Plotly Express\n",
    "fig = px.line(forcast_filtered, x='ds', y='yhat', title='Gráfico de Ventas Diarias desde 23/08/2023 al 29 de agosto del 2024')\n",
    "\n",
    "# Mostrar el gráfico\n",
    "fig.show()"
   ]
  },
  {
   "cell_type": "code",
   "execution_count": 533,
   "metadata": {},
   "outputs": [],
   "source": [
    "datos2023 = pd.read_csv(\"datos_limpios_pro_CON2023.csv\") "
   ]
  },
  {
   "cell_type": "code",
   "execution_count": 534,
   "metadata": {},
   "outputs": [],
   "source": [
    "columnas_deseadas = ['fecha', 'descrip',\"suc\",\"nombre_color\",\"cantidad\"]"
   ]
  },
  {
   "cell_type": "code",
   "execution_count": 535,
   "metadata": {},
   "outputs": [],
   "source": [
    "datos2023 = datos2023[columnas_deseadas]"
   ]
  },
  {
   "cell_type": "code",
   "execution_count": 537,
   "metadata": {},
   "outputs": [
    {
     "data": {
      "text/plain": [
       "(35,)"
      ]
     },
     "execution_count": 537,
     "metadata": {},
     "output_type": "execute_result"
    }
   ],
   "source": [
    "datos2023['nombre_color'] = datos2023['nombre_color'].apply(limpiar_color)\n",
    "datos2023[\"descrip\"] = datos2023[\"descrip\"].apply(limpiar_tela)\n",
    "datos2023['nombre_color'].unique().shape"
   ]
  },
  {
   "cell_type": "code",
   "execution_count": 538,
   "metadata": {},
   "outputs": [],
   "source": [
    "datos2023 = datos2023.groupby(['fecha', 'descrip', 'nombre_color', 'suc']).agg({'cantidad': 'sum'}).reset_index()\n",
    "\n",
    "# Eliminar columnas innecesarias\n",
    "datos2023 = datos2023[['fecha', 'descrip', 'nombre_color', 'suc', 'cantidad']]"
   ]
  },
  {
   "cell_type": "code",
   "execution_count": 539,
   "metadata": {},
   "outputs": [
    {
     "name": "stdout",
     "output_type": "stream",
     "text": [
      "Combinación con mayor cantidad de registros:\n",
      "nombre_color    BLANCO\n",
      "descrip         DIOLEN\n",
      "suc                  2\n",
      "Name: 3225, dtype: object\n",
      "Cantidad de registros: 934\n"
     ]
    }
   ],
   "source": [
    "frecuencia_combinaciones = datos2023.groupby(['nombre_color', 'descrip', 'suc']).size().reset_index(name='cantidad_registros')\n",
    "\n",
    "# Encontrar la combinación con la mayor cantidad de registros\n",
    "combinacion_max_registros = frecuencia_combinaciones.loc[frecuencia_combinaciones['cantidad_registros'].idxmax()]\n",
    "\n",
    "# Imprimir los resultados\n",
    "print(\"Combinación con mayor cantidad de registros:\")\n",
    "print(combinacion_max_registros[['nombre_color', 'descrip', 'suc']])\n",
    "print(f\"Cantidad de registros: {combinacion_max_registros['cantidad_registros']}\")"
   ]
  },
  {
   "cell_type": "code",
   "execution_count": 540,
   "metadata": {},
   "outputs": [],
   "source": [
    "df = datos2023[(datos2023['descrip'] == 'DIOLEN') & \n",
    "              (datos2023['nombre_color'] == 'BLANCO') & \n",
    "              (datos2023['suc'].astype('int64') == 2)]"
   ]
  },
  {
   "cell_type": "code",
   "execution_count": 546,
   "metadata": {},
   "outputs": [
    {
     "name": "stdout",
     "output_type": "stream",
     "text": [
      "La sumatoria de 'cantidad' desde el 23/08/2023 hasta el 31/12/2023 es: 14813.94\n"
     ]
    }
   ],
   "source": [
    "filtro_fechas = (df['fecha'] >= '2023-08-23') & (df['fecha'] <= '2023-12-31')\n",
    "datos_filtrados = df[filtro_fechas]\n",
    "\n",
    "# Calcula la sumatoria de la columna 'cantidad' en el DataFrame filtrado\n",
    "sumatoria_cantidad = datos_filtrados['cantidad'].sum()\n",
    "\n",
    "# Imprime la sumatoria\n",
    "print(f\"La sumatoria de 'cantidad' desde el 23/08/2023 hasta el 31/12/2023 es: {sumatoria_cantidad}\")"
   ]
  },
  {
   "cell_type": "code",
   "execution_count": 545,
   "metadata": {},
   "outputs": [
    {
     "name": "stdout",
     "output_type": "stream",
     "text": [
      "La sumatoria de 'cantidad' desde el 23/08/2023 hasta el 31/12/2023 es: 20918.497959270535\n"
     ]
    }
   ],
   "source": [
    "filtro_fechas = (forcast['ds'] >= '2023-08-23') & (forcast['ds'] <= '2023-12-31')\n",
    "datos_filtrados = forcast[filtro_fechas]\n",
    "\n",
    "# Calcula la sumatoria de la columna 'cantidad' en el DataFrame filtrado\n",
    "sumatoria_cantidad = datos_filtrados['yhat'].sum()\n",
    "\n",
    "# Imprime la sumatoria\n",
    "print(f\"La sumatoria de 'cantidad' desde el 23/08/2023 hasta el 31/12/2023 es: {sumatoria_cantidad}\")"
   ]
  },
  {
   "cell_type": "code",
   "execution_count": null,
   "metadata": {},
   "outputs": [],
   "source": []
  }
 ],
 "metadata": {
  "kernelspec": {
   "display_name": "Python 3",
   "language": "python",
   "name": "python3"
  },
  "language_info": {
   "codemirror_mode": {
    "name": "ipython",
    "version": 3
   },
   "file_extension": ".py",
   "mimetype": "text/x-python",
   "name": "python",
   "nbconvert_exporter": "python",
   "pygments_lexer": "ipython3",
   "version": "3.11.1"
  }
 },
 "nbformat": 4,
 "nbformat_minor": 2
}
